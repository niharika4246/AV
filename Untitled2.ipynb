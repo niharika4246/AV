{
  "nbformat": 4,
  "nbformat_minor": 0,
  "metadata": {
    "colab": {
      "name": "Untitled2.ipynb",
      "provenance": [],
      "collapsed_sections": [],
      "include_colab_link": true
    },
    "kernelspec": {
      "name": "python3",
      "display_name": "Python 3"
    },
    "language_info": {
      "name": "python"
    }
  },
  "cells": [
    {
      "cell_type": "markdown",
      "metadata": {
        "id": "view-in-github",
        "colab_type": "text"
      },
      "source": [
        "<a href=\"https://colab.research.google.com/github/niharika4246/AV/blob/master/Untitled2.ipynb\" target=\"_parent\"><img src=\"https://colab.research.google.com/assets/colab-badge.svg\" alt=\"Open In Colab\"/></a>"
      ]
    },
    {
      "cell_type": "code",
      "metadata": {
        "id": "hRh9wT36r3Wj"
      },
      "source": [
        "import pandas as pd\n",
        "from datetime import datetime\n",
        "import tensorflow as tf\n",
        "import numpy as np\n",
        "import matplotlib.pyplot as plt\n",
        "import math\n",
        "from keras.models import Sequential\n",
        "from keras.layers import Dense\n",
        "from keras.layers import LSTM\n",
        "from sklearn.preprocessing import MinMaxScaler\n",
        "from sklearn.metrics import mean_squared_error\n",
        "import sklearn"
      ],
      "execution_count": null,
      "outputs": []
    },
    {
      "cell_type": "code",
      "metadata": {
        "colab": {
          "base_uri": "https://localhost:8080/"
        },
        "id": "ulRWDrsfr_fZ",
        "outputId": "32c9c2b8-4048-48aa-d62e-1b12a30984d8"
      },
      "source": [
        "from google.colab import drive\n",
        "drive.mount('/content/drive')"
      ],
      "execution_count": null,
      "outputs": [
        {
          "output_type": "stream",
          "text": [
            "Drive already mounted at /content/drive; to attempt to forcibly remount, call drive.mount(\"/content/drive\", force_remount=True).\n"
          ],
          "name": "stdout"
        }
      ]
    },
    {
      "cell_type": "code",
      "metadata": {
        "id": "oIYlES99sDH6"
      },
      "source": [
        "df=pd.read_csv('/content/drive/MyDrive/dataset_tk.csv',index_col='Date',parse_dates=True)"
      ],
      "execution_count": null,
      "outputs": []
    },
    {
      "cell_type": "code",
      "metadata": {
        "colab": {
          "base_uri": "https://localhost:8080/",
          "height": 357
        },
        "id": "ndr9u9JasQuh",
        "outputId": "6b566886-59c9-4f56-9e38-6d889cebc913"
      },
      "source": [
        "df.head()"
      ],
      "execution_count": null,
      "outputs": [
        {
          "output_type": "execute_result",
          "data": {
            "text/html": [
              "<div>\n",
              "<style scoped>\n",
              "    .dataframe tbody tr th:only-of-type {\n",
              "        vertical-align: middle;\n",
              "    }\n",
              "\n",
              "    .dataframe tbody tr th {\n",
              "        vertical-align: top;\n",
              "    }\n",
              "\n",
              "    .dataframe thead th {\n",
              "        text-align: right;\n",
              "    }\n",
              "</style>\n",
              "<table border=\"1\" class=\"dataframe\">\n",
              "  <thead>\n",
              "    <tr style=\"text-align: right;\">\n",
              "      <th></th>\n",
              "      <th>Punjab</th>\n",
              "      <th>Haryana</th>\n",
              "      <th>Rajasthan</th>\n",
              "      <th>Delhi</th>\n",
              "      <th>UP</th>\n",
              "      <th>Uttarakhand</th>\n",
              "      <th>HP</th>\n",
              "      <th>J&amp;K</th>\n",
              "      <th>Chandigarh</th>\n",
              "      <th>Chhattisgarh</th>\n",
              "      <th>Gujarat</th>\n",
              "      <th>MP</th>\n",
              "      <th>Maharashtra</th>\n",
              "      <th>Goa</th>\n",
              "      <th>DNH</th>\n",
              "      <th>Andhra Pradesh</th>\n",
              "      <th>Telangana</th>\n",
              "      <th>Karnataka</th>\n",
              "      <th>Kerala</th>\n",
              "      <th>Tamil Nadu</th>\n",
              "      <th>Pondy</th>\n",
              "      <th>Bihar</th>\n",
              "      <th>Jharkhand</th>\n",
              "      <th>Odisha</th>\n",
              "      <th>West Bengal</th>\n",
              "      <th>Sikkim</th>\n",
              "      <th>Arunachal Pradesh</th>\n",
              "      <th>Assam</th>\n",
              "      <th>Manipur</th>\n",
              "      <th>Meghalaya</th>\n",
              "      <th>Mizoram</th>\n",
              "      <th>Nagaland</th>\n",
              "      <th>Tripura</th>\n",
              "      <th>Total Consumption</th>\n",
              "    </tr>\n",
              "    <tr>\n",
              "      <th>Date</th>\n",
              "      <th></th>\n",
              "      <th></th>\n",
              "      <th></th>\n",
              "      <th></th>\n",
              "      <th></th>\n",
              "      <th></th>\n",
              "      <th></th>\n",
              "      <th></th>\n",
              "      <th></th>\n",
              "      <th></th>\n",
              "      <th></th>\n",
              "      <th></th>\n",
              "      <th></th>\n",
              "      <th></th>\n",
              "      <th></th>\n",
              "      <th></th>\n",
              "      <th></th>\n",
              "      <th></th>\n",
              "      <th></th>\n",
              "      <th></th>\n",
              "      <th></th>\n",
              "      <th></th>\n",
              "      <th></th>\n",
              "      <th></th>\n",
              "      <th></th>\n",
              "      <th></th>\n",
              "      <th></th>\n",
              "      <th></th>\n",
              "      <th></th>\n",
              "      <th></th>\n",
              "      <th></th>\n",
              "      <th></th>\n",
              "      <th></th>\n",
              "      <th></th>\n",
              "    </tr>\n",
              "  </thead>\n",
              "  <tbody>\n",
              "    <tr>\n",
              "      <th>2019-01-01</th>\n",
              "      <td>NaN</td>\n",
              "      <td>NaN</td>\n",
              "      <td>NaN</td>\n",
              "      <td>NaN</td>\n",
              "      <td>NaN</td>\n",
              "      <td>NaN</td>\n",
              "      <td>NaN</td>\n",
              "      <td>NaN</td>\n",
              "      <td>NaN</td>\n",
              "      <td>NaN</td>\n",
              "      <td>NaN</td>\n",
              "      <td>NaN</td>\n",
              "      <td>NaN</td>\n",
              "      <td>NaN</td>\n",
              "      <td>NaN</td>\n",
              "      <td>NaN</td>\n",
              "      <td>NaN</td>\n",
              "      <td>NaN</td>\n",
              "      <td>NaN</td>\n",
              "      <td>NaN</td>\n",
              "      <td>NaN</td>\n",
              "      <td>NaN</td>\n",
              "      <td>NaN</td>\n",
              "      <td>NaN</td>\n",
              "      <td>NaN</td>\n",
              "      <td>NaN</td>\n",
              "      <td>NaN</td>\n",
              "      <td>NaN</td>\n",
              "      <td>NaN</td>\n",
              "      <td>NaN</td>\n",
              "      <td>NaN</td>\n",
              "      <td>NaN</td>\n",
              "      <td>NaN</td>\n",
              "      <td>NaN</td>\n",
              "    </tr>\n",
              "    <tr>\n",
              "      <th>2019-02-01</th>\n",
              "      <td>119.9</td>\n",
              "      <td>130.3</td>\n",
              "      <td>234.1</td>\n",
              "      <td>85.8</td>\n",
              "      <td>313.9</td>\n",
              "      <td>40.7</td>\n",
              "      <td>30.0</td>\n",
              "      <td>52.5</td>\n",
              "      <td>5.0</td>\n",
              "      <td>78.7</td>\n",
              "      <td>319.5</td>\n",
              "      <td>253.0</td>\n",
              "      <td>428.6</td>\n",
              "      <td>12.8</td>\n",
              "      <td>18.6</td>\n",
              "      <td>164.6</td>\n",
              "      <td>204.2</td>\n",
              "      <td>206.3</td>\n",
              "      <td>72.7</td>\n",
              "      <td>268.3</td>\n",
              "      <td>6.3</td>\n",
              "      <td>82.3</td>\n",
              "      <td>24.8</td>\n",
              "      <td>70.2</td>\n",
              "      <td>108.2</td>\n",
              "      <td>2.0</td>\n",
              "      <td>2.1</td>\n",
              "      <td>21.7</td>\n",
              "      <td>2.7</td>\n",
              "      <td>6.1</td>\n",
              "      <td>1.9</td>\n",
              "      <td>2.2</td>\n",
              "      <td>3.4</td>\n",
              "      <td>3373.4</td>\n",
              "    </tr>\n",
              "    <tr>\n",
              "      <th>2019-03-01</th>\n",
              "      <td>121.9</td>\n",
              "      <td>133.5</td>\n",
              "      <td>240.2</td>\n",
              "      <td>85.5</td>\n",
              "      <td>311.8</td>\n",
              "      <td>39.3</td>\n",
              "      <td>30.1</td>\n",
              "      <td>54.1</td>\n",
              "      <td>4.9</td>\n",
              "      <td>78.8</td>\n",
              "      <td>316.7</td>\n",
              "      <td>253.6</td>\n",
              "      <td>419.6</td>\n",
              "      <td>13.7</td>\n",
              "      <td>18.2</td>\n",
              "      <td>170.1</td>\n",
              "      <td>204.5</td>\n",
              "      <td>212.2</td>\n",
              "      <td>73.6</td>\n",
              "      <td>285.2</td>\n",
              "      <td>6.5</td>\n",
              "      <td>82.0</td>\n",
              "      <td>25.6</td>\n",
              "      <td>67.9</td>\n",
              "      <td>110.2</td>\n",
              "      <td>1.9</td>\n",
              "      <td>2.2</td>\n",
              "      <td>23.4</td>\n",
              "      <td>2.4</td>\n",
              "      <td>6.5</td>\n",
              "      <td>1.8</td>\n",
              "      <td>2.2</td>\n",
              "      <td>3.6</td>\n",
              "      <td>3403.7</td>\n",
              "    </tr>\n",
              "    <tr>\n",
              "      <th>2019-04-01</th>\n",
              "      <td>118.8</td>\n",
              "      <td>128.2</td>\n",
              "      <td>239.8</td>\n",
              "      <td>83.5</td>\n",
              "      <td>320.7</td>\n",
              "      <td>38.1</td>\n",
              "      <td>30.1</td>\n",
              "      <td>53.2</td>\n",
              "      <td>4.8</td>\n",
              "      <td>74.8</td>\n",
              "      <td>301.9</td>\n",
              "      <td>239.3</td>\n",
              "      <td>395.8</td>\n",
              "      <td>12.6</td>\n",
              "      <td>16.7</td>\n",
              "      <td>165.2</td>\n",
              "      <td>201.2</td>\n",
              "      <td>205.3</td>\n",
              "      <td>73.4</td>\n",
              "      <td>270.3</td>\n",
              "      <td>6.4</td>\n",
              "      <td>82.9</td>\n",
              "      <td>26.3</td>\n",
              "      <td>66.3</td>\n",
              "      <td>106.8</td>\n",
              "      <td>1.7</td>\n",
              "      <td>2.2</td>\n",
              "      <td>21.7</td>\n",
              "      <td>2.4</td>\n",
              "      <td>6.3</td>\n",
              "      <td>1.7</td>\n",
              "      <td>2.2</td>\n",
              "      <td>3.5</td>\n",
              "      <td>3304.1</td>\n",
              "    </tr>\n",
              "    <tr>\n",
              "      <th>2019-05-01</th>\n",
              "      <td>121.0</td>\n",
              "      <td>127.5</td>\n",
              "      <td>239.1</td>\n",
              "      <td>79.2</td>\n",
              "      <td>299.0</td>\n",
              "      <td>39.2</td>\n",
              "      <td>30.2</td>\n",
              "      <td>51.5</td>\n",
              "      <td>4.3</td>\n",
              "      <td>69.0</td>\n",
              "      <td>313.2</td>\n",
              "      <td>228.2</td>\n",
              "      <td>411.1</td>\n",
              "      <td>13.0</td>\n",
              "      <td>17.6</td>\n",
              "      <td>167.4</td>\n",
              "      <td>201.7</td>\n",
              "      <td>212.4</td>\n",
              "      <td>75.4</td>\n",
              "      <td>286.8</td>\n",
              "      <td>6.6</td>\n",
              "      <td>77.0</td>\n",
              "      <td>23.0</td>\n",
              "      <td>65.8</td>\n",
              "      <td>107.0</td>\n",
              "      <td>2.0</td>\n",
              "      <td>2.2</td>\n",
              "      <td>22.5</td>\n",
              "      <td>2.7</td>\n",
              "      <td>5.7</td>\n",
              "      <td>1.8</td>\n",
              "      <td>2.3</td>\n",
              "      <td>3.5</td>\n",
              "      <td>3308.9</td>\n",
              "    </tr>\n",
              "  </tbody>\n",
              "</table>\n",
              "</div>"
            ],
            "text/plain": [
              "            Punjab  Haryana  Rajasthan  ...  Nagaland  Tripura  Total Consumption\n",
              "Date                                    ...                                      \n",
              "2019-01-01     NaN      NaN        NaN  ...       NaN      NaN                NaN\n",
              "2019-02-01   119.9    130.3      234.1  ...       2.2      3.4             3373.4\n",
              "2019-03-01   121.9    133.5      240.2  ...       2.2      3.6             3403.7\n",
              "2019-04-01   118.8    128.2      239.8  ...       2.2      3.5             3304.1\n",
              "2019-05-01   121.0    127.5      239.1  ...       2.3      3.5             3308.9\n",
              "\n",
              "[5 rows x 34 columns]"
            ]
          },
          "metadata": {
            "tags": []
          },
          "execution_count": 331
        }
      ]
    },
    {
      "cell_type": "code",
      "metadata": {
        "colab": {
          "base_uri": "https://localhost:8080/"
        },
        "id": "f8nIk4LOsoGH",
        "outputId": "484fb7a2-f4ad-4e17-9b3d-21e2c7cf5017"
      },
      "source": [
        "df.info"
      ],
      "execution_count": null,
      "outputs": [
        {
          "output_type": "execute_result",
          "data": {
            "text/plain": [
              "<bound method DataFrame.info of             Punjab  Haryana  Rajasthan  ...  Nagaland  Tripura  Total Consumption\n",
              "Date                                    ...                                      \n",
              "2019-01-01     NaN      NaN        NaN  ...       NaN      NaN                NaN\n",
              "2019-02-01   119.9    130.3      234.1  ...       2.2      3.4             3373.4\n",
              "2019-03-01   121.9    133.5      240.2  ...       2.2      3.6             3403.7\n",
              "2019-04-01   118.8    128.2      239.8  ...       2.2      3.5             3304.1\n",
              "2019-05-01   121.0    127.5      239.1  ...       2.3      3.5             3308.9\n",
              "...            ...      ...        ...  ...       ...      ...                ...\n",
              "NaT            NaN      NaN        NaN  ...       NaN      NaN                NaN\n",
              "NaT            NaN      NaN        NaN  ...       NaN      NaN                NaN\n",
              "NaT            NaN      NaN        NaN  ...       NaN      NaN                NaN\n",
              "NaT            NaN      NaN        NaN  ...       NaN      NaN                NaN\n",
              "NaT            NaN      NaN        NaN  ...       NaN      NaN                NaN\n",
              "\n",
              "[544 rows x 34 columns]>"
            ]
          },
          "metadata": {
            "tags": []
          },
          "execution_count": 332
        }
      ]
    },
    {
      "cell_type": "code",
      "metadata": {
        "id": "7cgKrbGGsQp-"
      },
      "source": [
        "idx=df.index"
      ],
      "execution_count": null,
      "outputs": []
    },
    {
      "cell_type": "code",
      "metadata": {
        "colab": {
          "base_uri": "https://localhost:8080/"
        },
        "id": "S2EuFK8Ku7td",
        "outputId": "a71cef1b-0a29-425c-acf9-69148645af2f"
      },
      "source": [
        "idx.drop_duplicates(keep='first')"
      ],
      "execution_count": null,
      "outputs": [
        {
          "output_type": "execute_result",
          "data": {
            "text/plain": [
              "DatetimeIndex(['2019-01-01', '2019-02-01', '2019-03-01', '2019-04-01',\n",
              "               '2019-05-01', '2019-06-01', '2019-07-01', '2019-08-01',\n",
              "               '2019-09-01', '2019-10-01',\n",
              "               ...\n",
              "               '2020-05-15', '2020-05-16', '2020-05-17', '2020-05-18',\n",
              "               '2020-05-19', '2020-05-20', '2020-05-21', '2020-05-22',\n",
              "               '2020-05-23',        'NaT'],\n",
              "              dtype='datetime64[ns]', name='Date', length=510, freq=None)"
            ]
          },
          "metadata": {
            "tags": []
          },
          "execution_count": 334
        }
      ]
    },
    {
      "cell_type": "code",
      "metadata": {
        "colab": {
          "base_uri": "https://localhost:8080/"
        },
        "id": "ddWWrrxCsQlE",
        "outputId": "62fa56d8-630e-4bd5-90cd-ccb911b2ca6c"
      },
      "source": [
        "print(df.tail())\n",
        "#print(df[183:200])     "
      ],
      "execution_count": null,
      "outputs": [
        {
          "output_type": "stream",
          "text": [
            "      Punjab  Haryana  Rajasthan  ...  Nagaland  Tripura  Total Consumption\n",
            "Date                              ...                                      \n",
            "NaT      NaN      NaN        NaN  ...       NaN      NaN                NaN\n",
            "NaT      NaN      NaN        NaN  ...       NaN      NaN                NaN\n",
            "NaT      NaN      NaN        NaN  ...       NaN      NaN                NaN\n",
            "NaT      NaN      NaN        NaN  ...       NaN      NaN                NaN\n",
            "NaT      NaN      NaN        NaN  ...       NaN      NaN                NaN\n",
            "\n",
            "[5 rows x 34 columns]\n"
          ],
          "name": "stdout"
        }
      ]
    },
    {
      "cell_type": "code",
      "metadata": {
        "id": "WZjmWmCOsQXo"
      },
      "source": [
        "df.fillna(df.mean(), inplace=True)"
      ],
      "execution_count": null,
      "outputs": []
    },
    {
      "cell_type": "code",
      "metadata": {
        "colab": {
          "base_uri": "https://localhost:8080/"
        },
        "id": "6UaGauXRuMj9",
        "outputId": "e3ee9b23-c1a2-4409-b517-c33a53cd49a0"
      },
      "source": [
        "print(df.tail(40))"
      ],
      "execution_count": null,
      "outputs": [
        {
          "output_type": "stream",
          "text": [
            "               Punjab     Haryana  ...  Tripura  Total Consumption\n",
            "Date                               ...                            \n",
            "2020-05-19  120.50000  131.600000  ...  3.10000         3532.70000\n",
            "2020-05-20  123.80000  131.600000  ...  3.60000         3554.50000\n",
            "2020-05-21  126.00000  133.000000  ...  3.70000         3555.10000\n",
            "2020-05-22  127.20000  131.600000  ...  3.40000         3515.10000\n",
            "2020-05-23  121.60000  122.900000  ...  3.40000         3361.20000\n",
            "NaT         139.52635  137.650108  ...  4.10216         3395.67797\n",
            "NaT         139.52635  137.650108  ...  4.10216         3395.67797\n",
            "NaT         139.52635  137.650108  ...  4.10216         3395.67797\n",
            "NaT         139.52635  137.650108  ...  4.10216         3395.67797\n",
            "NaT         139.52635  137.650108  ...  4.10216         3395.67797\n",
            "NaT         139.52635  137.650108  ...  4.10216         3395.67797\n",
            "NaT         139.52635  137.650108  ...  4.10216         3395.67797\n",
            "NaT         139.52635  137.650108  ...  4.10216         3395.67797\n",
            "NaT         139.52635  137.650108  ...  4.10216         3395.67797\n",
            "NaT         139.52635  137.650108  ...  4.10216         3395.67797\n",
            "NaT         139.52635  137.650108  ...  4.10216         3395.67797\n",
            "NaT         139.52635  137.650108  ...  4.10216         3395.67797\n",
            "NaT         139.52635  137.650108  ...  4.10216         3395.67797\n",
            "NaT         139.52635  137.650108  ...  4.10216         3395.67797\n",
            "NaT         139.52635  137.650108  ...  4.10216         3395.67797\n",
            "NaT         139.52635  137.650108  ...  4.10216         3395.67797\n",
            "NaT         139.52635  137.650108  ...  4.10216         3395.67797\n",
            "NaT         139.52635  137.650108  ...  4.10216         3395.67797\n",
            "NaT         139.52635  137.650108  ...  4.10216         3395.67797\n",
            "NaT         139.52635  137.650108  ...  4.10216         3395.67797\n",
            "NaT         139.52635  137.650108  ...  4.10216         3395.67797\n",
            "NaT         139.52635  137.650108  ...  4.10216         3395.67797\n",
            "NaT         139.52635  137.650108  ...  4.10216         3395.67797\n",
            "NaT         139.52635  137.650108  ...  4.10216         3395.67797\n",
            "NaT         139.52635  137.650108  ...  4.10216         3395.67797\n",
            "NaT         139.52635  137.650108  ...  4.10216         3395.67797\n",
            "NaT         139.52635  137.650108  ...  4.10216         3395.67797\n",
            "NaT         139.52635  137.650108  ...  4.10216         3395.67797\n",
            "NaT         139.52635  137.650108  ...  4.10216         3395.67797\n",
            "NaT         139.52635  137.650108  ...  4.10216         3395.67797\n",
            "NaT         139.52635  137.650108  ...  4.10216         3395.67797\n",
            "NaT         139.52635  137.650108  ...  4.10216         3395.67797\n",
            "NaT         139.52635  137.650108  ...  4.10216         3395.67797\n",
            "NaT         139.52635  137.650108  ...  4.10216         3395.67797\n",
            "NaT         139.52635  137.650108  ...  4.10216         3395.67797\n",
            "\n",
            "[40 rows x 34 columns]\n"
          ],
          "name": "stdout"
        }
      ]
    },
    {
      "cell_type": "code",
      "metadata": {
        "id": "Xf2SpgCPuMZa"
      },
      "source": [
        "n=35"
      ],
      "execution_count": null,
      "outputs": []
    },
    {
      "cell_type": "code",
      "metadata": {
        "id": "lr82759Lx1X3"
      },
      "source": [
        "df.drop(df.tail(n).index,inplace=True)\n"
      ],
      "execution_count": null,
      "outputs": []
    },
    {
      "cell_type": "code",
      "metadata": {
        "colab": {
          "base_uri": "https://localhost:8080/"
        },
        "id": "JwTRGFusaESe",
        "outputId": "de28cbba-1171-4a11-b2d1-cb43ed70b62b"
      },
      "source": [
        "print(df.tail())"
      ],
      "execution_count": null,
      "outputs": [
        {
          "output_type": "stream",
          "text": [
            "            Punjab  Haryana  Rajasthan  ...  Nagaland  Tripura  Total Consumption\n",
            "Date                                    ...                                      \n",
            "2020-05-19   120.5    131.6      250.3  ...       2.4      3.1             3532.7\n",
            "2020-05-20   123.8    131.6      251.7  ...       2.3      3.6             3554.5\n",
            "2020-05-21   126.0    133.0      249.7  ...       2.1      3.7             3555.1\n",
            "2020-05-22   127.2    131.6      247.4  ...       2.2      3.4             3515.1\n",
            "2020-05-23   121.6    122.9      243.3  ...       2.2      3.4             3361.2\n",
            "\n",
            "[5 rows x 34 columns]\n"
          ],
          "name": "stdout"
        }
      ]
    },
    {
      "cell_type": "code",
      "metadata": {
        "id": "ehp5yxt8aML5"
      },
      "source": [
        "import seaborn as sns"
      ],
      "execution_count": null,
      "outputs": []
    },
    {
      "cell_type": "code",
      "metadata": {
        "colab": {
          "base_uri": "https://localhost:8080/",
          "height": 350
        },
        "id": "J-JvBhWuaWkc",
        "outputId": "e9b99bcc-e22b-47b7-b4b4-2eb42ad72fac"
      },
      "source": [
        "sns.boxplot(df['Total Consumption'])"
      ],
      "execution_count": null,
      "outputs": [
        {
          "output_type": "stream",
          "text": [
            "/usr/local/lib/python3.7/dist-packages/seaborn/_decorators.py:43: FutureWarning: Pass the following variable as a keyword arg: x. From version 0.12, the only valid positional argument will be `data`, and passing other arguments without an explicit keyword will result in an error or misinterpretation.\n",
            "  FutureWarning\n"
          ],
          "name": "stderr"
        },
        {
          "output_type": "execute_result",
          "data": {
            "text/plain": [
              "<matplotlib.axes._subplots.AxesSubplot at 0x7fc41f141190>"
            ]
          },
          "metadata": {
            "tags": []
          },
          "execution_count": 342
        },
        {
          "output_type": "display_data",
          "data": {
            "image/png": "[encoded data removed]",
            "text/plain": [
              "<Figure size 432x288 with 1 Axes>"
            ]
          },
          "metadata": {
            "tags": [],
            "needs_background": "light"
          }
        }
      ]
    },
    {
      "cell_type": "code",
      "metadata": {
        "colab": {
          "base_uri": "https://localhost:8080/"
        },
        "id": "rG3YVornaWhm",
        "outputId": "63a73d42-a0ca-4948-f5a7-168fc3fa5371"
      },
      "source": [
        "print(np.where(df['Total Consumption']<2700))"
      ],
      "execution_count": null,
      "outputs": [
        {
          "output_type": "stream",
          "text": [
            "(array([ 29,  30,  32,  33,  37,  38, 149, 150, 152, 159, 448, 449, 450,\n",
            "       451]),)\n"
          ],
          "name": "stdout"
        }
      ]
    },
    {
      "cell_type": "code",
      "metadata": {
        "colab": {
          "base_uri": "https://localhost:8080/"
        },
        "id": "NmvKUa3baWep",
        "outputId": "22a307c0-74c9-44ad-fb40-b00764bdb046"
      },
      "source": [
        "# IQR\n",
        "Q1 = np.percentile(df['Total Consumption'], 25, \n",
        "                   interpolation = 'midpoint') \n",
        "  \n",
        "Q3 = np.percentile(df['Total Consumption'], 75,\n",
        "                   interpolation = 'midpoint') \n",
        "IQR = Q3 - Q1 \n",
        "print(IQR)"
      ],
      "execution_count": null,
      "outputs": [
        {
          "output_type": "stream",
          "text": [
            "391.5\n"
          ],
          "name": "stdout"
        }
      ]
    },
    {
      "cell_type": "code",
      "metadata": {
        "colab": {
          "base_uri": "https://localhost:8080/"
        },
        "id": "rofvGB_Ef7g-",
        "outputId": "357fc6e4-15bb-4399-f9c2-e4db87bce5c1"
      },
      "source": [
        "# Above Upper bound\n",
        "upper = df['Total Consumption'] >= (Q3+1.5*IQR)\n",
        "  \n",
        "print(\"Upper bound:\",upper)\n",
        "print(np.where(upper))\n",
        "  \n",
        "# Below Lower bound\n",
        "lower = df['Total Consumption'] <= (Q1-1.5*IQR)\n",
        "print(\"Lower bound:\", lower)\n",
        "print(np.where(lower))"
      ],
      "execution_count": null,
      "outputs": [
        {
          "output_type": "stream",
          "text": [
            "Upper bound: Date\n",
            "2019-01-01    False\n",
            "2019-02-01    False\n",
            "2019-03-01    False\n",
            "2019-04-01    False\n",
            "2019-05-01    False\n",
            "              ...  \n",
            "2020-05-19    False\n",
            "2020-05-20    False\n",
            "2020-05-21    False\n",
            "2020-05-22    False\n",
            "2020-05-23    False\n",
            "Name: Total Consumption, Length: 509, dtype: bool\n",
            "(array([], dtype=int64),)\n",
            "Lower bound: Date\n",
            "2019-01-01    False\n",
            "2019-02-01    False\n",
            "2019-03-01    False\n",
            "2019-04-01    False\n",
            "2019-05-01    False\n",
            "              ...  \n",
            "2020-05-19    False\n",
            "2020-05-20    False\n",
            "2020-05-21    False\n",
            "2020-05-22    False\n",
            "2020-05-23    False\n",
            "Name: Total Consumption, Length: 509, dtype: bool\n",
            "(array([ 29,  37, 149, 150, 152]),)\n"
          ],
          "name": "stdout"
        }
      ]
    },
    {
      "cell_type": "code",
      "metadata": {
        "colab": {
          "base_uri": "https://localhost:8080/",
          "height": 391
        },
        "id": "tKYhBLXIf7cq",
        "outputId": "c4839130-6620-4b50-9cdb-3af13e0bbca9"
      },
      "source": [
        "#This is not running \n",
        "#run after this block\n",
        "\n",
        "''' Detection '''\n",
        "# IQR\n",
        "Q1 = np.percentile(df['Total Consumption'], 25, \n",
        "                   interpolation = 'midpoint') \n",
        "  \n",
        "Q3 = np.percentile(df['Total Consumption'], 75,\n",
        "                   interpolation = 'midpoint') \n",
        "IQR = Q3 - Q1 \n",
        "  \n",
        "print(\"Old Shape: \", df.shape) \n",
        "  \n",
        "# Upper bound\n",
        "upper = np.where(df['Total Consumption'] >= (Q3+1.5*IQR))\n",
        "# Lower bound\n",
        "lower = np.where(df['Total Consumption'] <= (Q1-1.5*IQR))\n",
        "  \n",
        "''' Removing the Outliers '''\n",
        "df.drop(upper[0], inplace = True)\n",
        "df.drop(lower[0], inplace = True)\n",
        "  \n",
        "print(\"New Shape: \", df.shape)  "
      ],
      "execution_count": null,
      "outputs": [
        {
          "output_type": "stream",
          "text": [
            "Old Shape:  (509, 34)\n"
          ],
          "name": "stdout"
        },
        {
          "output_type": "error",
          "ename": "KeyError",
          "evalue": "ignored",
          "traceback": [
            "\u001b[0;31m---------------------------------------------------------------------------\u001b[0m",
            "\u001b[0;31mKeyError\u001b[0m                                  Traceback (most recent call last)",
            "\u001b[0;32m<ipython-input-347-e0a063ece680>\u001b[0m in \u001b[0;36m<module>\u001b[0;34m()\u001b[0m\n\u001b[1;32m     17\u001b[0m \u001b[0;34m''' Removing the Outliers '''\u001b[0m\u001b[0;34m\u001b[0m\u001b[0;34m\u001b[0m\u001b[0m\n\u001b[1;32m     18\u001b[0m \u001b[0mdf\u001b[0m\u001b[0;34m.\u001b[0m\u001b[0mdrop\u001b[0m\u001b[0;34m(\u001b[0m\u001b[0mupper\u001b[0m\u001b[0;34m[\u001b[0m\u001b[0;36m0\u001b[0m\u001b[0;34m]\u001b[0m\u001b[0;34m,\u001b[0m \u001b[0minplace\u001b[0m \u001b[0;34m=\u001b[0m \u001b[0;32mTrue\u001b[0m\u001b[0;34m)\u001b[0m\u001b[0;34m\u001b[0m\u001b[0;34m\u001b[0m\u001b[0m\n\u001b[0;32m---> 19\u001b[0;31m \u001b[0mdf\u001b[0m\u001b[0;34m.\u001b[0m\u001b[0mdrop\u001b[0m\u001b[0;34m(\u001b[0m\u001b[0mlower\u001b[0m\u001b[0;34m[\u001b[0m\u001b[0;36m0\u001b[0m\u001b[0;34m]\u001b[0m\u001b[0;34m,\u001b[0m \u001b[0minplace\u001b[0m \u001b[0;34m=\u001b[0m \u001b[0;32mTrue\u001b[0m\u001b[0;34m)\u001b[0m\u001b[0;34m\u001b[0m\u001b[0;34m\u001b[0m\u001b[0m\n\u001b[0m\u001b[1;32m     20\u001b[0m \u001b[0;34m\u001b[0m\u001b[0m\n\u001b[1;32m     21\u001b[0m \u001b[0mprint\u001b[0m\u001b[0;34m(\u001b[0m\u001b[0;34m\"New Shape: \"\u001b[0m\u001b[0;34m,\u001b[0m \u001b[0mdf\u001b[0m\u001b[0;34m.\u001b[0m\u001b[0mshape\u001b[0m\u001b[0;34m)\u001b[0m\u001b[0;34m\u001b[0m\u001b[0;34m\u001b[0m\u001b[0m\n",
            "\u001b[0;32m/usr/local/lib/python3.7/dist-packages/pandas/core/frame.py\u001b[0m in \u001b[0;36mdrop\u001b[0;34m(self, labels, axis, index, columns, level, inplace, errors)\u001b[0m\n\u001b[1;32m   4172\u001b[0m             \u001b[0mlevel\u001b[0m\u001b[0;34m=\u001b[0m\u001b[0mlevel\u001b[0m\u001b[0;34m,\u001b[0m\u001b[0;34m\u001b[0m\u001b[0;34m\u001b[0m\u001b[0m\n\u001b[1;32m   4173\u001b[0m             \u001b[0minplace\u001b[0m\u001b[0;34m=\u001b[0m\u001b[0minplace\u001b[0m\u001b[0;34m,\u001b[0m\u001b[0;34m\u001b[0m\u001b[0;34m\u001b[0m\u001b[0m\n\u001b[0;32m-> 4174\u001b[0;31m             \u001b[0merrors\u001b[0m\u001b[0;34m=\u001b[0m\u001b[0merrors\u001b[0m\u001b[0;34m,\u001b[0m\u001b[0;34m\u001b[0m\u001b[0;34m\u001b[0m\u001b[0m\n\u001b[0m\u001b[1;32m   4175\u001b[0m         )\n\u001b[1;32m   4176\u001b[0m \u001b[0;34m\u001b[0m\u001b[0m\n",
            "\u001b[0;32m/usr/local/lib/python3.7/dist-packages/pandas/core/generic.py\u001b[0m in \u001b[0;36mdrop\u001b[0;34m(self, labels, axis, index, columns, level, inplace, errors)\u001b[0m\n\u001b[1;32m   3887\u001b[0m         \u001b[0;32mfor\u001b[0m \u001b[0maxis\u001b[0m\u001b[0;34m,\u001b[0m \u001b[0mlabels\u001b[0m \u001b[0;32min\u001b[0m \u001b[0maxes\u001b[0m\u001b[0;34m.\u001b[0m\u001b[0mitems\u001b[0m\u001b[0;34m(\u001b[0m\u001b[0;34m)\u001b[0m\u001b[0;34m:\u001b[0m\u001b[0;34m\u001b[0m\u001b[0;34m\u001b[0m\u001b[0m\n\u001b[1;32m   3888\u001b[0m             \u001b[0;32mif\u001b[0m \u001b[0mlabels\u001b[0m \u001b[0;32mis\u001b[0m \u001b[0;32mnot\u001b[0m \u001b[0;32mNone\u001b[0m\u001b[0;34m:\u001b[0m\u001b[0;34m\u001b[0m\u001b[0;34m\u001b[0m\u001b[0m\n\u001b[0;32m-> 3889\u001b[0;31m                 \u001b[0mobj\u001b[0m \u001b[0;34m=\u001b[0m \u001b[0mobj\u001b[0m\u001b[0;34m.\u001b[0m\u001b[0m_drop_axis\u001b[0m\u001b[0;34m(\u001b[0m\u001b[0mlabels\u001b[0m\u001b[0;34m,\u001b[0m \u001b[0maxis\u001b[0m\u001b[0;34m,\u001b[0m \u001b[0mlevel\u001b[0m\u001b[0;34m=\u001b[0m\u001b[0mlevel\u001b[0m\u001b[0;34m,\u001b[0m \u001b[0merrors\u001b[0m\u001b[0;34m=\u001b[0m\u001b[0merrors\u001b[0m\u001b[0;34m)\u001b[0m\u001b[0;34m\u001b[0m\u001b[0;34m\u001b[0m\u001b[0m\n\u001b[0m\u001b[1;32m   3890\u001b[0m \u001b[0;34m\u001b[0m\u001b[0m\n\u001b[1;32m   3891\u001b[0m         \u001b[0;32mif\u001b[0m \u001b[0minplace\u001b[0m\u001b[0;34m:\u001b[0m\u001b[0;34m\u001b[0m\u001b[0;34m\u001b[0m\u001b[0m\n",
            "\u001b[0;32m/usr/local/lib/python3.7/dist-packages/pandas/core/generic.py\u001b[0m in \u001b[0;36m_drop_axis\u001b[0;34m(self, labels, axis, level, errors)\u001b[0m\n\u001b[1;32m   3921\u001b[0m                 \u001b[0mnew_axis\u001b[0m \u001b[0;34m=\u001b[0m \u001b[0maxis\u001b[0m\u001b[0;34m.\u001b[0m\u001b[0mdrop\u001b[0m\u001b[0;34m(\u001b[0m\u001b[0mlabels\u001b[0m\u001b[0;34m,\u001b[0m \u001b[0mlevel\u001b[0m\u001b[0;34m=\u001b[0m\u001b[0mlevel\u001b[0m\u001b[0;34m,\u001b[0m \u001b[0merrors\u001b[0m\u001b[0;34m=\u001b[0m\u001b[0merrors\u001b[0m\u001b[0;34m)\u001b[0m\u001b[0;34m\u001b[0m\u001b[0;34m\u001b[0m\u001b[0m\n\u001b[1;32m   3922\u001b[0m             \u001b[0;32melse\u001b[0m\u001b[0;34m:\u001b[0m\u001b[0;34m\u001b[0m\u001b[0;34m\u001b[0m\u001b[0m\n\u001b[0;32m-> 3923\u001b[0;31m                 \u001b[0mnew_axis\u001b[0m \u001b[0;34m=\u001b[0m \u001b[0maxis\u001b[0m\u001b[0;34m.\u001b[0m\u001b[0mdrop\u001b[0m\u001b[0;34m(\u001b[0m\u001b[0mlabels\u001b[0m\u001b[0;34m,\u001b[0m \u001b[0merrors\u001b[0m\u001b[0;34m=\u001b[0m\u001b[0merrors\u001b[0m\u001b[0;34m)\u001b[0m\u001b[0;34m\u001b[0m\u001b[0;34m\u001b[0m\u001b[0m\n\u001b[0m\u001b[1;32m   3924\u001b[0m             \u001b[0mresult\u001b[0m \u001b[0;34m=\u001b[0m \u001b[0mself\u001b[0m\u001b[0;34m.\u001b[0m\u001b[0mreindex\u001b[0m\u001b[0;34m(\u001b[0m\u001b[0;34m**\u001b[0m\u001b[0;34m{\u001b[0m\u001b[0maxis_name\u001b[0m\u001b[0;34m:\u001b[0m \u001b[0mnew_axis\u001b[0m\u001b[0;34m}\u001b[0m\u001b[0;34m)\u001b[0m\u001b[0;34m\u001b[0m\u001b[0;34m\u001b[0m\u001b[0m\n\u001b[1;32m   3925\u001b[0m \u001b[0;34m\u001b[0m\u001b[0m\n",
            "\u001b[0;32m/usr/local/lib/python3.7/dist-packages/pandas/core/indexes/base.py\u001b[0m in \u001b[0;36mdrop\u001b[0;34m(self, labels, errors)\u001b[0m\n\u001b[1;32m   5285\u001b[0m         \u001b[0;32mif\u001b[0m \u001b[0mmask\u001b[0m\u001b[0;34m.\u001b[0m\u001b[0many\u001b[0m\u001b[0;34m(\u001b[0m\u001b[0;34m)\u001b[0m\u001b[0;34m:\u001b[0m\u001b[0;34m\u001b[0m\u001b[0;34m\u001b[0m\u001b[0m\n\u001b[1;32m   5286\u001b[0m             \u001b[0;32mif\u001b[0m \u001b[0merrors\u001b[0m \u001b[0;34m!=\u001b[0m \u001b[0;34m\"ignore\"\u001b[0m\u001b[0;34m:\u001b[0m\u001b[0;34m\u001b[0m\u001b[0;34m\u001b[0m\u001b[0m\n\u001b[0;32m-> 5287\u001b[0;31m                 \u001b[0;32mraise\u001b[0m \u001b[0mKeyError\u001b[0m\u001b[0;34m(\u001b[0m\u001b[0;34mf\"{labels[mask]} not found in axis\"\u001b[0m\u001b[0;34m)\u001b[0m\u001b[0;34m\u001b[0m\u001b[0;34m\u001b[0m\u001b[0m\n\u001b[0m\u001b[1;32m   5288\u001b[0m             \u001b[0mindexer\u001b[0m \u001b[0;34m=\u001b[0m \u001b[0mindexer\u001b[0m\u001b[0;34m[\u001b[0m\u001b[0;34m~\u001b[0m\u001b[0mmask\u001b[0m\u001b[0;34m]\u001b[0m\u001b[0;34m\u001b[0m\u001b[0;34m\u001b[0m\u001b[0m\n\u001b[1;32m   5289\u001b[0m         \u001b[0;32mreturn\u001b[0m \u001b[0mself\u001b[0m\u001b[0;34m.\u001b[0m\u001b[0mdelete\u001b[0m\u001b[0;34m(\u001b[0m\u001b[0mindexer\u001b[0m\u001b[0;34m)\u001b[0m\u001b[0;34m\u001b[0m\u001b[0;34m\u001b[0m\u001b[0m\n",
            "\u001b[0;31mKeyError\u001b[0m: '[ 29  37 149 150 152] not found in axis'"
          ]
        }
      ]
    },
    {
      "cell_type": "code",
      "metadata": {
        "colab": {
          "base_uri": "https://localhost:8080/"
        },
        "id": "cSXavLmajoXM",
        "outputId": "50ffed9b-2df4-41fd-de14-0563c7d89712"
      },
      "source": [
        "Q1 = df.quantile(0.25)\n",
        "Q3 = df.quantile(0.75)\n",
        "IQR = Q3 - Q1\n",
        "print(IQR)"
      ],
      "execution_count": null,
      "outputs": [
        {
          "output_type": "stream",
          "text": [
            "Punjab                45.8\n",
            "Haryana               38.5\n",
            "Rajasthan             27.8\n",
            "Delhi                 36.2\n",
            "UP                    93.7\n",
            "Uttarakhand            5.8\n",
            "HP                     3.5\n",
            "J&K                    5.5\n",
            "Chandigarh             1.3\n",
            "Chhattisgarh          14.0\n",
            "Gujarat               34.0\n",
            "MP                    42.3\n",
            "Maharashtra           54.2\n",
            "Goa                    1.7\n",
            "DNH                    1.9\n",
            "Andhra Pradesh        24.9\n",
            "Telangana             41.7\n",
            "Karnataka             39.4\n",
            "Kerala                 8.0\n",
            "Tamil Nadu            46.2\n",
            "Pondy                  1.2\n",
            "Bihar                 19.9\n",
            "Jharkhand              1.9\n",
            "Odisha                14.7\n",
            "West Bengal           44.9\n",
            "Sikkim                 0.3\n",
            "Arunachal Pradesh      0.1\n",
            "Assam                  4.6\n",
            "Manipur                0.2\n",
            "Meghalaya              0.7\n",
            "Mizoram                0.2\n",
            "Nagaland               0.1\n",
            "Tripura                0.9\n",
            "Total Consumption    391.5\n",
            "dtype: float64\n"
          ],
          "name": "stdout"
        }
      ]
    },
    {
      "cell_type": "code",
      "metadata": {
        "colab": {
          "base_uri": "https://localhost:8080/"
        },
        "id": "Wg8_kFmaju37",
        "outputId": "06b85b40-3ad9-4577-deca-f7b4137f5b3b"
      },
      "source": [
        "print(df['Total Consumption'].skew())\n",
        "df['Total Consumption'].describe()"
      ],
      "execution_count": null,
      "outputs": [
        {
          "output_type": "stream",
          "text": [
            "-0.24692216570450512\n"
          ],
          "name": "stdout"
        },
        {
          "output_type": "execute_result",
          "data": {
            "text/plain": [
              "count     509.000000\n",
              "mean     3395.677970\n",
              "std       312.624921\n",
              "min      2555.800000\n",
              "25%      3216.600000\n",
              "50%      3395.677970\n",
              "75%      3608.100000\n",
              "max      4059.100000\n",
              "Name: Total Consumption, dtype: float64"
            ]
          },
          "metadata": {
            "tags": []
          },
          "execution_count": 349
        }
      ]
    },
    {
      "cell_type": "code",
      "metadata": {
        "colab": {
          "base_uri": "https://localhost:8080/"
        },
        "id": "BJCjC3PykGfG",
        "outputId": "da13902c-e505-41de-a4cd-c1eec17b0146"
      },
      "source": [
        "print(df['Total Consumption'].quantile(0.10))\n",
        "print(df['Total Consumption'].quantile(0.90))"
      ],
      "execution_count": null,
      "outputs": [
        {
          "output_type": "stream",
          "text": [
            "2983.18\n",
            "3825.22\n"
          ],
          "name": "stdout"
        }
      ]
    },
    {
      "cell_type": "code",
      "metadata": {
        "colab": {
          "base_uri": "https://localhost:8080/"
        },
        "id": "qnJ6dRSrkGW9",
        "outputId": "ad17e16c-b3ff-4f04-d79f-d6f44cd7542c"
      },
      "source": [
        "df['Total Consumption'] = np.where(df['Total Consumption'] <2983.18, 2983.18,df['Total Consumption'])\n",
        "df['Total Consumption'] = np.where(df['Total Consumption'] >3825.22, 3825.22,df['Total Consumption'])\n",
        "print(df['Total Consumption'].skew())"
      ],
      "execution_count": null,
      "outputs": [
        {
          "output_type": "stream",
          "text": [
            "0.03131890063968933\n"
          ],
          "name": "stdout"
        }
      ]
    },
    {
      "cell_type": "code",
      "metadata": {
        "colab": {
          "base_uri": "https://localhost:8080/"
        },
        "id": "f23rlM4NlwZx",
        "outputId": "72b8a95a-3710-48c2-f9be-e58f1b7b41ee"
      },
      "source": [
        "df_out = df[~((df < (Q1 - 1.5 * IQR)) |(df > (Q3 + 1.5 * IQR))).any(axis=1)]\n",
        "print(df_out.shape)"
      ],
      "execution_count": null,
      "outputs": [
        {
          "output_type": "stream",
          "text": [
            "(210, 34)\n"
          ],
          "name": "stdout"
        }
      ]
    },
    {
      "cell_type": "code",
      "metadata": {
        "colab": {
          "base_uri": "https://localhost:8080/",
          "height": 657
        },
        "id": "0OAgaFbylwOt",
        "outputId": "227e467a-ff71-46c0-80e3-88a37ad1e3bb"
      },
      "source": [
        "df_out"
      ],
      "execution_count": null,
      "outputs": [
        {
          "output_type": "execute_result",
          "data": {
            "text/html": [
              "<div>\n",
              "<style scoped>\n",
              "    .dataframe tbody tr th:only-of-type {\n",
              "        vertical-align: middle;\n",
              "    }\n",
              "\n",
              "    .dataframe tbody tr th {\n",
              "        vertical-align: top;\n",
              "    }\n",
              "\n",
              "    .dataframe thead th {\n",
              "        text-align: right;\n",
              "    }\n",
              "</style>\n",
              "<table border=\"1\" class=\"dataframe\">\n",
              "  <thead>\n",
              "    <tr style=\"text-align: right;\">\n",
              "      <th></th>\n",
              "      <th>Punjab</th>\n",
              "      <th>Haryana</th>\n",
              "      <th>Rajasthan</th>\n",
              "      <th>Delhi</th>\n",
              "      <th>UP</th>\n",
              "      <th>Uttarakhand</th>\n",
              "      <th>HP</th>\n",
              "      <th>J&amp;K</th>\n",
              "      <th>Chandigarh</th>\n",
              "      <th>Chhattisgarh</th>\n",
              "      <th>Gujarat</th>\n",
              "      <th>MP</th>\n",
              "      <th>Maharashtra</th>\n",
              "      <th>Goa</th>\n",
              "      <th>DNH</th>\n",
              "      <th>Andhra Pradesh</th>\n",
              "      <th>Telangana</th>\n",
              "      <th>Karnataka</th>\n",
              "      <th>Kerala</th>\n",
              "      <th>Tamil Nadu</th>\n",
              "      <th>Pondy</th>\n",
              "      <th>Bihar</th>\n",
              "      <th>Jharkhand</th>\n",
              "      <th>Odisha</th>\n",
              "      <th>West Bengal</th>\n",
              "      <th>Sikkim</th>\n",
              "      <th>Arunachal Pradesh</th>\n",
              "      <th>Assam</th>\n",
              "      <th>Manipur</th>\n",
              "      <th>Meghalaya</th>\n",
              "      <th>Mizoram</th>\n",
              "      <th>Nagaland</th>\n",
              "      <th>Tripura</th>\n",
              "      <th>Total Consumption</th>\n",
              "    </tr>\n",
              "    <tr>\n",
              "      <th>Date</th>\n",
              "      <th></th>\n",
              "      <th></th>\n",
              "      <th></th>\n",
              "      <th></th>\n",
              "      <th></th>\n",
              "      <th></th>\n",
              "      <th></th>\n",
              "      <th></th>\n",
              "      <th></th>\n",
              "      <th></th>\n",
              "      <th></th>\n",
              "      <th></th>\n",
              "      <th></th>\n",
              "      <th></th>\n",
              "      <th></th>\n",
              "      <th></th>\n",
              "      <th></th>\n",
              "      <th></th>\n",
              "      <th></th>\n",
              "      <th></th>\n",
              "      <th></th>\n",
              "      <th></th>\n",
              "      <th></th>\n",
              "      <th></th>\n",
              "      <th></th>\n",
              "      <th></th>\n",
              "      <th></th>\n",
              "      <th></th>\n",
              "      <th></th>\n",
              "      <th></th>\n",
              "      <th></th>\n",
              "      <th></th>\n",
              "      <th></th>\n",
              "      <th></th>\n",
              "    </tr>\n",
              "  </thead>\n",
              "  <tbody>\n",
              "    <tr>\n",
              "      <th>2019-01-01</th>\n",
              "      <td>139.52635</td>\n",
              "      <td>137.650108</td>\n",
              "      <td>218.949028</td>\n",
              "      <td>82.910583</td>\n",
              "      <td>313.295248</td>\n",
              "      <td>36.112095</td>\n",
              "      <td>26.52203</td>\n",
              "      <td>44.296328</td>\n",
              "      <td>4.122894</td>\n",
              "      <td>83.974082</td>\n",
              "      <td>322.736069</td>\n",
              "      <td>208.556587</td>\n",
              "      <td>431.562635</td>\n",
              "      <td>11.126134</td>\n",
              "      <td>16.390281</td>\n",
              "      <td>176.292873</td>\n",
              "      <td>187.008423</td>\n",
              "      <td>204.188553</td>\n",
              "      <td>72.061555</td>\n",
              "      <td>300.353348</td>\n",
              "      <td>7.458099</td>\n",
              "      <td>83.082721</td>\n",
              "      <td>23.922894</td>\n",
              "      <td>80.305616</td>\n",
              "      <td>138.802592</td>\n",
              "      <td>1.287905</td>\n",
              "      <td>2.109719</td>\n",
              "      <td>24.939957</td>\n",
              "      <td>2.499568</td>\n",
              "      <td>5.658531</td>\n",
              "      <td>1.708639</td>\n",
              "      <td>2.164363</td>\n",
              "      <td>4.10216</td>\n",
              "      <td>3395.67797</td>\n",
              "    </tr>\n",
              "    <tr>\n",
              "      <th>2019-04-01</th>\n",
              "      <td>118.80000</td>\n",
              "      <td>128.200000</td>\n",
              "      <td>239.800000</td>\n",
              "      <td>83.500000</td>\n",
              "      <td>320.700000</td>\n",
              "      <td>38.100000</td>\n",
              "      <td>30.10000</td>\n",
              "      <td>53.200000</td>\n",
              "      <td>4.800000</td>\n",
              "      <td>74.800000</td>\n",
              "      <td>301.900000</td>\n",
              "      <td>239.300000</td>\n",
              "      <td>395.800000</td>\n",
              "      <td>12.600000</td>\n",
              "      <td>16.700000</td>\n",
              "      <td>165.200000</td>\n",
              "      <td>201.200000</td>\n",
              "      <td>205.300000</td>\n",
              "      <td>73.400000</td>\n",
              "      <td>270.300000</td>\n",
              "      <td>6.400000</td>\n",
              "      <td>82.900000</td>\n",
              "      <td>26.300000</td>\n",
              "      <td>66.300000</td>\n",
              "      <td>106.800000</td>\n",
              "      <td>1.700000</td>\n",
              "      <td>2.200000</td>\n",
              "      <td>21.700000</td>\n",
              "      <td>2.400000</td>\n",
              "      <td>6.300000</td>\n",
              "      <td>1.700000</td>\n",
              "      <td>2.200000</td>\n",
              "      <td>3.50000</td>\n",
              "      <td>3304.10000</td>\n",
              "    </tr>\n",
              "    <tr>\n",
              "      <th>2019-07-01</th>\n",
              "      <td>118.00000</td>\n",
              "      <td>132.100000</td>\n",
              "      <td>241.900000</td>\n",
              "      <td>71.100000</td>\n",
              "      <td>294.200000</td>\n",
              "      <td>40.100000</td>\n",
              "      <td>30.10000</td>\n",
              "      <td>53.300000</td>\n",
              "      <td>4.000000</td>\n",
              "      <td>73.100000</td>\n",
              "      <td>319.400000</td>\n",
              "      <td>230.300000</td>\n",
              "      <td>408.100000</td>\n",
              "      <td>12.700000</td>\n",
              "      <td>18.300000</td>\n",
              "      <td>166.400000</td>\n",
              "      <td>191.900000</td>\n",
              "      <td>217.400000</td>\n",
              "      <td>74.900000</td>\n",
              "      <td>294.200000</td>\n",
              "      <td>7.000000</td>\n",
              "      <td>75.300000</td>\n",
              "      <td>23.900000</td>\n",
              "      <td>64.000000</td>\n",
              "      <td>109.300000</td>\n",
              "      <td>1.500000</td>\n",
              "      <td>2.200000</td>\n",
              "      <td>21.400000</td>\n",
              "      <td>2.500000</td>\n",
              "      <td>6.100000</td>\n",
              "      <td>1.800000</td>\n",
              "      <td>2.300000</td>\n",
              "      <td>3.30000</td>\n",
              "      <td>3312.10000</td>\n",
              "    </tr>\n",
              "    <tr>\n",
              "      <th>2019-08-01</th>\n",
              "      <td>107.50000</td>\n",
              "      <td>121.400000</td>\n",
              "      <td>237.200000</td>\n",
              "      <td>69.000000</td>\n",
              "      <td>289.400000</td>\n",
              "      <td>37.000000</td>\n",
              "      <td>29.20000</td>\n",
              "      <td>51.200000</td>\n",
              "      <td>3.800000</td>\n",
              "      <td>74.200000</td>\n",
              "      <td>307.900000</td>\n",
              "      <td>228.800000</td>\n",
              "      <td>398.200000</td>\n",
              "      <td>10.900000</td>\n",
              "      <td>18.100000</td>\n",
              "      <td>160.800000</td>\n",
              "      <td>190.800000</td>\n",
              "      <td>201.000000</td>\n",
              "      <td>68.200000</td>\n",
              "      <td>279.200000</td>\n",
              "      <td>6.500000</td>\n",
              "      <td>76.200000</td>\n",
              "      <td>23.300000</td>\n",
              "      <td>63.600000</td>\n",
              "      <td>102.900000</td>\n",
              "      <td>1.600000</td>\n",
              "      <td>2.300000</td>\n",
              "      <td>20.700000</td>\n",
              "      <td>2.600000</td>\n",
              "      <td>6.200000</td>\n",
              "      <td>1.800000</td>\n",
              "      <td>2.100000</td>\n",
              "      <td>3.30000</td>\n",
              "      <td>3196.90000</td>\n",
              "    </tr>\n",
              "    <tr>\n",
              "      <th>2019-11-01</th>\n",
              "      <td>130.30000</td>\n",
              "      <td>145.300000</td>\n",
              "      <td>187.700000</td>\n",
              "      <td>79.500000</td>\n",
              "      <td>281.400000</td>\n",
              "      <td>30.100000</td>\n",
              "      <td>23.90000</td>\n",
              "      <td>37.300000</td>\n",
              "      <td>3.400000</td>\n",
              "      <td>80.700000</td>\n",
              "      <td>275.000000</td>\n",
              "      <td>154.300000</td>\n",
              "      <td>405.200000</td>\n",
              "      <td>12.100000</td>\n",
              "      <td>16.900000</td>\n",
              "      <td>167.700000</td>\n",
              "      <td>166.700000</td>\n",
              "      <td>157.000000</td>\n",
              "      <td>67.400000</td>\n",
              "      <td>270.500000</td>\n",
              "      <td>7.100000</td>\n",
              "      <td>76.200000</td>\n",
              "      <td>23.300000</td>\n",
              "      <td>78.400000</td>\n",
              "      <td>149.800000</td>\n",
              "      <td>0.800000</td>\n",
              "      <td>2.100000</td>\n",
              "      <td>27.900000</td>\n",
              "      <td>2.400000</td>\n",
              "      <td>6.200000</td>\n",
              "      <td>1.800000</td>\n",
              "      <td>2.100000</td>\n",
              "      <td>4.30000</td>\n",
              "      <td>3074.80000</td>\n",
              "    </tr>\n",
              "    <tr>\n",
              "      <th>...</th>\n",
              "      <td>...</td>\n",
              "      <td>...</td>\n",
              "      <td>...</td>\n",
              "      <td>...</td>\n",
              "      <td>...</td>\n",
              "      <td>...</td>\n",
              "      <td>...</td>\n",
              "      <td>...</td>\n",
              "      <td>...</td>\n",
              "      <td>...</td>\n",
              "      <td>...</td>\n",
              "      <td>...</td>\n",
              "      <td>...</td>\n",
              "      <td>...</td>\n",
              "      <td>...</td>\n",
              "      <td>...</td>\n",
              "      <td>...</td>\n",
              "      <td>...</td>\n",
              "      <td>...</td>\n",
              "      <td>...</td>\n",
              "      <td>...</td>\n",
              "      <td>...</td>\n",
              "      <td>...</td>\n",
              "      <td>...</td>\n",
              "      <td>...</td>\n",
              "      <td>...</td>\n",
              "      <td>...</td>\n",
              "      <td>...</td>\n",
              "      <td>...</td>\n",
              "      <td>...</td>\n",
              "      <td>...</td>\n",
              "      <td>...</td>\n",
              "      <td>...</td>\n",
              "      <td>...</td>\n",
              "    </tr>\n",
              "    <tr>\n",
              "      <th>2020-08-05</th>\n",
              "      <td>139.52635</td>\n",
              "      <td>137.650108</td>\n",
              "      <td>218.949028</td>\n",
              "      <td>82.910583</td>\n",
              "      <td>313.295248</td>\n",
              "      <td>36.112095</td>\n",
              "      <td>26.52203</td>\n",
              "      <td>44.296328</td>\n",
              "      <td>4.122894</td>\n",
              "      <td>83.974082</td>\n",
              "      <td>322.736069</td>\n",
              "      <td>208.556587</td>\n",
              "      <td>431.562635</td>\n",
              "      <td>11.126134</td>\n",
              "      <td>16.390281</td>\n",
              "      <td>176.292873</td>\n",
              "      <td>187.008423</td>\n",
              "      <td>204.188553</td>\n",
              "      <td>72.061555</td>\n",
              "      <td>300.353348</td>\n",
              "      <td>7.458099</td>\n",
              "      <td>83.082721</td>\n",
              "      <td>23.922894</td>\n",
              "      <td>80.305616</td>\n",
              "      <td>138.802592</td>\n",
              "      <td>1.287905</td>\n",
              "      <td>2.109719</td>\n",
              "      <td>24.939957</td>\n",
              "      <td>2.499568</td>\n",
              "      <td>5.658531</td>\n",
              "      <td>1.708639</td>\n",
              "      <td>2.164363</td>\n",
              "      <td>4.10216</td>\n",
              "      <td>3395.67797</td>\n",
              "    </tr>\n",
              "    <tr>\n",
              "      <th>2020-09-05</th>\n",
              "      <td>139.52635</td>\n",
              "      <td>137.650108</td>\n",
              "      <td>218.949028</td>\n",
              "      <td>82.910583</td>\n",
              "      <td>313.295248</td>\n",
              "      <td>36.112095</td>\n",
              "      <td>26.52203</td>\n",
              "      <td>44.296328</td>\n",
              "      <td>4.122894</td>\n",
              "      <td>83.974082</td>\n",
              "      <td>322.736069</td>\n",
              "      <td>208.556587</td>\n",
              "      <td>431.562635</td>\n",
              "      <td>11.126134</td>\n",
              "      <td>16.390281</td>\n",
              "      <td>176.292873</td>\n",
              "      <td>187.008423</td>\n",
              "      <td>204.188553</td>\n",
              "      <td>72.061555</td>\n",
              "      <td>300.353348</td>\n",
              "      <td>7.458099</td>\n",
              "      <td>83.082721</td>\n",
              "      <td>23.922894</td>\n",
              "      <td>80.305616</td>\n",
              "      <td>138.802592</td>\n",
              "      <td>1.287905</td>\n",
              "      <td>2.109719</td>\n",
              "      <td>24.939957</td>\n",
              "      <td>2.499568</td>\n",
              "      <td>5.658531</td>\n",
              "      <td>1.708639</td>\n",
              "      <td>2.164363</td>\n",
              "      <td>4.10216</td>\n",
              "      <td>3395.67797</td>\n",
              "    </tr>\n",
              "    <tr>\n",
              "      <th>2020-10-05</th>\n",
              "      <td>139.52635</td>\n",
              "      <td>137.650108</td>\n",
              "      <td>218.949028</td>\n",
              "      <td>82.910583</td>\n",
              "      <td>313.295248</td>\n",
              "      <td>36.112095</td>\n",
              "      <td>26.52203</td>\n",
              "      <td>44.296328</td>\n",
              "      <td>4.122894</td>\n",
              "      <td>83.974082</td>\n",
              "      <td>322.736069</td>\n",
              "      <td>208.556587</td>\n",
              "      <td>431.562635</td>\n",
              "      <td>11.126134</td>\n",
              "      <td>16.390281</td>\n",
              "      <td>176.292873</td>\n",
              "      <td>187.008423</td>\n",
              "      <td>204.188553</td>\n",
              "      <td>72.061555</td>\n",
              "      <td>300.353348</td>\n",
              "      <td>7.458099</td>\n",
              "      <td>83.082721</td>\n",
              "      <td>23.922894</td>\n",
              "      <td>80.305616</td>\n",
              "      <td>138.802592</td>\n",
              "      <td>1.287905</td>\n",
              "      <td>2.109719</td>\n",
              "      <td>24.939957</td>\n",
              "      <td>2.499568</td>\n",
              "      <td>5.658531</td>\n",
              "      <td>1.708639</td>\n",
              "      <td>2.164363</td>\n",
              "      <td>4.10216</td>\n",
              "      <td>3395.67797</td>\n",
              "    </tr>\n",
              "    <tr>\n",
              "      <th>2020-11-05</th>\n",
              "      <td>139.52635</td>\n",
              "      <td>137.650108</td>\n",
              "      <td>218.949028</td>\n",
              "      <td>82.910583</td>\n",
              "      <td>313.295248</td>\n",
              "      <td>36.112095</td>\n",
              "      <td>26.52203</td>\n",
              "      <td>44.296328</td>\n",
              "      <td>4.122894</td>\n",
              "      <td>83.974082</td>\n",
              "      <td>322.736069</td>\n",
              "      <td>208.556587</td>\n",
              "      <td>431.562635</td>\n",
              "      <td>11.126134</td>\n",
              "      <td>16.390281</td>\n",
              "      <td>176.292873</td>\n",
              "      <td>187.008423</td>\n",
              "      <td>204.188553</td>\n",
              "      <td>72.061555</td>\n",
              "      <td>300.353348</td>\n",
              "      <td>7.458099</td>\n",
              "      <td>83.082721</td>\n",
              "      <td>23.922894</td>\n",
              "      <td>80.305616</td>\n",
              "      <td>138.802592</td>\n",
              "      <td>1.287905</td>\n",
              "      <td>2.109719</td>\n",
              "      <td>24.939957</td>\n",
              "      <td>2.499568</td>\n",
              "      <td>5.658531</td>\n",
              "      <td>1.708639</td>\n",
              "      <td>2.164363</td>\n",
              "      <td>4.10216</td>\n",
              "      <td>3395.67797</td>\n",
              "    </tr>\n",
              "    <tr>\n",
              "      <th>2020-12-05</th>\n",
              "      <td>139.52635</td>\n",
              "      <td>137.650108</td>\n",
              "      <td>218.949028</td>\n",
              "      <td>82.910583</td>\n",
              "      <td>313.295248</td>\n",
              "      <td>36.112095</td>\n",
              "      <td>26.52203</td>\n",
              "      <td>44.296328</td>\n",
              "      <td>4.122894</td>\n",
              "      <td>83.974082</td>\n",
              "      <td>322.736069</td>\n",
              "      <td>208.556587</td>\n",
              "      <td>431.562635</td>\n",
              "      <td>11.126134</td>\n",
              "      <td>16.390281</td>\n",
              "      <td>176.292873</td>\n",
              "      <td>187.008423</td>\n",
              "      <td>204.188553</td>\n",
              "      <td>72.061555</td>\n",
              "      <td>300.353348</td>\n",
              "      <td>7.458099</td>\n",
              "      <td>83.082721</td>\n",
              "      <td>23.922894</td>\n",
              "      <td>80.305616</td>\n",
              "      <td>138.802592</td>\n",
              "      <td>1.287905</td>\n",
              "      <td>2.109719</td>\n",
              "      <td>24.939957</td>\n",
              "      <td>2.499568</td>\n",
              "      <td>5.658531</td>\n",
              "      <td>1.708639</td>\n",
              "      <td>2.164363</td>\n",
              "      <td>4.10216</td>\n",
              "      <td>3395.67797</td>\n",
              "    </tr>\n",
              "  </tbody>\n",
              "</table>\n",
              "<p>210 rows × 34 columns</p>\n",
              "</div>"
            ],
            "text/plain": [
              "               Punjab     Haryana  ...  Tripura  Total Consumption\n",
              "Date                               ...                            \n",
              "2019-01-01  139.52635  137.650108  ...  4.10216         3395.67797\n",
              "2019-04-01  118.80000  128.200000  ...  3.50000         3304.10000\n",
              "2019-07-01  118.00000  132.100000  ...  3.30000         3312.10000\n",
              "2019-08-01  107.50000  121.400000  ...  3.30000         3196.90000\n",
              "2019-11-01  130.30000  145.300000  ...  4.30000         3074.80000\n",
              "...               ...         ...  ...      ...                ...\n",
              "2020-08-05  139.52635  137.650108  ...  4.10216         3395.67797\n",
              "2020-09-05  139.52635  137.650108  ...  4.10216         3395.67797\n",
              "2020-10-05  139.52635  137.650108  ...  4.10216         3395.67797\n",
              "2020-11-05  139.52635  137.650108  ...  4.10216         3395.67797\n",
              "2020-12-05  139.52635  137.650108  ...  4.10216         3395.67797\n",
              "\n",
              "[210 rows x 34 columns]"
            ]
          },
          "metadata": {
            "tags": []
          },
          "execution_count": 353
        }
      ]
    },
    {
      "cell_type": "code",
      "metadata": {
        "colab": {
          "base_uri": "https://localhost:8080/"
        },
        "id": "PyjyPjYvlwKb",
        "outputId": "ea129ec8-ff72-4cb0-b53e-34ce513727bb"
      },
      "source": [
        "df1=df_out['Total Consumption']\n",
        "df1"
      ],
      "execution_count": null,
      "outputs": [
        {
          "output_type": "execute_result",
          "data": {
            "text/plain": [
              "Date\n",
              "2019-01-01    3395.67797\n",
              "2019-04-01    3304.10000\n",
              "2019-07-01    3312.10000\n",
              "2019-08-01    3196.90000\n",
              "2019-11-01    3074.80000\n",
              "                 ...    \n",
              "2020-08-05    3395.67797\n",
              "2020-09-05    3395.67797\n",
              "2020-10-05    3395.67797\n",
              "2020-11-05    3395.67797\n",
              "2020-12-05    3395.67797\n",
              "Name: Total Consumption, Length: 210, dtype: float64"
            ]
          },
          "metadata": {
            "tags": []
          },
          "execution_count": 354
        }
      ]
    },
    {
      "cell_type": "code",
      "metadata": {
        "colab": {
          "base_uri": "https://localhost:8080/"
        },
        "id": "o91I6-8fcJ6S",
        "outputId": "a7eeed5e-47c1-440f-8d8a-d7ab64cffb6a"
      },
      "source": [
        "df1.mean()"
      ],
      "execution_count": null,
      "outputs": [
        {
          "output_type": "execute_result",
          "data": {
            "text/plain": [
              "3373.2890790908227"
            ]
          },
          "metadata": {
            "tags": []
          },
          "execution_count": 355
        }
      ]
    },
    {
      "cell_type": "code",
      "metadata": {
        "colab": {
          "base_uri": "https://localhost:8080/",
          "height": 343
        },
        "id": "gEkg4G8TKg-F",
        "outputId": "c05030ad-19b5-4795-9104-0f21d6dd0d09"
      },
      "source": [
        "df1.plot(figsize=(10,5))"
      ],
      "execution_count": null,
      "outputs": [
        {
          "output_type": "execute_result",
          "data": {
            "text/plain": [
              "<matplotlib.axes._subplots.AxesSubplot at 0x7fc42444cd90>"
            ]
          },
          "metadata": {
            "tags": []
          },
          "execution_count": 356
        },
        {
          "output_type": "display_data",
          "data": {
            "image/png": "[encoded data removed]",
            "text/plain": [
              "<Figure size 720x360 with 1 Axes>"
            ]
          },
          "metadata": {
            "tags": [],
            "needs_background": "light"
          }
        }
      ]
    },
    {
      "cell_type": "code",
      "metadata": {
        "id": "y5d2xB9WKg6h"
      },
      "source": [
        "np.random.seed(7)"
      ],
      "execution_count": null,
      "outputs": []
    },
    {
      "cell_type": "code",
      "metadata": {
        "id": "OPU9LD1AKg3x"
      },
      "source": [
        "# normalize the dataset\n",
        "scaler = MinMaxScaler(feature_range=(0, 1))\n",
        "df1 = scaler.fit_transform(np.array(df1).reshape(-1,1))"
      ],
      "execution_count": null,
      "outputs": []
    },
    {
      "cell_type": "code",
      "metadata": {
        "colab": {
          "base_uri": "https://localhost:8080/"
        },
        "id": "a9AUHcerKg1B",
        "outputId": "462a0704-3b81-4aef-b5a0-e6582b65fffa"
      },
      "source": [
        "df1.shape"
      ],
      "execution_count": null,
      "outputs": [
        {
          "output_type": "execute_result",
          "data": {
            "text/plain": [
              "(210, 1)"
            ]
          },
          "metadata": {
            "tags": []
          },
          "execution_count": 359
        }
      ]
    },
    {
      "cell_type": "code",
      "metadata": {
        "id": "O8gTZc0dKgyj"
      },
      "source": [
        "#splitting dataset into train and test\n",
        "training_size=int(len(df1)*0.65)       #0.65\n",
        "test_size=len(df1)-training_size\n",
        "train_data,test_data=df1[0:training_size,:],df1[training_size:len(df1),:1]"
      ],
      "execution_count": null,
      "outputs": []
    },
    {
      "cell_type": "code",
      "metadata": {
        "colab": {
          "base_uri": "https://localhost:8080/"
        },
        "id": "lf3C-R09Kgta",
        "outputId": "b21cad47-6686-49a1-d1eb-f6686e778baf"
      },
      "source": [
        "training_size,test_size"
      ],
      "execution_count": null,
      "outputs": [
        {
          "output_type": "execute_result",
          "data": {
            "text/plain": [
              "(136, 74)"
            ]
          },
          "metadata": {
            "tags": []
          },
          "execution_count": 361
        }
      ]
    },
    {
      "cell_type": "code",
      "metadata": {
        "id": "QcrP346EKgpR"
      },
      "source": [
        "# convert an array of values into a dataset matrix\n",
        "import numpy\n",
        "def create_dataset(dataset, look_back=1):\n",
        "\tdataX, dataY = [], []\n",
        "\tfor i in range(len(dataset)-look_back-1):\n",
        "\t\ta = dataset[i:(i+look_back), 0]\n",
        "\t\tdataX.append(a)\n",
        "\t\tdataY.append(dataset[i + look_back, 0])\n",
        "\treturn numpy.array(dataX), numpy.array(dataY)"
      ],
      "execution_count": null,
      "outputs": []
    },
    {
      "cell_type": "code",
      "metadata": {
        "id": "m-7lypZ7Kgg3"
      },
      "source": [
        "# reshape into X=t and Y=t+1\n",
        "look_back = 50     #100 time_step\n",
        "X_train, y_train = create_dataset(train_data, look_back)\n",
        "X_test, ytest = create_dataset(test_data, look_back)"
      ],
      "execution_count": null,
      "outputs": []
    },
    {
      "cell_type": "code",
      "metadata": {
        "colab": {
          "base_uri": "https://localhost:8080/"
        },
        "id": "CTaFxpYcKgZr",
        "outputId": "83737bcb-ccd6-4a5f-f1ec-83281e3d303d"
      },
      "source": [
        "print(X_train.shape), print(y_train.shape)"
      ],
      "execution_count": null,
      "outputs": [
        {
          "output_type": "stream",
          "text": [
            "(85, 50)\n",
            "(85,)\n"
          ],
          "name": "stdout"
        },
        {
          "output_type": "execute_result",
          "data": {
            "text/plain": [
              "(None, None)"
            ]
          },
          "metadata": {
            "tags": []
          },
          "execution_count": 364
        }
      ]
    },
    {
      "cell_type": "code",
      "metadata": {
        "colab": {
          "base_uri": "https://localhost:8080/"
        },
        "id": "1WbmkHXzKgSF",
        "outputId": "9e3c0eb9-5686-48b5-85fc-85bd10b8a765"
      },
      "source": [
        "print(X_test.shape), print(ytest.shape)"
      ],
      "execution_count": null,
      "outputs": [
        {
          "output_type": "stream",
          "text": [
            "(23, 50)\n",
            "(23,)\n"
          ],
          "name": "stdout"
        },
        {
          "output_type": "execute_result",
          "data": {
            "text/plain": [
              "(None, None)"
            ]
          },
          "metadata": {
            "tags": []
          },
          "execution_count": 365
        }
      ]
    },
    {
      "cell_type": "code",
      "metadata": {
        "id": "ncKBxR39KgI2"
      },
      "source": [
        "#reshape input to be [samples, time steps, features]\n",
        "X_train=X_train.reshape(X_train.shape[0],X_train.shape[1],1)\n",
        "X_test=X_test.reshape(X_test.shape[0],X_test.shape[1],1)"
      ],
      "execution_count": null,
      "outputs": []
    },
    {
      "cell_type": "code",
      "metadata": {
        "id": "_7DsqV4KLlq8"
      },
      "source": [
        "#define model\n",
        "model= Sequential()\n",
        "model.add(LSTM(50,return_sequences=True,input_shape=(50,1),activation='relu'))  #100,1  and LSTM(50)\n",
        "model.add(LSTM(50,return_sequences=True, activation='relu'))\n",
        "model.add(LSTM(50))\n",
        "model.add(Dense(1))\n",
        "model.compile(optimizer='adam',loss='mean_squared_error')\n",
        "#model.compile(optimizer=tf.keras.optimizers.SGD(learning_rate=0.01),\n",
        "              #loss=tf.keras.losses.MeanSquaredError(),\n",
        "              #metrics=['mse'])"
      ],
      "execution_count": null,
      "outputs": []
    },
    {
      "cell_type": "code",
      "metadata": {
        "colab": {
          "base_uri": "https://localhost:8080/"
        },
        "id": "Cw8K3beMLlia",
        "outputId": "adafc152-c589-4145-89a6-e0e76fc485d6"
      },
      "source": [
        "model.summary()"
      ],
      "execution_count": null,
      "outputs": [
        {
          "output_type": "stream",
          "text": [
            "Model: \"sequential_6\"\n",
            "_________________________________________________________________\n",
            "Layer (type)                 Output Shape              Param #   \n",
            "=================================================================\n",
            "lstm_18 (LSTM)               (None, 50, 50)            10400     \n",
            "_________________________________________________________________\n",
            "lstm_19 (LSTM)               (None, 50, 50)            20200     \n",
            "_________________________________________________________________\n",
            "lstm_20 (LSTM)               (None, 50)                20200     \n",
            "_________________________________________________________________\n",
            "dense_6 (Dense)              (None, 1)                 51        \n",
            "=================================================================\n",
            "Total params: 50,851\n",
            "Trainable params: 50,851\n",
            "Non-trainable params: 0\n",
            "_________________________________________________________________\n"
          ],
          "name": "stdout"
        }
      ]
    },
    {
      "cell_type": "code",
      "metadata": {
        "colab": {
          "base_uri": "https://localhost:8080/"
        },
        "id": "tUH_R58kLlbF",
        "outputId": "89c9e8b2-925e-4a60-be5f-d6362e8f2084"
      },
      "source": [
        "history=model.fit(X_train,y_train,validation_data=(X_test,ytest),epochs=100,batch_size=8,verbose=1)"
      ],
      "execution_count": null,
      "outputs": [
        {
          "output_type": "stream",
          "text": [
            "Epoch 1/100\n",
            "11/11 [==============================] - 7s 192ms/step - loss: 0.2140 - val_loss: 0.0917\n",
            "Epoch 2/100\n",
            "11/11 [==============================] - 1s 60ms/step - loss: 0.0630 - val_loss: 0.0327\n",
            "Epoch 3/100\n",
            "11/11 [==============================] - 1s 60ms/step - loss: 0.0617 - val_loss: 0.0511\n",
            "Epoch 4/100\n",
            "11/11 [==============================] - 1s 59ms/step - loss: 0.0565 - val_loss: 0.0312\n",
            "Epoch 5/100\n",
            "11/11 [==============================] - 1s 65ms/step - loss: 0.0595 - val_loss: 0.0403\n",
            "Epoch 6/100\n",
            "11/11 [==============================] - 1s 60ms/step - loss: 0.0618 - val_loss: 0.0334\n",
            "Epoch 7/100\n",
            "11/11 [==============================] - 1s 58ms/step - loss: 0.0511 - val_loss: 0.0358\n",
            "Epoch 8/100\n",
            "11/11 [==============================] - 1s 62ms/step - loss: 0.0677 - val_loss: 0.0329\n",
            "Epoch 9/100\n",
            "11/11 [==============================] - 1s 61ms/step - loss: 0.0556 - val_loss: 0.0398\n",
            "Epoch 10/100\n",
            "11/11 [==============================] - 1s 61ms/step - loss: 0.0560 - val_loss: 0.0324\n",
            "Epoch 11/100\n",
            "11/11 [==============================] - 1s 61ms/step - loss: 0.0574 - val_loss: 0.0375\n",
            "Epoch 12/100\n",
            "11/11 [==============================] - 1s 60ms/step - loss: 0.0521 - val_loss: 0.0331\n",
            "Epoch 13/100\n",
            "11/11 [==============================] - 1s 60ms/step - loss: 0.0556 - val_loss: 0.0340\n",
            "Epoch 14/100\n",
            "11/11 [==============================] - 1s 64ms/step - loss: 0.0567 - val_loss: 0.0336\n",
            "Epoch 15/100\n",
            "11/11 [==============================] - 1s 60ms/step - loss: 0.0562 - val_loss: 0.0348\n",
            "Epoch 16/100\n",
            "11/11 [==============================] - 1s 62ms/step - loss: 0.0566 - val_loss: 0.0327\n",
            "Epoch 17/100\n",
            "11/11 [==============================] - 1s 62ms/step - loss: 0.0702 - val_loss: 0.0328\n",
            "Epoch 18/100\n",
            "11/11 [==============================] - 1s 59ms/step - loss: 0.0685 - val_loss: 0.0410\n",
            "Epoch 19/100\n",
            "11/11 [==============================] - 1s 59ms/step - loss: 0.0619 - val_loss: 0.0313\n",
            "Epoch 20/100\n",
            "11/11 [==============================] - 1s 61ms/step - loss: 0.0624 - val_loss: 0.0352\n",
            "Epoch 21/100\n",
            "11/11 [==============================] - 1s 61ms/step - loss: 0.0468 - val_loss: 0.0333\n",
            "Epoch 22/100\n",
            "11/11 [==============================] - 1s 61ms/step - loss: 0.0588 - val_loss: 0.0344\n",
            "Epoch 23/100\n",
            "11/11 [==============================] - 1s 61ms/step - loss: 0.0612 - val_loss: 0.0356\n",
            "Epoch 24/100\n",
            "11/11 [==============================] - 1s 59ms/step - loss: 0.0617 - val_loss: 0.0347\n",
            "Epoch 25/100\n",
            "11/11 [==============================] - 1s 63ms/step - loss: 0.0565 - val_loss: 0.0406\n",
            "Epoch 26/100\n",
            "11/11 [==============================] - 1s 60ms/step - loss: 0.0612 - val_loss: 0.0346\n",
            "Epoch 27/100\n",
            "11/11 [==============================] - 1s 59ms/step - loss: 0.0508 - val_loss: 0.0338\n",
            "Epoch 28/100\n",
            "11/11 [==============================] - 1s 61ms/step - loss: 0.0612 - val_loss: 0.0309\n",
            "Epoch 29/100\n",
            "11/11 [==============================] - 1s 59ms/step - loss: 0.0600 - val_loss: 0.0372\n",
            "Epoch 30/100\n",
            "11/11 [==============================] - 1s 60ms/step - loss: 0.0547 - val_loss: 0.0329\n",
            "Epoch 31/100\n",
            "11/11 [==============================] - 1s 60ms/step - loss: 0.0713 - val_loss: 0.0422\n",
            "Epoch 32/100\n",
            "11/11 [==============================] - 1s 60ms/step - loss: 0.0602 - val_loss: 0.0389\n",
            "Epoch 33/100\n",
            "11/11 [==============================] - 1s 60ms/step - loss: 0.0600 - val_loss: 0.0419\n",
            "Epoch 34/100\n",
            "11/11 [==============================] - 1s 62ms/step - loss: 0.0553 - val_loss: 0.0318\n",
            "Epoch 35/100\n",
            "11/11 [==============================] - 1s 61ms/step - loss: 0.0615 - val_loss: 0.0359\n",
            "Epoch 36/100\n",
            "11/11 [==============================] - 1s 62ms/step - loss: 0.0472 - val_loss: 0.0330\n",
            "Epoch 37/100\n",
            "11/11 [==============================] - 1s 60ms/step - loss: 0.0609 - val_loss: 0.0377\n",
            "Epoch 38/100\n",
            "11/11 [==============================] - 1s 63ms/step - loss: 0.0397 - val_loss: 0.0357\n",
            "Epoch 39/100\n",
            "11/11 [==============================] - 1s 59ms/step - loss: 0.0559 - val_loss: 0.0409\n",
            "Epoch 40/100\n",
            "11/11 [==============================] - 1s 61ms/step - loss: 0.0568 - val_loss: 0.0459\n",
            "Epoch 41/100\n",
            "11/11 [==============================] - 1s 60ms/step - loss: 0.0648 - val_loss: 0.0334\n",
            "Epoch 42/100\n",
            "11/11 [==============================] - 1s 61ms/step - loss: 0.0663 - val_loss: 0.0481\n",
            "Epoch 43/100\n",
            "11/11 [==============================] - 1s 60ms/step - loss: 0.0574 - val_loss: 0.0374\n",
            "Epoch 44/100\n",
            "11/11 [==============================] - 1s 65ms/step - loss: 0.0597 - val_loss: 0.0387\n",
            "Epoch 45/100\n",
            "11/11 [==============================] - 1s 61ms/step - loss: 0.0470 - val_loss: 0.0403\n",
            "Epoch 46/100\n",
            "11/11 [==============================] - 1s 61ms/step - loss: 0.0476 - val_loss: 0.0514\n",
            "Epoch 47/100\n",
            "11/11 [==============================] - 1s 62ms/step - loss: 0.0471 - val_loss: 0.0366\n",
            "Epoch 48/100\n",
            "11/11 [==============================] - 1s 60ms/step - loss: 0.0498 - val_loss: 0.0324\n",
            "Epoch 49/100\n",
            "11/11 [==============================] - 1s 60ms/step - loss: 0.0463 - val_loss: 0.0329\n",
            "Epoch 50/100\n",
            "11/11 [==============================] - 1s 61ms/step - loss: 0.0458 - val_loss: 0.0364\n",
            "Epoch 51/100\n",
            "11/11 [==============================] - 1s 60ms/step - loss: 0.0476 - val_loss: 0.0351\n",
            "Epoch 52/100\n",
            "11/11 [==============================] - 1s 60ms/step - loss: 0.0448 - val_loss: 0.0377\n",
            "Epoch 53/100\n",
            "11/11 [==============================] - 1s 60ms/step - loss: 0.0542 - val_loss: 0.0366\n",
            "Epoch 54/100\n",
            "11/11 [==============================] - 1s 59ms/step - loss: 0.0502 - val_loss: 0.0441\n",
            "Epoch 55/100\n",
            "11/11 [==============================] - 1s 60ms/step - loss: 0.0551 - val_loss: 0.0373\n",
            "Epoch 56/100\n",
            "11/11 [==============================] - 1s 60ms/step - loss: 0.0587 - val_loss: 0.0373\n",
            "Epoch 57/100\n",
            "11/11 [==============================] - 1s 61ms/step - loss: 0.0458 - val_loss: 0.0319\n",
            "Epoch 58/100\n",
            "11/11 [==============================] - 1s 61ms/step - loss: 0.0468 - val_loss: 0.0356\n",
            "Epoch 59/100\n",
            "11/11 [==============================] - 1s 61ms/step - loss: 0.0501 - val_loss: 0.0338\n",
            "Epoch 60/100\n",
            "11/11 [==============================] - 1s 60ms/step - loss: 0.0551 - val_loss: 0.0356\n",
            "Epoch 61/100\n",
            "11/11 [==============================] - 1s 60ms/step - loss: 0.0536 - val_loss: 0.0353\n",
            "Epoch 62/100\n",
            "11/11 [==============================] - 1s 61ms/step - loss: 0.0415 - val_loss: 0.0354\n",
            "Epoch 63/100\n",
            "11/11 [==============================] - 1s 63ms/step - loss: 0.0435 - val_loss: 0.0362\n",
            "Epoch 64/100\n",
            "11/11 [==============================] - 1s 59ms/step - loss: 0.0449 - val_loss: 0.0353\n",
            "Epoch 65/100\n",
            "11/11 [==============================] - 1s 61ms/step - loss: 0.0516 - val_loss: 0.0381\n",
            "Epoch 66/100\n",
            "11/11 [==============================] - 1s 62ms/step - loss: 0.0596 - val_loss: 0.0399\n",
            "Epoch 67/100\n",
            "11/11 [==============================] - 1s 60ms/step - loss: 0.0458 - val_loss: 0.0398\n",
            "Epoch 68/100\n",
            "11/11 [==============================] - 1s 60ms/step - loss: 0.0377 - val_loss: 0.0437\n",
            "Epoch 69/100\n",
            "11/11 [==============================] - 1s 59ms/step - loss: 0.0502 - val_loss: 0.0499\n",
            "Epoch 70/100\n",
            "11/11 [==============================] - 1s 60ms/step - loss: 0.0460 - val_loss: 0.0411\n",
            "Epoch 71/100\n",
            "11/11 [==============================] - 1s 60ms/step - loss: 0.0334 - val_loss: 0.0449\n",
            "Epoch 72/100\n",
            "11/11 [==============================] - 1s 61ms/step - loss: 0.0403 - val_loss: 0.0349\n",
            "Epoch 73/100\n",
            "11/11 [==============================] - 1s 60ms/step - loss: 0.0359 - val_loss: 0.0477\n",
            "Epoch 74/100\n",
            "11/11 [==============================] - 1s 61ms/step - loss: 0.0443 - val_loss: 0.0425\n",
            "Epoch 75/100\n",
            "11/11 [==============================] - 1s 61ms/step - loss: 0.0408 - val_loss: 0.0516\n",
            "Epoch 76/100\n",
            "11/11 [==============================] - 1s 61ms/step - loss: 0.0333 - val_loss: 0.0521\n",
            "Epoch 77/100\n",
            "11/11 [==============================] - 1s 61ms/step - loss: 0.0361 - val_loss: 0.0715\n",
            "Epoch 78/100\n",
            "11/11 [==============================] - 1s 60ms/step - loss: 0.0489 - val_loss: 0.0416\n",
            "Epoch 79/100\n",
            "11/11 [==============================] - 1s 62ms/step - loss: 0.0426 - val_loss: 0.0621\n",
            "Epoch 80/100\n",
            "11/11 [==============================] - 1s 60ms/step - loss: 0.0385 - val_loss: 0.0431\n",
            "Epoch 81/100\n",
            "11/11 [==============================] - 1s 63ms/step - loss: 0.0477 - val_loss: 0.0563\n",
            "Epoch 82/100\n",
            "11/11 [==============================] - 1s 61ms/step - loss: 0.0350 - val_loss: 0.0517\n",
            "Epoch 83/100\n",
            "11/11 [==============================] - 1s 60ms/step - loss: 0.0374 - val_loss: 0.0563\n",
            "Epoch 84/100\n",
            "11/11 [==============================] - 1s 61ms/step - loss: 0.0366 - val_loss: 0.0662\n",
            "Epoch 85/100\n",
            "11/11 [==============================] - 1s 60ms/step - loss: 0.0338 - val_loss: 0.0462\n",
            "Epoch 86/100\n",
            "11/11 [==============================] - 1s 63ms/step - loss: 0.0325 - val_loss: 0.0869\n",
            "Epoch 87/100\n",
            "11/11 [==============================] - 1s 60ms/step - loss: 0.0349 - val_loss: 0.0686\n",
            "Epoch 88/100\n",
            "11/11 [==============================] - 1s 60ms/step - loss: 0.0346 - val_loss: 0.0463\n",
            "Epoch 89/100\n",
            "11/11 [==============================] - 1s 60ms/step - loss: 0.0391 - val_loss: 0.0771\n",
            "Epoch 90/100\n",
            "11/11 [==============================] - 1s 60ms/step - loss: 0.0308 - val_loss: 0.0540\n",
            "Epoch 91/100\n",
            "11/11 [==============================] - 1s 58ms/step - loss: 0.0289 - val_loss: 0.0641\n",
            "Epoch 92/100\n",
            "11/11 [==============================] - 1s 61ms/step - loss: 0.0318 - val_loss: 0.0607\n",
            "Epoch 93/100\n",
            "11/11 [==============================] - 1s 62ms/step - loss: 0.0382 - val_loss: 0.0600\n",
            "Epoch 94/100\n",
            "11/11 [==============================] - 1s 60ms/step - loss: 0.0320 - val_loss: 0.0625\n",
            "Epoch 95/100\n",
            "11/11 [==============================] - 1s 65ms/step - loss: 0.0314 - val_loss: 0.0878\n",
            "Epoch 96/100\n",
            "11/11 [==============================] - 1s 60ms/step - loss: 0.0341 - val_loss: 0.0582\n",
            "Epoch 97/100\n",
            "11/11 [==============================] - 1s 62ms/step - loss: 0.0310 - val_loss: 0.0723\n",
            "Epoch 98/100\n",
            "11/11 [==============================] - 1s 63ms/step - loss: 0.0286 - val_loss: 0.0782\n",
            "Epoch 99/100\n",
            "11/11 [==============================] - 1s 61ms/step - loss: 0.0272 - val_loss: 0.0677\n",
            "Epoch 100/100\n",
            "11/11 [==============================] - 1s 62ms/step - loss: 0.0277 - val_loss: 0.0859\n"
          ],
          "name": "stdout"
        }
      ]
    },
    {
      "cell_type": "code",
      "metadata": {
        "id": "vwtAthfpL-jc"
      },
      "source": [
        "# the prediction and checking performance metrics\n",
        "train_predict=model.predict(X_train)\n",
        "test_predict=model.predict(X_test)"
      ],
      "execution_count": null,
      "outputs": []
    },
    {
      "cell_type": "code",
      "metadata": {
        "id": "IK7Jt97dL-gk"
      },
      "source": [
        "#transform to original form\n",
        "train_predict=scaler.inverse_transform(train_predict)\n",
        "test_predict=scaler.inverse_transform(test_predict)"
      ],
      "execution_count": null,
      "outputs": []
    },
    {
      "cell_type": "code",
      "metadata": {
        "colab": {
          "base_uri": "https://localhost:8080/",
          "height": 265
        },
        "id": "sbcgf2euL-dz",
        "outputId": "39e9a650-e1a5-4414-8902-37281e224037"
      },
      "source": [
        "plt.plot(history.history['loss'])\n",
        "plt.show()"
      ],
      "execution_count": null,
      "outputs": [
        {
          "output_type": "display_data",
          "data": {
            "image/png": "[encoded data removed]",
            "text/plain": [
              "<Figure size 432x288 with 1 Axes>"
            ]
          },
          "metadata": {
            "tags": [],
            "needs_background": "light"
          }
        }
      ]
    },
    {
      "cell_type": "code",
      "metadata": {
        "colab": {
          "base_uri": "https://localhost:8080/"
        },
        "id": "4JVOWtZvL-a-",
        "outputId": "c329fb42-391f-47a0-b634-a6196332dc35"
      },
      "source": [
        "# train data RMSE\n",
        "import math\n",
        "from sklearn.metrics import mean_squared_error\n",
        "math.sqrt(mean_squared_error(y_train,train_predict))"
      ],
      "execution_count": null,
      "outputs": [
        {
          "output_type": "execute_result",
          "data": {
            "text/plain": [
              "3369.3436436526426"
            ]
          },
          "metadata": {
            "tags": []
          },
          "execution_count": 373
        }
      ]
    },
    {
      "cell_type": "code",
      "metadata": {
        "colab": {
          "base_uri": "https://localhost:8080/"
        },
        "id": "LBMsyQmHL-Kd",
        "outputId": "67afcdd4-8bf1-40ca-fd7f-11599fb18cc4"
      },
      "source": [
        "# train data RMSE\n",
        "math.sqrt(mean_squared_error(ytest,test_predict))"
      ],
      "execution_count": null,
      "outputs": [
        {
          "output_type": "execute_result",
          "data": {
            "text/plain": [
              "3432.594244760317"
            ]
          },
          "metadata": {
            "tags": []
          },
          "execution_count": 374
        }
      ]
    },
    {
      "cell_type": "code",
      "metadata": {
        "colab": {
          "base_uri": "https://localhost:8080/",
          "height": 374
        },
        "id": "kaZsAk_rMOPL",
        "outputId": "729c9285-3326-4f74-89ea-ac35064b5e28"
      },
      "source": [
        "# plotting\n",
        "# shift train predictions for plotting\n",
        "look_back=50\n",
        "trainPredictPlot=numpy.empty_like(df1)\n",
        "trainPredictPlot[:,:] = np.nan\n",
        "trainPredictPlot[look_back:len(train_predict)+look_back,:]= train_predict\n",
        "#shift test prediction for plotting\n",
        "testPredictPlot=numpy.empty_like(df1)\n",
        "testPredictPlot[:,:]= numpy.nan\n",
        "testPredictPlot[len(train_predict)+(look_back*2)+1:len(df1)-1,:] = test_predict\n",
        "#plot baseline and predictions\n",
        "plt.xlabel=('Date')\n",
        "plt.ylabel=('Consumption')\n",
        "plt.figure(figsize=(12,6))\n",
        "plt.plot(scaler.inverse_transform(df1))\n",
        "plt.plot(trainPredictPlot)\n",
        "plt.plot(testPredictPlot)\n",
        "plt.legend(['data','trainP', 'testP'])\n",
        "plt.show()"
      ],
      "execution_count": null,
      "outputs": [
        {
          "output_type": "display_data",
          "data": {
            "image/png": "[encoded data removed]",
            "text/plain": [
              "<Figure size 864x432 with 1 Axes>"
            ]
          },
          "metadata": {
            "tags": [],
            "needs_background": "light"
          }
        }
      ]
    },
    {
      "cell_type": "code",
      "metadata": {
        "colab": {
          "base_uri": "https://localhost:8080/"
        },
        "id": "DJm1yFZjMSHD",
        "outputId": "e9b6865a-3b2c-428c-ba52-5eefe8d06cad"
      },
      "source": [
        "len(test_data)"
      ],
      "execution_count": null,
      "outputs": [
        {
          "output_type": "execute_result",
          "data": {
            "text/plain": [
              "74"
            ]
          },
          "metadata": {
            "tags": []
          },
          "execution_count": 376
        }
      ]
    },
    {
      "cell_type": "code",
      "metadata": {
        "colab": {
          "base_uri": "https://localhost:8080/"
        },
        "id": "j98uB1YvMUDV",
        "outputId": "7565f529-377d-43fa-ddd4-2cc495e0f15e"
      },
      "source": [
        "x_input=test_data[24:].reshape(1,-1)   #77\n",
        "x_input.shape"
      ],
      "execution_count": null,
      "outputs": [
        {
          "output_type": "execute_result",
          "data": {
            "text/plain": [
              "(1, 50)"
            ]
          },
          "metadata": {
            "tags": []
          },
          "execution_count": 377
        }
      ]
    },
    {
      "cell_type": "code",
      "metadata": {
        "id": "I8ZXlFMgMT7q"
      },
      "source": [
        "temp_input=list(x_input)\n",
        "temp_input=temp_input[0].tolist()"
      ],
      "execution_count": null,
      "outputs": []
    },
    {
      "cell_type": "code",
      "metadata": {
        "colab": {
          "base_uri": "https://localhost:8080/"
        },
        "id": "jLx8p9nmMjoR",
        "outputId": "bcddfa6a-86b7-4639-ca9c-b9db354fb6b5"
      },
      "source": [
        "#demonstrate predictions for next 100 days\n",
        "from numpy import array\n",
        "lst_output=[]\n",
        "n_steps=50    #100\n",
        "i=0\n",
        "while(i<30):       #30 for 30 days\n",
        "\n",
        "    if(len(temp_input)>50):\n",
        "      #print(temp_input)\n",
        "      x_input=np.array(temp_input[1:])\n",
        "      print(\"{} day input {}\".format(i,x_input))\n",
        "      x_input=x_input.reshape(1,-1)\n",
        "      x_input=x_input.reshape((1,n_steps,1))\n",
        "      #print(x_input)\n",
        "      yhat=model.predict(x_input,verbose=0)\n",
        "      print(\"{} day output {}\".format(i,yhat))\n",
        "      temp_input.extend(yhat[0].tolist())\n",
        "      temp_input=temp_input[1:]\n",
        "      #print(temp_input)\n",
        "      lst_output.extend(yhat.tolist())\n",
        "      i=i+1\n",
        "    else:\n",
        "      x_input=x_input.reshape((1,n_steps,1))\n",
        "      yhat=model.predict(x_input,verbose=0)\n",
        "      print(yhat[0])\n",
        "      temp_input.extend(yhat[0].tolist())\n",
        "      print(len(temp_input))\n",
        "      lst_output.extend(yhat.tolist())\n",
        "      i=i+1\n",
        "\n",
        "print(lst_output)"
      ],
      "execution_count": null,
      "outputs": [
        {
          "output_type": "stream",
          "text": [
            "[0.29011145]\n",
            "51\n",
            "1 day input [0.4898793  0.4898793  0.4898793  0.4898793  0.4898793  0.4898793\n",
            " 0.3238801  0.38100328 0.4187687  0.26936963 1.         1.\n",
            " 1.         1.         0.4898793  0.4898793  0.4898793  0.4898793\n",
            " 0.4898793  0.4898793  0.4898793  0.36093297 0.04277707 0.10595696\n",
            " 0.16011116 0.42910076 0.4898793  0.4898793  0.4898793  0.4898793\n",
            " 0.4898793  0.4898793  0.4898793  0.50985701 0.52624578 0.32863047\n",
            " 0.4219752  0.41473089 0.29181512 0.17246212 1.         1.\n",
            " 0.4898793  0.4898793  0.4898793  0.4898793  0.4898793  0.4898793\n",
            " 0.4898793  0.29011145]\n",
            "1 day output [[0.37233183]]\n",
            "2 day input [0.4898793  0.4898793  0.4898793  0.4898793  0.4898793  0.3238801\n",
            " 0.38100328 0.4187687  0.26936963 1.         1.         1.\n",
            " 1.         0.4898793  0.4898793  0.4898793  0.4898793  0.4898793\n",
            " 0.4898793  0.4898793  0.36093297 0.04277707 0.10595696 0.16011116\n",
            " 0.42910076 0.4898793  0.4898793  0.4898793  0.4898793  0.4898793\n",
            " 0.4898793  0.4898793  0.50985701 0.52624578 0.32863047 0.4219752\n",
            " 0.41473089 0.29181512 0.17246212 1.         1.         0.4898793\n",
            " 0.4898793  0.4898793  0.4898793  0.4898793  0.4898793  0.4898793\n",
            " 0.29011145 0.37233183]\n",
            "2 day output [[0.45254213]]\n",
            "3 day input [0.4898793  0.4898793  0.4898793  0.4898793  0.3238801  0.38100328\n",
            " 0.4187687  0.26936963 1.         1.         1.         1.\n",
            " 0.4898793  0.4898793  0.4898793  0.4898793  0.4898793  0.4898793\n",
            " 0.4898793  0.36093297 0.04277707 0.10595696 0.16011116 0.42910076\n",
            " 0.4898793  0.4898793  0.4898793  0.4898793  0.4898793  0.4898793\n",
            " 0.4898793  0.50985701 0.52624578 0.32863047 0.4219752  0.41473089\n",
            " 0.29181512 0.17246212 1.         1.         0.4898793  0.4898793\n",
            " 0.4898793  0.4898793  0.4898793  0.4898793  0.4898793  0.29011145\n",
            " 0.37233183 0.45254213]\n",
            "3 day output [[0.5315549]]\n",
            "4 day input [0.4898793  0.4898793  0.4898793  0.3238801  0.38100328 0.4187687\n",
            " 0.26936963 1.         1.         1.         1.         0.4898793\n",
            " 0.4898793  0.4898793  0.4898793  0.4898793  0.4898793  0.4898793\n",
            " 0.36093297 0.04277707 0.10595696 0.16011116 0.42910076 0.4898793\n",
            " 0.4898793  0.4898793  0.4898793  0.4898793  0.4898793  0.4898793\n",
            " 0.50985701 0.52624578 0.32863047 0.4219752  0.41473089 0.29181512\n",
            " 0.17246212 1.         1.         0.4898793  0.4898793  0.4898793\n",
            " 0.4898793  0.4898793  0.4898793  0.4898793  0.29011145 0.37233183\n",
            " 0.45254213 0.53155488]\n",
            "4 day output [[0.6094068]]\n",
            "5 day input [0.4898793  0.4898793  0.3238801  0.38100328 0.4187687  0.26936963\n",
            " 1.         1.         1.         1.         0.4898793  0.4898793\n",
            " 0.4898793  0.4898793  0.4898793  0.4898793  0.4898793  0.36093297\n",
            " 0.04277707 0.10595696 0.16011116 0.42910076 0.4898793  0.4898793\n",
            " 0.4898793  0.4898793  0.4898793  0.4898793  0.4898793  0.50985701\n",
            " 0.52624578 0.32863047 0.4219752  0.41473089 0.29181512 0.17246212\n",
            " 1.         1.         0.4898793  0.4898793  0.4898793  0.4898793\n",
            " 0.4898793  0.4898793  0.4898793  0.29011145 0.37233183 0.45254213\n",
            " 0.53155488 0.60940683]\n",
            "5 day output [[0.68436724]]\n",
            "6 day input [0.4898793  0.3238801  0.38100328 0.4187687  0.26936963 1.\n",
            " 1.         1.         1.         0.4898793  0.4898793  0.4898793\n",
            " 0.4898793  0.4898793  0.4898793  0.4898793  0.36093297 0.04277707\n",
            " 0.10595696 0.16011116 0.42910076 0.4898793  0.4898793  0.4898793\n",
            " 0.4898793  0.4898793  0.4898793  0.4898793  0.50985701 0.52624578\n",
            " 0.32863047 0.4219752  0.41473089 0.29181512 0.17246212 1.\n",
            " 1.         0.4898793  0.4898793  0.4898793  0.4898793  0.4898793\n",
            " 0.4898793  0.4898793  0.29011145 0.37233183 0.45254213 0.53155488\n",
            " 0.60940683 0.68436724]\n",
            "6 day output [[0.74627364]]\n",
            "7 day input [0.3238801  0.38100328 0.4187687  0.26936963 1.         1.\n",
            " 1.         1.         0.4898793  0.4898793  0.4898793  0.4898793\n",
            " 0.4898793  0.4898793  0.4898793  0.36093297 0.04277707 0.10595696\n",
            " 0.16011116 0.42910076 0.4898793  0.4898793  0.4898793  0.4898793\n",
            " 0.4898793  0.4898793  0.4898793  0.50985701 0.52624578 0.32863047\n",
            " 0.4219752  0.41473089 0.29181512 0.17246212 1.         1.\n",
            " 0.4898793  0.4898793  0.4898793  0.4898793  0.4898793  0.4898793\n",
            " 0.4898793  0.29011145 0.37233183 0.45254213 0.53155488 0.60940683\n",
            " 0.68436724 0.74627364]\n",
            "7 day output [[0.7815081]]\n",
            "8 day input [0.38100328 0.4187687  0.26936963 1.         1.         1.\n",
            " 1.         0.4898793  0.4898793  0.4898793  0.4898793  0.4898793\n",
            " 0.4898793  0.4898793  0.36093297 0.04277707 0.10595696 0.16011116\n",
            " 0.42910076 0.4898793  0.4898793  0.4898793  0.4898793  0.4898793\n",
            " 0.4898793  0.4898793  0.50985701 0.52624578 0.32863047 0.4219752\n",
            " 0.41473089 0.29181512 0.17246212 1.         1.         0.4898793\n",
            " 0.4898793  0.4898793  0.4898793  0.4898793  0.4898793  0.4898793\n",
            " 0.29011145 0.37233183 0.45254213 0.53155488 0.60940683 0.68436724\n",
            " 0.74627364 0.78150809]\n",
            "8 day output [[0.7814018]]\n",
            "9 day input [0.4187687  0.26936963 1.         1.         1.         1.\n",
            " 0.4898793  0.4898793  0.4898793  0.4898793  0.4898793  0.4898793\n",
            " 0.4898793  0.36093297 0.04277707 0.10595696 0.16011116 0.42910076\n",
            " 0.4898793  0.4898793  0.4898793  0.4898793  0.4898793  0.4898793\n",
            " 0.4898793  0.50985701 0.52624578 0.32863047 0.4219752  0.41473089\n",
            " 0.29181512 0.17246212 1.         1.         0.4898793  0.4898793\n",
            " 0.4898793  0.4898793  0.4898793  0.4898793  0.4898793  0.29011145\n",
            " 0.37233183 0.45254213 0.53155488 0.60940683 0.68436724 0.74627364\n",
            " 0.78150809 0.78140181]\n",
            "9 day output [[0.7480462]]\n",
            "10 day input [0.26936963 1.         1.         1.         1.         0.4898793\n",
            " 0.4898793  0.4898793  0.4898793  0.4898793  0.4898793  0.4898793\n",
            " 0.36093297 0.04277707 0.10595696 0.16011116 0.42910076 0.4898793\n",
            " 0.4898793  0.4898793  0.4898793  0.4898793  0.4898793  0.4898793\n",
            " 0.50985701 0.52624578 0.32863047 0.4219752  0.41473089 0.29181512\n",
            " 0.17246212 1.         1.         0.4898793  0.4898793  0.4898793\n",
            " 0.4898793  0.4898793  0.4898793  0.4898793  0.29011145 0.37233183\n",
            " 0.45254213 0.53155488 0.60940683 0.68436724 0.74627364 0.78150809\n",
            " 0.78140181 0.74804622]\n",
            "10 day output [[0.690176]]\n",
            "11 day input [1.         1.         1.         1.         0.4898793  0.4898793\n",
            " 0.4898793  0.4898793  0.4898793  0.4898793  0.4898793  0.36093297\n",
            " 0.04277707 0.10595696 0.16011116 0.42910076 0.4898793  0.4898793\n",
            " 0.4898793  0.4898793  0.4898793  0.4898793  0.4898793  0.50985701\n",
            " 0.52624578 0.32863047 0.4219752  0.41473089 0.29181512 0.17246212\n",
            " 1.         1.         0.4898793  0.4898793  0.4898793  0.4898793\n",
            " 0.4898793  0.4898793  0.4898793  0.29011145 0.37233183 0.45254213\n",
            " 0.53155488 0.60940683 0.68436724 0.74627364 0.78150809 0.78140181\n",
            " 0.74804622 0.69017601]\n",
            "11 day output [[0.63552016]]\n",
            "12 day input [1.         1.         1.         0.4898793  0.4898793  0.4898793\n",
            " 0.4898793  0.4898793  0.4898793  0.4898793  0.36093297 0.04277707\n",
            " 0.10595696 0.16011116 0.42910076 0.4898793  0.4898793  0.4898793\n",
            " 0.4898793  0.4898793  0.4898793  0.4898793  0.50985701 0.52624578\n",
            " 0.32863047 0.4219752  0.41473089 0.29181512 0.17246212 1.\n",
            " 1.         0.4898793  0.4898793  0.4898793  0.4898793  0.4898793\n",
            " 0.4898793  0.4898793  0.29011145 0.37233183 0.45254213 0.53155488\n",
            " 0.60940683 0.68436724 0.74627364 0.78150809 0.78140181 0.74804622\n",
            " 0.69017601 0.63552016]\n",
            "12 day output [[0.56291115]]\n",
            "13 day input [1.         1.         0.4898793  0.4898793  0.4898793  0.4898793\n",
            " 0.4898793  0.4898793  0.4898793  0.36093297 0.04277707 0.10595696\n",
            " 0.16011116 0.42910076 0.4898793  0.4898793  0.4898793  0.4898793\n",
            " 0.4898793  0.4898793  0.4898793  0.50985701 0.52624578 0.32863047\n",
            " 0.4219752  0.41473089 0.29181512 0.17246212 1.         1.\n",
            " 0.4898793  0.4898793  0.4898793  0.4898793  0.4898793  0.4898793\n",
            " 0.4898793  0.29011145 0.37233183 0.45254213 0.53155488 0.60940683\n",
            " 0.68436724 0.74627364 0.78150809 0.78140181 0.74804622 0.69017601\n",
            " 0.63552016 0.56291115]\n",
            "13 day output [[0.53244877]]\n",
            "14 day input [1.         0.4898793  0.4898793  0.4898793  0.4898793  0.4898793\n",
            " 0.4898793  0.4898793  0.36093297 0.04277707 0.10595696 0.16011116\n",
            " 0.42910076 0.4898793  0.4898793  0.4898793  0.4898793  0.4898793\n",
            " 0.4898793  0.4898793  0.50985701 0.52624578 0.32863047 0.4219752\n",
            " 0.41473089 0.29181512 0.17246212 1.         1.         0.4898793\n",
            " 0.4898793  0.4898793  0.4898793  0.4898793  0.4898793  0.4898793\n",
            " 0.29011145 0.37233183 0.45254213 0.53155488 0.60940683 0.68436724\n",
            " 0.74627364 0.78150809 0.78140181 0.74804622 0.69017601 0.63552016\n",
            " 0.56291115 0.53244877]\n",
            "14 day output [[0.5587796]]\n",
            "15 day input [0.4898793  0.4898793  0.4898793  0.4898793  0.4898793  0.4898793\n",
            " 0.4898793  0.36093297 0.04277707 0.10595696 0.16011116 0.42910076\n",
            " 0.4898793  0.4898793  0.4898793  0.4898793  0.4898793  0.4898793\n",
            " 0.4898793  0.50985701 0.52624578 0.32863047 0.4219752  0.41473089\n",
            " 0.29181512 0.17246212 1.         1.         0.4898793  0.4898793\n",
            " 0.4898793  0.4898793  0.4898793  0.4898793  0.4898793  0.29011145\n",
            " 0.37233183 0.45254213 0.53155488 0.60940683 0.68436724 0.74627364\n",
            " 0.78150809 0.78140181 0.74804622 0.69017601 0.63552016 0.56291115\n",
            " 0.53244877 0.5587796 ]\n",
            "15 day output [[0.6153066]]\n",
            "16 day input [0.4898793  0.4898793  0.4898793  0.4898793  0.4898793  0.4898793\n",
            " 0.36093297 0.04277707 0.10595696 0.16011116 0.42910076 0.4898793\n",
            " 0.4898793  0.4898793  0.4898793  0.4898793  0.4898793  0.4898793\n",
            " 0.50985701 0.52624578 0.32863047 0.4219752  0.41473089 0.29181512\n",
            " 0.17246212 1.         1.         0.4898793  0.4898793  0.4898793\n",
            " 0.4898793  0.4898793  0.4898793  0.4898793  0.29011145 0.37233183\n",
            " 0.45254213 0.53155488 0.60940683 0.68436724 0.74627364 0.78150809\n",
            " 0.78140181 0.74804622 0.69017601 0.63552016 0.56291115 0.53244877\n",
            " 0.5587796  0.61530662]\n",
            "16 day output [[0.6800447]]\n",
            "17 day input [0.4898793  0.4898793  0.4898793  0.4898793  0.4898793  0.36093297\n",
            " 0.04277707 0.10595696 0.16011116 0.42910076 0.4898793  0.4898793\n",
            " 0.4898793  0.4898793  0.4898793  0.4898793  0.4898793  0.50985701\n",
            " 0.52624578 0.32863047 0.4219752  0.41473089 0.29181512 0.17246212\n",
            " 1.         1.         0.4898793  0.4898793  0.4898793  0.4898793\n",
            " 0.4898793  0.4898793  0.4898793  0.29011145 0.37233183 0.45254213\n",
            " 0.53155488 0.60940683 0.68436724 0.74627364 0.78150809 0.78140181\n",
            " 0.74804622 0.69017601 0.63552016 0.56291115 0.53244877 0.5587796\n",
            " 0.61530662 0.68004471]\n",
            "17 day output [[0.73935807]]\n",
            "18 day input [0.4898793  0.4898793  0.4898793  0.4898793  0.36093297 0.04277707\n",
            " 0.10595696 0.16011116 0.42910076 0.4898793  0.4898793  0.4898793\n",
            " 0.4898793  0.4898793  0.4898793  0.4898793  0.50985701 0.52624578\n",
            " 0.32863047 0.4219752  0.41473089 0.29181512 0.17246212 1.\n",
            " 1.         0.4898793  0.4898793  0.4898793  0.4898793  0.4898793\n",
            " 0.4898793  0.4898793  0.29011145 0.37233183 0.45254213 0.53155488\n",
            " 0.60940683 0.68436724 0.74627364 0.78150809 0.78140181 0.74804622\n",
            " 0.69017601 0.63552016 0.56291115 0.53244877 0.5587796  0.61530662\n",
            " 0.68004471 0.73935807]\n",
            "18 day output [[0.7760815]]\n",
            "19 day input [0.4898793  0.4898793  0.4898793  0.36093297 0.04277707 0.10595696\n",
            " 0.16011116 0.42910076 0.4898793  0.4898793  0.4898793  0.4898793\n",
            " 0.4898793  0.4898793  0.4898793  0.50985701 0.52624578 0.32863047\n",
            " 0.4219752  0.41473089 0.29181512 0.17246212 1.         1.\n",
            " 0.4898793  0.4898793  0.4898793  0.4898793  0.4898793  0.4898793\n",
            " 0.4898793  0.29011145 0.37233183 0.45254213 0.53155488 0.60940683\n",
            " 0.68436724 0.74627364 0.78150809 0.78140181 0.74804622 0.69017601\n",
            " 0.63552016 0.56291115 0.53244877 0.5587796  0.61530662 0.68004471\n",
            " 0.73935807 0.7760815 ]\n",
            "19 day output [[0.77533734]]\n",
            "20 day input [0.4898793  0.4898793  0.36093297 0.04277707 0.10595696 0.16011116\n",
            " 0.42910076 0.4898793  0.4898793  0.4898793  0.4898793  0.4898793\n",
            " 0.4898793  0.4898793  0.50985701 0.52624578 0.32863047 0.4219752\n",
            " 0.41473089 0.29181512 0.17246212 1.         1.         0.4898793\n",
            " 0.4898793  0.4898793  0.4898793  0.4898793  0.4898793  0.4898793\n",
            " 0.29011145 0.37233183 0.45254213 0.53155488 0.60940683 0.68436724\n",
            " 0.74627364 0.78150809 0.78140181 0.74804622 0.69017601 0.63552016\n",
            " 0.56291115 0.53244877 0.5587796  0.61530662 0.68004471 0.73935807\n",
            " 0.7760815  0.77533734]\n",
            "20 day output [[0.73503757]]\n",
            "21 day input [0.4898793  0.36093297 0.04277707 0.10595696 0.16011116 0.42910076\n",
            " 0.4898793  0.4898793  0.4898793  0.4898793  0.4898793  0.4898793\n",
            " 0.4898793  0.50985701 0.52624578 0.32863047 0.4219752  0.41473089\n",
            " 0.29181512 0.17246212 1.         1.         0.4898793  0.4898793\n",
            " 0.4898793  0.4898793  0.4898793  0.4898793  0.4898793  0.29011145\n",
            " 0.37233183 0.45254213 0.53155488 0.60940683 0.68436724 0.74627364\n",
            " 0.78150809 0.78140181 0.74804622 0.69017601 0.63552016 0.56291115\n",
            " 0.53244877 0.5587796  0.61530662 0.68004471 0.73935807 0.7760815\n",
            " 0.77533734 0.73503757]\n",
            "21 day output [[0.66846204]]\n",
            "22 day input [0.36093297 0.04277707 0.10595696 0.16011116 0.42910076 0.4898793\n",
            " 0.4898793  0.4898793  0.4898793  0.4898793  0.4898793  0.4898793\n",
            " 0.50985701 0.52624578 0.32863047 0.4219752  0.41473089 0.29181512\n",
            " 0.17246212 1.         1.         0.4898793  0.4898793  0.4898793\n",
            " 0.4898793  0.4898793  0.4898793  0.4898793  0.29011145 0.37233183\n",
            " 0.45254213 0.53155488 0.60940683 0.68436724 0.74627364 0.78150809\n",
            " 0.78140181 0.74804622 0.69017601 0.63552016 0.56291115 0.53244877\n",
            " 0.5587796  0.61530662 0.68004471 0.73935807 0.7760815  0.77533734\n",
            " 0.73503757 0.66846204]\n",
            "22 day output [[0.60172737]]\n",
            "23 day input [0.04277707 0.10595696 0.16011116 0.42910076 0.4898793  0.4898793\n",
            " 0.4898793  0.4898793  0.4898793  0.4898793  0.4898793  0.50985701\n",
            " 0.52624578 0.32863047 0.4219752  0.41473089 0.29181512 0.17246212\n",
            " 1.         1.         0.4898793  0.4898793  0.4898793  0.4898793\n",
            " 0.4898793  0.4898793  0.4898793  0.29011145 0.37233183 0.45254213\n",
            " 0.53155488 0.60940683 0.68436724 0.74627364 0.78150809 0.78140181\n",
            " 0.74804622 0.69017601 0.63552016 0.56291115 0.53244877 0.5587796\n",
            " 0.61530662 0.68004471 0.73935807 0.7760815  0.77533734 0.73503757\n",
            " 0.66846204 0.60172737]\n",
            "23 day output [[0.5576009]]\n",
            "24 day input [0.10595696 0.16011116 0.42910076 0.4898793  0.4898793  0.4898793\n",
            " 0.4898793  0.4898793  0.4898793  0.4898793  0.50985701 0.52624578\n",
            " 0.32863047 0.4219752  0.41473089 0.29181512 0.17246212 1.\n",
            " 1.         0.4898793  0.4898793  0.4898793  0.4898793  0.4898793\n",
            " 0.4898793  0.4898793  0.29011145 0.37233183 0.45254213 0.53155488\n",
            " 0.60940683 0.68436724 0.74627364 0.78150809 0.78140181 0.74804622\n",
            " 0.69017601 0.63552016 0.56291115 0.53244877 0.5587796  0.61530662\n",
            " 0.68004471 0.73935807 0.7760815  0.77533734 0.73503757 0.66846204\n",
            " 0.60172737 0.55760092]\n",
            "24 day output [[0.5463664]]\n",
            "25 day input [0.16011116 0.42910076 0.4898793  0.4898793  0.4898793  0.4898793\n",
            " 0.4898793  0.4898793  0.4898793  0.50985701 0.52624578 0.32863047\n",
            " 0.4219752  0.41473089 0.29181512 0.17246212 1.         1.\n",
            " 0.4898793  0.4898793  0.4898793  0.4898793  0.4898793  0.4898793\n",
            " 0.4898793  0.29011145 0.37233183 0.45254213 0.53155488 0.60940683\n",
            " 0.68436724 0.74627364 0.78150809 0.78140181 0.74804622 0.69017601\n",
            " 0.63552016 0.56291115 0.53244877 0.5587796  0.61530662 0.68004471\n",
            " 0.73935807 0.7760815  0.77533734 0.73503757 0.66846204 0.60172737\n",
            " 0.55760092 0.54636639]\n",
            "25 day output [[0.5655632]]\n",
            "26 day input [0.42910076 0.4898793  0.4898793  0.4898793  0.4898793  0.4898793\n",
            " 0.4898793  0.4898793  0.50985701 0.52624578 0.32863047 0.4219752\n",
            " 0.41473089 0.29181512 0.17246212 1.         1.         0.4898793\n",
            " 0.4898793  0.4898793  0.4898793  0.4898793  0.4898793  0.4898793\n",
            " 0.29011145 0.37233183 0.45254213 0.53155488 0.60940683 0.68436724\n",
            " 0.74627364 0.78150809 0.78140181 0.74804622 0.69017601 0.63552016\n",
            " 0.56291115 0.53244877 0.5587796  0.61530662 0.68004471 0.73935807\n",
            " 0.7760815  0.77533734 0.73503757 0.66846204 0.60172737 0.55760092\n",
            " 0.54636639 0.5655632 ]\n",
            "26 day output [[0.60493875]]\n",
            "27 day input [0.4898793  0.4898793  0.4898793  0.4898793  0.4898793  0.4898793\n",
            " 0.4898793  0.50985701 0.52624578 0.32863047 0.4219752  0.41473089\n",
            " 0.29181512 0.17246212 1.         1.         0.4898793  0.4898793\n",
            " 0.4898793  0.4898793  0.4898793  0.4898793  0.4898793  0.29011145\n",
            " 0.37233183 0.45254213 0.53155488 0.60940683 0.68436724 0.74627364\n",
            " 0.78150809 0.78140181 0.74804622 0.69017601 0.63552016 0.56291115\n",
            " 0.53244877 0.5587796  0.61530662 0.68004471 0.73935807 0.7760815\n",
            " 0.77533734 0.73503757 0.66846204 0.60172737 0.55760092 0.54636639\n",
            " 0.5655632  0.60493875]\n",
            "27 day output [[0.65239364]]\n",
            "28 day input [0.4898793  0.4898793  0.4898793  0.4898793  0.4898793  0.4898793\n",
            " 0.50985701 0.52624578 0.32863047 0.4219752  0.41473089 0.29181512\n",
            " 0.17246212 1.         1.         0.4898793  0.4898793  0.4898793\n",
            " 0.4898793  0.4898793  0.4898793  0.4898793  0.29011145 0.37233183\n",
            " 0.45254213 0.53155488 0.60940683 0.68436724 0.74627364 0.78150809\n",
            " 0.78140181 0.74804622 0.69017601 0.63552016 0.56291115 0.53244877\n",
            " 0.5587796  0.61530662 0.68004471 0.73935807 0.7760815  0.77533734\n",
            " 0.73503757 0.66846204 0.60172737 0.55760092 0.54636639 0.5655632\n",
            " 0.60493875 0.65239364]\n",
            "28 day output [[0.69625306]]\n",
            "29 day input [0.4898793  0.4898793  0.4898793  0.4898793  0.4898793  0.50985701\n",
            " 0.52624578 0.32863047 0.4219752  0.41473089 0.29181512 0.17246212\n",
            " 1.         1.         0.4898793  0.4898793  0.4898793  0.4898793\n",
            " 0.4898793  0.4898793  0.4898793  0.29011145 0.37233183 0.45254213\n",
            " 0.53155488 0.60940683 0.68436724 0.74627364 0.78150809 0.78140181\n",
            " 0.74804622 0.69017601 0.63552016 0.56291115 0.53244877 0.5587796\n",
            " 0.61530662 0.68004471 0.73935807 0.7760815  0.77533734 0.73503757\n",
            " 0.66846204 0.60172737 0.55760092 0.54636639 0.5655632  0.60493875\n",
            " 0.65239364 0.69625306]\n",
            "29 day output [[0.7243113]]\n",
            "[[0.2901114523410797], [0.372331827878952], [0.45254212617874146], [0.5315548777580261], [0.6094068288803101], [0.6843672394752502], [0.7462736368179321], [0.7815080881118774], [0.7814018130302429], [0.7480462193489075], [0.6901760101318359], [0.6355201601982117], [0.5629111528396606], [0.5324487686157227], [0.5587795972824097], [0.6153066158294678], [0.6800447106361389], [0.7393580675125122], [0.7760815024375916], [0.7753373384475708], [0.7350375652313232], [0.6684620380401611], [0.6017273664474487], [0.5576009154319763], [0.5463663935661316], [0.5655632019042969], [0.6049387454986572], [0.652393639087677], [0.6962530612945557], [0.7243112921714783]]\n"
          ],
          "name": "stdout"
        }
      ]
    },
    {
      "cell_type": "code",
      "metadata": {
        "id": "SnpEQyMaMjhG"
      },
      "source": [
        "day_new=np.arange(1,51)\n",
        "day_pred=np.arange(51,81) "
      ],
      "execution_count": null,
      "outputs": []
    },
    {
      "cell_type": "code",
      "metadata": {
        "colab": {
          "base_uri": "https://localhost:8080/"
        },
        "id": "n22bxDuGMsZo",
        "outputId": "34e6f6ab-6663-4c09-a106-a0e2f31a0a0b"
      },
      "source": [
        "import matplotlib.pyplot as plt\n",
        "len(df1)"
      ],
      "execution_count": null,
      "outputs": [
        {
          "output_type": "execute_result",
          "data": {
            "text/plain": [
              "210"
            ]
          },
          "metadata": {
            "tags": []
          },
          "execution_count": 381
        }
      ]
    },
    {
      "cell_type": "code",
      "metadata": {
        "colab": {
          "base_uri": "https://localhost:8080/",
          "height": 282
        },
        "id": "4mRP9qWdMsUX",
        "outputId": "8344909a-377d-45a8-fafc-8f2045ecc495"
      },
      "source": [
        "plt.plot(day_new,scaler.inverse_transform(df1[160:]))\n",
        "plt.plot(day_pred,scaler.inverse_transform(lst_output))"
      ],
      "execution_count": null,
      "outputs": [
        {
          "output_type": "execute_result",
          "data": {
            "text/plain": [
              "[<matplotlib.lines.Line2D at 0x7fc415383310>]"
            ]
          },
          "metadata": {
            "tags": []
          },
          "execution_count": 382
        },
        {
          "output_type": "display_data",
          "data": {
            "image/png": "[encoded data removed]",
            "text/plain": [
              "<Figure size 432x288 with 1 Axes>"
            ]
          },
          "metadata": {
            "tags": [],
            "needs_background": "light"
          }
        }
      ]
    },
    {
      "cell_type": "code",
      "metadata": {
        "colab": {
          "base_uri": "https://localhost:8080/",
          "height": 282
        },
        "id": "1dE-G9BKMsQL",
        "outputId": "1e904c60-1de8-4ef1-dd4c-77faa6c70aa3"
      },
      "source": [
        "df3=df1.tolist()\n",
        "df3.extend(lst_output)\n",
        "plt.plot(df3[200:])"
      ],
      "execution_count": null,
      "outputs": [
        {
          "output_type": "execute_result",
          "data": {
            "text/plain": [
              "[<matplotlib.lines.Line2D at 0x7fc41c8a8910>]"
            ]
          },
          "metadata": {
            "tags": []
          },
          "execution_count": 383
        },
        {
          "output_type": "display_data",
          "data": {
            "image/png": "[encoded data removed]",
            "text/plain": [
              "<Figure size 432x288 with 1 Axes>"
            ]
          },
          "metadata": {
            "tags": [],
            "needs_background": "light"
          }
        }
      ]
    },
    {
      "cell_type": "code",
      "metadata": {
        "id": "XF7SlytbSFIq"
      },
      "source": [
        "import numpy as np\n",
        "\n",
        "def mape(actual, pred): \n",
        "    actual, pred = np.array(actual), np.array(pred)\n",
        "    return np.mean(np.abs((actual - pred) / actual))*100"
      ],
      "execution_count": null,
      "outputs": []
    },
    {
      "cell_type": "code",
      "metadata": {
        "colab": {
          "base_uri": "https://localhost:8080/"
        },
        "id": "OwgiSzIdSJDn",
        "outputId": "cb31d708-8fe5-4300-f9bd-84a1238ed2d5"
      },
      "source": [
        "mape(ytest,test_predict)\n"
      ],
      "execution_count": null,
      "outputs": [
        {
          "output_type": "execute_result",
          "data": {
            "text/plain": [
              "771555.3970025777"
            ]
          },
          "metadata": {
            "tags": []
          },
          "execution_count": 385
        }
      ]
    },
    {
      "cell_type": "code",
      "metadata": {
        "colab": {
          "base_uri": "https://localhost:8080/"
        },
        "id": "k43yjk4RXzJQ",
        "outputId": "2d415ca3-3e58-4bd8-d4d8-010de53a0282"
      },
      "source": [
        "df1.mean()"
      ],
      "execution_count": null,
      "outputs": [
        {
          "output_type": "execute_result",
          "data": {
            "text/plain": [
              "0.46329043642916706"
            ]
          },
          "metadata": {
            "tags": []
          },
          "execution_count": 386
        }
      ]
    }
  ]
}