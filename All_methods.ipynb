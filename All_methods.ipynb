{
  "nbformat": 4,
  "nbformat_minor": 0,
  "metadata": {
    "colab": {
      "name": "All methods.ipynb",
      "provenance": [],
      "collapsed_sections": [],
      "authorship_tag": "ABX9TyOw+pboN8F7VM50ZtGKenr4",
      "include_colab_link": true
    },
    "kernelspec": {
      "name": "python3",
      "display_name": "Python 3"
    },
    "language_info": {
      "name": "python"
    }
  },
  "cells": [
    {
      "cell_type": "markdown",
      "metadata": {
        "id": "view-in-github",
        "colab_type": "text"
      },
      "source": [
        "<a href=\"https://colab.research.google.com/github/niharika4246/AV/blob/master/All_methods.ipynb\" target=\"_parent\"><img src=\"https://colab.research.google.com/assets/colab-badge.svg\" alt=\"Open In Colab\"/></a>"
      ]
    },
    {
      "cell_type": "code",
      "metadata": {
        "id": "Um6XdAEuLTAx"
      },
      "source": [
        "import pandas as pd\n",
        "from datetime import datetime\n",
        "import tensorflow as tf\n",
        "import numpy as np\n",
        "import matplotlib.pyplot as plt\n",
        "import math\n",
        "from keras.models import Sequential\n",
        "from keras.layers import Dense\n",
        "from keras.layers import LSTM\n",
        "from sklearn.preprocessing import MinMaxScaler\n",
        "from sklearn.metrics import mean_squared_error\n",
        "import matplotlib.animation as animation"
      ],
      "execution_count": null,
      "outputs": []
    },
    {
      "cell_type": "code",
      "metadata": {
        "colab": {
          "base_uri": "https://localhost:8080/"
        },
        "id": "VhTpR5KNLZsO",
        "outputId": "a318ad51-aafa-4a1a-f9da-a75a97cf8f50"
      },
      "source": [
        "from google.colab import drive\n",
        "drive.mount('/content/drive')\n"
      ],
      "execution_count": null,
      "outputs": [
        {
          "output_type": "stream",
          "name": "stdout",
          "text": [
            "Mounted at /content/drive\n"
          ]
        }
      ]
    },
    {
      "cell_type": "code",
      "metadata": {
        "id": "Ttyx56b-Lm1p"
      },
      "source": [
        "df=pd.read_csv('/content/drive/MyDrive/dataset_tk_Final.csv',index_col='Date',parse_dates=True)"
      ],
      "execution_count": null,
      "outputs": []
    },
    {
      "cell_type": "code",
      "metadata": {
        "colab": {
          "base_uri": "https://localhost:8080/",
          "height": 406
        },
        "id": "BIplmcLBNb2A",
        "outputId": "5c3b2f61-597d-4069-a0a0-7485c3d67ab7"
      },
      "source": [
        "df.head()\n"
      ],
      "execution_count": null,
      "outputs": [
        {
          "output_type": "execute_result",
          "data": {
            "text/html": [
              "\n",
              "  <div id=\"df-c8f6433f-038c-4fc1-a93d-40b474d2b6b9\">\n",
              "    <div class=\"colab-df-container\">\n",
              "      <div>\n",
              "<style scoped>\n",
              "    .dataframe tbody tr th:only-of-type {\n",
              "        vertical-align: middle;\n",
              "    }\n",
              "\n",
              "    .dataframe tbody tr th {\n",
              "        vertical-align: top;\n",
              "    }\n",
              "\n",
              "    .dataframe thead th {\n",
              "        text-align: right;\n",
              "    }\n",
              "</style>\n",
              "<table border=\"1\" class=\"dataframe\">\n",
              "  <thead>\n",
              "    <tr style=\"text-align: right;\">\n",
              "      <th></th>\n",
              "      <th>Punjab</th>\n",
              "      <th>Haryana</th>\n",
              "      <th>Rajasthan</th>\n",
              "      <th>Delhi</th>\n",
              "      <th>UP</th>\n",
              "      <th>Uttarakhand</th>\n",
              "      <th>HP</th>\n",
              "      <th>J&amp;K</th>\n",
              "      <th>Chandigarh</th>\n",
              "      <th>Chhattisgarh</th>\n",
              "      <th>Gujarat</th>\n",
              "      <th>MP</th>\n",
              "      <th>Maharashtra</th>\n",
              "      <th>Goa</th>\n",
              "      <th>DNH</th>\n",
              "      <th>Andhra Pradesh</th>\n",
              "      <th>Telangana</th>\n",
              "      <th>Karnataka</th>\n",
              "      <th>Kerala</th>\n",
              "      <th>Tamil Nadu</th>\n",
              "      <th>Pondy</th>\n",
              "      <th>Bihar</th>\n",
              "      <th>Jharkhand</th>\n",
              "      <th>Odisha</th>\n",
              "      <th>West Bengal</th>\n",
              "      <th>Sikkim</th>\n",
              "      <th>Arunachal Pradesh</th>\n",
              "      <th>Assam</th>\n",
              "      <th>Manipur</th>\n",
              "      <th>Meghalaya</th>\n",
              "      <th>Mizoram</th>\n",
              "      <th>Nagaland</th>\n",
              "      <th>Tripura</th>\n",
              "      <th>Total Consumption</th>\n",
              "    </tr>\n",
              "    <tr>\n",
              "      <th>Date</th>\n",
              "      <th></th>\n",
              "      <th></th>\n",
              "      <th></th>\n",
              "      <th></th>\n",
              "      <th></th>\n",
              "      <th></th>\n",
              "      <th></th>\n",
              "      <th></th>\n",
              "      <th></th>\n",
              "      <th></th>\n",
              "      <th></th>\n",
              "      <th></th>\n",
              "      <th></th>\n",
              "      <th></th>\n",
              "      <th></th>\n",
              "      <th></th>\n",
              "      <th></th>\n",
              "      <th></th>\n",
              "      <th></th>\n",
              "      <th></th>\n",
              "      <th></th>\n",
              "      <th></th>\n",
              "      <th></th>\n",
              "      <th></th>\n",
              "      <th></th>\n",
              "      <th></th>\n",
              "      <th></th>\n",
              "      <th></th>\n",
              "      <th></th>\n",
              "      <th></th>\n",
              "      <th></th>\n",
              "      <th></th>\n",
              "      <th></th>\n",
              "      <th></th>\n",
              "    </tr>\n",
              "  </thead>\n",
              "  <tbody>\n",
              "    <tr>\n",
              "      <th>2019-01-01</th>\n",
              "      <td>NaN</td>\n",
              "      <td>NaN</td>\n",
              "      <td>NaN</td>\n",
              "      <td>NaN</td>\n",
              "      <td>NaN</td>\n",
              "      <td>NaN</td>\n",
              "      <td>NaN</td>\n",
              "      <td>NaN</td>\n",
              "      <td>NaN</td>\n",
              "      <td>NaN</td>\n",
              "      <td>NaN</td>\n",
              "      <td>NaN</td>\n",
              "      <td>NaN</td>\n",
              "      <td>NaN</td>\n",
              "      <td>NaN</td>\n",
              "      <td>NaN</td>\n",
              "      <td>NaN</td>\n",
              "      <td>NaN</td>\n",
              "      <td>NaN</td>\n",
              "      <td>NaN</td>\n",
              "      <td>NaN</td>\n",
              "      <td>NaN</td>\n",
              "      <td>NaN</td>\n",
              "      <td>NaN</td>\n",
              "      <td>NaN</td>\n",
              "      <td>NaN</td>\n",
              "      <td>NaN</td>\n",
              "      <td>NaN</td>\n",
              "      <td>NaN</td>\n",
              "      <td>NaN</td>\n",
              "      <td>NaN</td>\n",
              "      <td>NaN</td>\n",
              "      <td>NaN</td>\n",
              "      <td>NaN</td>\n",
              "    </tr>\n",
              "    <tr>\n",
              "      <th>2019-01-02</th>\n",
              "      <td>119.9</td>\n",
              "      <td>130.3</td>\n",
              "      <td>234.1</td>\n",
              "      <td>85.8</td>\n",
              "      <td>313.9</td>\n",
              "      <td>40.7</td>\n",
              "      <td>30.0</td>\n",
              "      <td>52.5</td>\n",
              "      <td>5.0</td>\n",
              "      <td>78.7</td>\n",
              "      <td>319.5</td>\n",
              "      <td>253.0</td>\n",
              "      <td>428.6</td>\n",
              "      <td>12.8</td>\n",
              "      <td>18.6</td>\n",
              "      <td>164.6</td>\n",
              "      <td>204.2</td>\n",
              "      <td>206.3</td>\n",
              "      <td>72.7</td>\n",
              "      <td>268.3</td>\n",
              "      <td>6.3</td>\n",
              "      <td>82.3</td>\n",
              "      <td>24.8</td>\n",
              "      <td>70.2</td>\n",
              "      <td>108.2</td>\n",
              "      <td>2.0</td>\n",
              "      <td>2.1</td>\n",
              "      <td>21.7</td>\n",
              "      <td>2.7</td>\n",
              "      <td>6.1</td>\n",
              "      <td>1.9</td>\n",
              "      <td>2.2</td>\n",
              "      <td>3.4</td>\n",
              "      <td>3373.4</td>\n",
              "    </tr>\n",
              "    <tr>\n",
              "      <th>2019-01-03</th>\n",
              "      <td>121.9</td>\n",
              "      <td>133.5</td>\n",
              "      <td>240.2</td>\n",
              "      <td>85.5</td>\n",
              "      <td>311.8</td>\n",
              "      <td>39.3</td>\n",
              "      <td>30.1</td>\n",
              "      <td>54.1</td>\n",
              "      <td>4.9</td>\n",
              "      <td>78.8</td>\n",
              "      <td>316.7</td>\n",
              "      <td>253.6</td>\n",
              "      <td>419.6</td>\n",
              "      <td>13.7</td>\n",
              "      <td>18.2</td>\n",
              "      <td>170.1</td>\n",
              "      <td>204.5</td>\n",
              "      <td>212.2</td>\n",
              "      <td>73.6</td>\n",
              "      <td>285.2</td>\n",
              "      <td>6.5</td>\n",
              "      <td>82.0</td>\n",
              "      <td>25.6</td>\n",
              "      <td>67.9</td>\n",
              "      <td>110.2</td>\n",
              "      <td>1.9</td>\n",
              "      <td>2.2</td>\n",
              "      <td>23.4</td>\n",
              "      <td>2.4</td>\n",
              "      <td>6.5</td>\n",
              "      <td>1.8</td>\n",
              "      <td>2.2</td>\n",
              "      <td>3.6</td>\n",
              "      <td>3403.7</td>\n",
              "    </tr>\n",
              "    <tr>\n",
              "      <th>2019-01-04</th>\n",
              "      <td>118.8</td>\n",
              "      <td>128.2</td>\n",
              "      <td>239.8</td>\n",
              "      <td>83.5</td>\n",
              "      <td>320.7</td>\n",
              "      <td>38.1</td>\n",
              "      <td>30.1</td>\n",
              "      <td>53.2</td>\n",
              "      <td>4.8</td>\n",
              "      <td>74.8</td>\n",
              "      <td>301.9</td>\n",
              "      <td>239.3</td>\n",
              "      <td>395.8</td>\n",
              "      <td>12.6</td>\n",
              "      <td>16.7</td>\n",
              "      <td>165.2</td>\n",
              "      <td>201.2</td>\n",
              "      <td>205.3</td>\n",
              "      <td>73.4</td>\n",
              "      <td>270.3</td>\n",
              "      <td>6.4</td>\n",
              "      <td>82.9</td>\n",
              "      <td>26.3</td>\n",
              "      <td>66.3</td>\n",
              "      <td>106.8</td>\n",
              "      <td>1.7</td>\n",
              "      <td>2.2</td>\n",
              "      <td>21.7</td>\n",
              "      <td>2.4</td>\n",
              "      <td>6.3</td>\n",
              "      <td>1.7</td>\n",
              "      <td>2.2</td>\n",
              "      <td>3.5</td>\n",
              "      <td>3304.1</td>\n",
              "    </tr>\n",
              "    <tr>\n",
              "      <th>2019-01-05</th>\n",
              "      <td>121.0</td>\n",
              "      <td>127.5</td>\n",
              "      <td>239.1</td>\n",
              "      <td>79.2</td>\n",
              "      <td>299.0</td>\n",
              "      <td>39.2</td>\n",
              "      <td>30.2</td>\n",
              "      <td>51.5</td>\n",
              "      <td>4.3</td>\n",
              "      <td>69.0</td>\n",
              "      <td>313.2</td>\n",
              "      <td>228.2</td>\n",
              "      <td>411.1</td>\n",
              "      <td>13.0</td>\n",
              "      <td>17.6</td>\n",
              "      <td>167.4</td>\n",
              "      <td>201.7</td>\n",
              "      <td>212.4</td>\n",
              "      <td>75.4</td>\n",
              "      <td>286.8</td>\n",
              "      <td>6.6</td>\n",
              "      <td>77.0</td>\n",
              "      <td>23.0</td>\n",
              "      <td>65.8</td>\n",
              "      <td>107.0</td>\n",
              "      <td>2.0</td>\n",
              "      <td>2.2</td>\n",
              "      <td>22.5</td>\n",
              "      <td>2.7</td>\n",
              "      <td>5.7</td>\n",
              "      <td>1.8</td>\n",
              "      <td>2.3</td>\n",
              "      <td>3.5</td>\n",
              "      <td>3308.9</td>\n",
              "    </tr>\n",
              "  </tbody>\n",
              "</table>\n",
              "</div>\n",
              "      <button class=\"colab-df-convert\" onclick=\"convertToInteractive('df-c8f6433f-038c-4fc1-a93d-40b474d2b6b9')\"\n",
              "              title=\"Convert this dataframe to an interactive table.\"\n",
              "              style=\"display:none;\">\n",
              "        \n",
              "  <svg xmlns=\"http://www.w3.org/2000/svg\" height=\"24px\"viewBox=\"0 0 24 24\"\n",
              "       width=\"24px\">\n",
              "    <path d=\"M0 0h24v24H0V0z\" fill=\"none\"/>\n",
              "    <path d=\"M18.56 5.44l.94 2.06.94-2.06 2.06-.94-2.06-.94-.94-2.06-.94 2.06-2.06.94zm-11 1L8.5 8.5l.94-2.06 2.06-.94-2.06-.94L8.5 2.5l-.94 2.06-2.06.94zm10 10l.94 2.06.94-2.06 2.06-.94-2.06-.94-.94-2.06-.94 2.06-2.06.94z\"/><path d=\"M17.41 7.96l-1.37-1.37c-.4-.4-.92-.59-1.43-.59-.52 0-1.04.2-1.43.59L10.3 9.45l-7.72 7.72c-.78.78-.78 2.05 0 2.83L4 21.41c.39.39.9.59 1.41.59.51 0 1.02-.2 1.41-.59l7.78-7.78 2.81-2.81c.8-.78.8-2.07 0-2.86zM5.41 20L4 18.59l7.72-7.72 1.47 1.35L5.41 20z\"/>\n",
              "  </svg>\n",
              "      </button>\n",
              "      \n",
              "  <style>\n",
              "    .colab-df-container {\n",
              "      display:flex;\n",
              "      flex-wrap:wrap;\n",
              "      gap: 12px;\n",
              "    }\n",
              "\n",
              "    .colab-df-convert {\n",
              "      background-color: #E8F0FE;\n",
              "      border: none;\n",
              "      border-radius: 50%;\n",
              "      cursor: pointer;\n",
              "      display: none;\n",
              "      fill: #1967D2;\n",
              "      height: 32px;\n",
              "      padding: 0 0 0 0;\n",
              "      width: 32px;\n",
              "    }\n",
              "\n",
              "    .colab-df-convert:hover {\n",
              "      background-color: #E2EBFA;\n",
              "      box-shadow: 0px 1px 2px rgba(60, 64, 67, 0.3), 0px 1px 3px 1px rgba(60, 64, 67, 0.15);\n",
              "      fill: #174EA6;\n",
              "    }\n",
              "\n",
              "    [theme=dark] .colab-df-convert {\n",
              "      background-color: #3B4455;\n",
              "      fill: #D2E3FC;\n",
              "    }\n",
              "\n",
              "    [theme=dark] .colab-df-convert:hover {\n",
              "      background-color: #434B5C;\n",
              "      box-shadow: 0px 1px 3px 1px rgba(0, 0, 0, 0.15);\n",
              "      filter: drop-shadow(0px 1px 2px rgba(0, 0, 0, 0.3));\n",
              "      fill: #FFFFFF;\n",
              "    }\n",
              "  </style>\n",
              "\n",
              "      <script>\n",
              "        const buttonEl =\n",
              "          document.querySelector('#df-c8f6433f-038c-4fc1-a93d-40b474d2b6b9 button.colab-df-convert');\n",
              "        buttonEl.style.display =\n",
              "          google.colab.kernel.accessAllowed ? 'block' : 'none';\n",
              "\n",
              "        async function convertToInteractive(key) {\n",
              "          const element = document.querySelector('#df-c8f6433f-038c-4fc1-a93d-40b474d2b6b9');\n",
              "          const dataTable =\n",
              "            await google.colab.kernel.invokeFunction('convertToInteractive',\n",
              "                                                     [key], {});\n",
              "          if (!dataTable) return;\n",
              "\n",
              "          const docLinkHtml = 'Like what you see? Visit the ' +\n",
              "            '<a target=\"_blank\" href=https://colab.research.google.com/notebooks/data_table.ipynb>data table notebook</a>'\n",
              "            + ' to learn more about interactive tables.';\n",
              "          element.innerHTML = '';\n",
              "          dataTable['output_type'] = 'display_data';\n",
              "          await google.colab.output.renderOutput(dataTable, element);\n",
              "          const docLink = document.createElement('div');\n",
              "          docLink.innerHTML = docLinkHtml;\n",
              "          element.appendChild(docLink);\n",
              "        }\n",
              "      </script>\n",
              "    </div>\n",
              "  </div>\n",
              "  "
            ],
            "text/plain": [
              "            Punjab  Haryana  Rajasthan  ...  Nagaland  Tripura  Total Consumption\n",
              "Date                                    ...                                      \n",
              "2019-01-01     NaN      NaN        NaN  ...       NaN      NaN                NaN\n",
              "2019-01-02   119.9    130.3      234.1  ...       2.2      3.4             3373.4\n",
              "2019-01-03   121.9    133.5      240.2  ...       2.2      3.6             3403.7\n",
              "2019-01-04   118.8    128.2      239.8  ...       2.2      3.5             3304.1\n",
              "2019-01-05   121.0    127.5      239.1  ...       2.3      3.5             3308.9\n",
              "\n",
              "[5 rows x 34 columns]"
            ]
          },
          "metadata": {},
          "execution_count": 4
        }
      ]
    },
    {
      "cell_type": "code",
      "metadata": {
        "id": "8blHVbbakSsz"
      },
      "source": [
        "#using mean\n",
        "df.fillna(df.mean(), inplace=True)"
      ],
      "execution_count": null,
      "outputs": []
    },
    {
      "cell_type": "code",
      "metadata": {
        "colab": {
          "base_uri": "https://localhost:8080/"
        },
        "id": "_uQORTTXk_gw",
        "outputId": "75fa4bed-b3a6-4e5b-b9e5-4c253f7df1d0"
      },
      "source": [
        "print(df[370:390])  "
      ],
      "execution_count": null,
      "outputs": [
        {
          "output_type": "stream",
          "name": "stdout",
          "text": [
            "               Punjab     Haryana  ...  Tripura  Total Consumption\n",
            "Date                               ...                            \n",
            "2020-01-06  139.52635  137.650108  ...  4.10216         3395.67797\n",
            "2020-01-07  139.52635  137.650108  ...  4.10216         3395.67797\n",
            "2020-01-08  139.52635  137.650108  ...  4.10216         3395.67797\n",
            "2020-01-09  139.52635  137.650108  ...  4.10216         3395.67797\n",
            "2020-01-10  139.52635  137.650108  ...  4.10216         3395.67797\n",
            "2020-01-11  139.52635  137.650108  ...  4.10216         3395.67797\n",
            "2020-01-12  139.52635  137.650108  ...  4.10216         3395.67797\n",
            "2020-01-13   69.50000   69.100000  ...  3.40000         3023.30000\n",
            "2020-01-14   78.10000   77.100000  ...  3.50000         3151.50000\n",
            "2020-01-15   91.10000   92.600000  ...  3.80000         3322.40000\n",
            "2020-01-16   92.50000  100.700000  ...  4.00000         3363.10000\n",
            "2020-01-17   96.00000  103.400000  ...  3.90000         3342.20000\n",
            "2020-01-18   89.20000   95.800000  ...  3.90000         3241.90000\n",
            "2020-01-19  291.70000  214.900000  ...  4.50000         3682.30000\n",
            "2020-01-20  268.90000  207.900000  ...  4.60000         3642.20000\n",
            "2020-01-21  262.60000  210.100000  ...  4.60000         3668.80000\n",
            "2020-01-22  244.60000  214.600000  ...  4.50000         3654.30000\n",
            "2020-01-23  234.50000  212.300000  ...  3.60000         3730.00000\n",
            "2020-01-24  215.00000  207.100000  ...  4.10000         3736.20000\n",
            "2020-01-25  174.40000  192.300000  ...  4.10000         3585.70000\n",
            "\n",
            "[20 rows x 34 columns]\n"
          ]
        }
      ]
    },
    {
      "cell_type": "code",
      "metadata": {
        "colab": {
          "base_uri": "https://localhost:8080/",
          "height": 406
        },
        "id": "BwJJUptXqFsW",
        "outputId": "c605c18b-282c-49ff-eefa-18e73428af5b"
      },
      "source": [
        "df.tail()"
      ],
      "execution_count": null,
      "outputs": [
        {
          "output_type": "execute_result",
          "data": {
            "text/html": [
              "\n",
              "  <div id=\"df-8ba8869b-4cc4-428d-a6a4-21b227b0f0a0\">\n",
              "    <div class=\"colab-df-container\">\n",
              "      <div>\n",
              "<style scoped>\n",
              "    .dataframe tbody tr th:only-of-type {\n",
              "        vertical-align: middle;\n",
              "    }\n",
              "\n",
              "    .dataframe tbody tr th {\n",
              "        vertical-align: top;\n",
              "    }\n",
              "\n",
              "    .dataframe thead th {\n",
              "        text-align: right;\n",
              "    }\n",
              "</style>\n",
              "<table border=\"1\" class=\"dataframe\">\n",
              "  <thead>\n",
              "    <tr style=\"text-align: right;\">\n",
              "      <th></th>\n",
              "      <th>Punjab</th>\n",
              "      <th>Haryana</th>\n",
              "      <th>Rajasthan</th>\n",
              "      <th>Delhi</th>\n",
              "      <th>UP</th>\n",
              "      <th>Uttarakhand</th>\n",
              "      <th>HP</th>\n",
              "      <th>J&amp;K</th>\n",
              "      <th>Chandigarh</th>\n",
              "      <th>Chhattisgarh</th>\n",
              "      <th>Gujarat</th>\n",
              "      <th>MP</th>\n",
              "      <th>Maharashtra</th>\n",
              "      <th>Goa</th>\n",
              "      <th>DNH</th>\n",
              "      <th>Andhra Pradesh</th>\n",
              "      <th>Telangana</th>\n",
              "      <th>Karnataka</th>\n",
              "      <th>Kerala</th>\n",
              "      <th>Tamil Nadu</th>\n",
              "      <th>Pondy</th>\n",
              "      <th>Bihar</th>\n",
              "      <th>Jharkhand</th>\n",
              "      <th>Odisha</th>\n",
              "      <th>West Bengal</th>\n",
              "      <th>Sikkim</th>\n",
              "      <th>Arunachal Pradesh</th>\n",
              "      <th>Assam</th>\n",
              "      <th>Manipur</th>\n",
              "      <th>Meghalaya</th>\n",
              "      <th>Mizoram</th>\n",
              "      <th>Nagaland</th>\n",
              "      <th>Tripura</th>\n",
              "      <th>Total Consumption</th>\n",
              "    </tr>\n",
              "    <tr>\n",
              "      <th>Date</th>\n",
              "      <th></th>\n",
              "      <th></th>\n",
              "      <th></th>\n",
              "      <th></th>\n",
              "      <th></th>\n",
              "      <th></th>\n",
              "      <th></th>\n",
              "      <th></th>\n",
              "      <th></th>\n",
              "      <th></th>\n",
              "      <th></th>\n",
              "      <th></th>\n",
              "      <th></th>\n",
              "      <th></th>\n",
              "      <th></th>\n",
              "      <th></th>\n",
              "      <th></th>\n",
              "      <th></th>\n",
              "      <th></th>\n",
              "      <th></th>\n",
              "      <th></th>\n",
              "      <th></th>\n",
              "      <th></th>\n",
              "      <th></th>\n",
              "      <th></th>\n",
              "      <th></th>\n",
              "      <th></th>\n",
              "      <th></th>\n",
              "      <th></th>\n",
              "      <th></th>\n",
              "      <th></th>\n",
              "      <th></th>\n",
              "      <th></th>\n",
              "      <th></th>\n",
              "    </tr>\n",
              "  </thead>\n",
              "  <tbody>\n",
              "    <tr>\n",
              "      <th>2020-05-19</th>\n",
              "      <td>120.5</td>\n",
              "      <td>131.6</td>\n",
              "      <td>250.3</td>\n",
              "      <td>71.7</td>\n",
              "      <td>290.9</td>\n",
              "      <td>39.3</td>\n",
              "      <td>30.1</td>\n",
              "      <td>50.2</td>\n",
              "      <td>4.1</td>\n",
              "      <td>74.1</td>\n",
              "      <td>332.6</td>\n",
              "      <td>262.7</td>\n",
              "      <td>464.8</td>\n",
              "      <td>10.0</td>\n",
              "      <td>18.1</td>\n",
              "      <td>184.6</td>\n",
              "      <td>228.9</td>\n",
              "      <td>239.1</td>\n",
              "      <td>75.6</td>\n",
              "      <td>311.0</td>\n",
              "      <td>7.5</td>\n",
              "      <td>77.4</td>\n",
              "      <td>25.2</td>\n",
              "      <td>68.9</td>\n",
              "      <td>119.9</td>\n",
              "      <td>2.0</td>\n",
              "      <td>2.3</td>\n",
              "      <td>22.7</td>\n",
              "      <td>2.7</td>\n",
              "      <td>6.6</td>\n",
              "      <td>1.8</td>\n",
              "      <td>2.4</td>\n",
              "      <td>3.1</td>\n",
              "      <td>3532.7</td>\n",
              "    </tr>\n",
              "    <tr>\n",
              "      <th>2020-05-20</th>\n",
              "      <td>123.8</td>\n",
              "      <td>131.6</td>\n",
              "      <td>251.7</td>\n",
              "      <td>70.7</td>\n",
              "      <td>292.0</td>\n",
              "      <td>39.4</td>\n",
              "      <td>30.5</td>\n",
              "      <td>49.7</td>\n",
              "      <td>4.1</td>\n",
              "      <td>75.6</td>\n",
              "      <td>337.0</td>\n",
              "      <td>267.7</td>\n",
              "      <td>463.7</td>\n",
              "      <td>9.8</td>\n",
              "      <td>18.2</td>\n",
              "      <td>189.5</td>\n",
              "      <td>226.2</td>\n",
              "      <td>239.5</td>\n",
              "      <td>75.4</td>\n",
              "      <td>312.9</td>\n",
              "      <td>7.5</td>\n",
              "      <td>77.0</td>\n",
              "      <td>25.1</td>\n",
              "      <td>71.0</td>\n",
              "      <td>120.7</td>\n",
              "      <td>2.0</td>\n",
              "      <td>2.3</td>\n",
              "      <td>22.8</td>\n",
              "      <td>2.7</td>\n",
              "      <td>6.9</td>\n",
              "      <td>1.6</td>\n",
              "      <td>2.3</td>\n",
              "      <td>3.6</td>\n",
              "      <td>3554.5</td>\n",
              "    </tr>\n",
              "    <tr>\n",
              "      <th>2020-05-21</th>\n",
              "      <td>126.0</td>\n",
              "      <td>133.0</td>\n",
              "      <td>249.7</td>\n",
              "      <td>73.4</td>\n",
              "      <td>295.5</td>\n",
              "      <td>40.1</td>\n",
              "      <td>31.1</td>\n",
              "      <td>51.1</td>\n",
              "      <td>4.2</td>\n",
              "      <td>71.8</td>\n",
              "      <td>337.3</td>\n",
              "      <td>267.7</td>\n",
              "      <td>452.7</td>\n",
              "      <td>9.6</td>\n",
              "      <td>17.9</td>\n",
              "      <td>188.1</td>\n",
              "      <td>226.7</td>\n",
              "      <td>238.3</td>\n",
              "      <td>75.4</td>\n",
              "      <td>314.7</td>\n",
              "      <td>7.5</td>\n",
              "      <td>79.6</td>\n",
              "      <td>25.7</td>\n",
              "      <td>72.0</td>\n",
              "      <td>121.4</td>\n",
              "      <td>2.1</td>\n",
              "      <td>2.2</td>\n",
              "      <td>23.9</td>\n",
              "      <td>2.3</td>\n",
              "      <td>6.7</td>\n",
              "      <td>1.6</td>\n",
              "      <td>2.1</td>\n",
              "      <td>3.7</td>\n",
              "      <td>3555.1</td>\n",
              "    </tr>\n",
              "    <tr>\n",
              "      <th>2020-05-22</th>\n",
              "      <td>127.2</td>\n",
              "      <td>131.6</td>\n",
              "      <td>247.4</td>\n",
              "      <td>62.0</td>\n",
              "      <td>295.4</td>\n",
              "      <td>39.2</td>\n",
              "      <td>30.3</td>\n",
              "      <td>50.7</td>\n",
              "      <td>3.9</td>\n",
              "      <td>72.8</td>\n",
              "      <td>333.9</td>\n",
              "      <td>266.9</td>\n",
              "      <td>449.6</td>\n",
              "      <td>9.6</td>\n",
              "      <td>18.0</td>\n",
              "      <td>187.4</td>\n",
              "      <td>220.6</td>\n",
              "      <td>230.7</td>\n",
              "      <td>73.4</td>\n",
              "      <td>314.6</td>\n",
              "      <td>7.6</td>\n",
              "      <td>76.4</td>\n",
              "      <td>25.4</td>\n",
              "      <td>77.0</td>\n",
              "      <td>120.2</td>\n",
              "      <td>1.9</td>\n",
              "      <td>2.0</td>\n",
              "      <td>23.0</td>\n",
              "      <td>2.4</td>\n",
              "      <td>6.7</td>\n",
              "      <td>1.7</td>\n",
              "      <td>2.2</td>\n",
              "      <td>3.4</td>\n",
              "      <td>3515.1</td>\n",
              "    </tr>\n",
              "    <tr>\n",
              "      <th>2020-05-23</th>\n",
              "      <td>121.6</td>\n",
              "      <td>122.9</td>\n",
              "      <td>243.3</td>\n",
              "      <td>72.1</td>\n",
              "      <td>286.3</td>\n",
              "      <td>35.6</td>\n",
              "      <td>27.5</td>\n",
              "      <td>49.9</td>\n",
              "      <td>3.5</td>\n",
              "      <td>69.3</td>\n",
              "      <td>318.9</td>\n",
              "      <td>261.6</td>\n",
              "      <td>428.1</td>\n",
              "      <td>8.3</td>\n",
              "      <td>17.7</td>\n",
              "      <td>180.5</td>\n",
              "      <td>192.9</td>\n",
              "      <td>214.3</td>\n",
              "      <td>67.0</td>\n",
              "      <td>295.9</td>\n",
              "      <td>6.9</td>\n",
              "      <td>75.9</td>\n",
              "      <td>25.4</td>\n",
              "      <td>84.3</td>\n",
              "      <td>111.2</td>\n",
              "      <td>1.0</td>\n",
              "      <td>2.7</td>\n",
              "      <td>20.9</td>\n",
              "      <td>2.1</td>\n",
              "      <td>6.4</td>\n",
              "      <td>1.6</td>\n",
              "      <td>2.2</td>\n",
              "      <td>3.4</td>\n",
              "      <td>3361.2</td>\n",
              "    </tr>\n",
              "  </tbody>\n",
              "</table>\n",
              "</div>\n",
              "      <button class=\"colab-df-convert\" onclick=\"convertToInteractive('df-8ba8869b-4cc4-428d-a6a4-21b227b0f0a0')\"\n",
              "              title=\"Convert this dataframe to an interactive table.\"\n",
              "              style=\"display:none;\">\n",
              "        \n",
              "  <svg xmlns=\"http://www.w3.org/2000/svg\" height=\"24px\"viewBox=\"0 0 24 24\"\n",
              "       width=\"24px\">\n",
              "    <path d=\"M0 0h24v24H0V0z\" fill=\"none\"/>\n",
              "    <path d=\"M18.56 5.44l.94 2.06.94-2.06 2.06-.94-2.06-.94-.94-2.06-.94 2.06-2.06.94zm-11 1L8.5 8.5l.94-2.06 2.06-.94-2.06-.94L8.5 2.5l-.94 2.06-2.06.94zm10 10l.94 2.06.94-2.06 2.06-.94-2.06-.94-.94-2.06-.94 2.06-2.06.94z\"/><path d=\"M17.41 7.96l-1.37-1.37c-.4-.4-.92-.59-1.43-.59-.52 0-1.04.2-1.43.59L10.3 9.45l-7.72 7.72c-.78.78-.78 2.05 0 2.83L4 21.41c.39.39.9.59 1.41.59.51 0 1.02-.2 1.41-.59l7.78-7.78 2.81-2.81c.8-.78.8-2.07 0-2.86zM5.41 20L4 18.59l7.72-7.72 1.47 1.35L5.41 20z\"/>\n",
              "  </svg>\n",
              "      </button>\n",
              "      \n",
              "  <style>\n",
              "    .colab-df-container {\n",
              "      display:flex;\n",
              "      flex-wrap:wrap;\n",
              "      gap: 12px;\n",
              "    }\n",
              "\n",
              "    .colab-df-convert {\n",
              "      background-color: #E8F0FE;\n",
              "      border: none;\n",
              "      border-radius: 50%;\n",
              "      cursor: pointer;\n",
              "      display: none;\n",
              "      fill: #1967D2;\n",
              "      height: 32px;\n",
              "      padding: 0 0 0 0;\n",
              "      width: 32px;\n",
              "    }\n",
              "\n",
              "    .colab-df-convert:hover {\n",
              "      background-color: #E2EBFA;\n",
              "      box-shadow: 0px 1px 2px rgba(60, 64, 67, 0.3), 0px 1px 3px 1px rgba(60, 64, 67, 0.15);\n",
              "      fill: #174EA6;\n",
              "    }\n",
              "\n",
              "    [theme=dark] .colab-df-convert {\n",
              "      background-color: #3B4455;\n",
              "      fill: #D2E3FC;\n",
              "    }\n",
              "\n",
              "    [theme=dark] .colab-df-convert:hover {\n",
              "      background-color: #434B5C;\n",
              "      box-shadow: 0px 1px 3px 1px rgba(0, 0, 0, 0.15);\n",
              "      filter: drop-shadow(0px 1px 2px rgba(0, 0, 0, 0.3));\n",
              "      fill: #FFFFFF;\n",
              "    }\n",
              "  </style>\n",
              "\n",
              "      <script>\n",
              "        const buttonEl =\n",
              "          document.querySelector('#df-8ba8869b-4cc4-428d-a6a4-21b227b0f0a0 button.colab-df-convert');\n",
              "        buttonEl.style.display =\n",
              "          google.colab.kernel.accessAllowed ? 'block' : 'none';\n",
              "\n",
              "        async function convertToInteractive(key) {\n",
              "          const element = document.querySelector('#df-8ba8869b-4cc4-428d-a6a4-21b227b0f0a0');\n",
              "          const dataTable =\n",
              "            await google.colab.kernel.invokeFunction('convertToInteractive',\n",
              "                                                     [key], {});\n",
              "          if (!dataTable) return;\n",
              "\n",
              "          const docLinkHtml = 'Like what you see? Visit the ' +\n",
              "            '<a target=\"_blank\" href=https://colab.research.google.com/notebooks/data_table.ipynb>data table notebook</a>'\n",
              "            + ' to learn more about interactive tables.';\n",
              "          element.innerHTML = '';\n",
              "          dataTable['output_type'] = 'display_data';\n",
              "          await google.colab.output.renderOutput(dataTable, element);\n",
              "          const docLink = document.createElement('div');\n",
              "          docLink.innerHTML = docLinkHtml;\n",
              "          element.appendChild(docLink);\n",
              "        }\n",
              "      </script>\n",
              "    </div>\n",
              "  </div>\n",
              "  "
            ],
            "text/plain": [
              "            Punjab  Haryana  Rajasthan  ...  Nagaland  Tripura  Total Consumption\n",
              "Date                                    ...                                      \n",
              "2020-05-19   120.5    131.6      250.3  ...       2.4      3.1             3532.7\n",
              "2020-05-20   123.8    131.6      251.7  ...       2.3      3.6             3554.5\n",
              "2020-05-21   126.0    133.0      249.7  ...       2.1      3.7             3555.1\n",
              "2020-05-22   127.2    131.6      247.4  ...       2.2      3.4             3515.1\n",
              "2020-05-23   121.6    122.9      243.3  ...       2.2      3.4             3361.2\n",
              "\n",
              "[5 rows x 34 columns]"
            ]
          },
          "metadata": {},
          "execution_count": 7
        }
      ]
    },
    {
      "cell_type": "code",
      "metadata": {
        "id": "dCGTFtfNiLUX"
      },
      "source": [
        "df1=df['Total Consumption']"
      ],
      "execution_count": null,
      "outputs": []
    },
    {
      "cell_type": "code",
      "metadata": {
        "id": "s-kGfzqrm043",
        "colab": {
          "base_uri": "https://localhost:8080/"
        },
        "outputId": "55d57fcd-7cc3-45fb-b176-28ccd57dc8ce"
      },
      "source": [
        "df1\n"
      ],
      "execution_count": null,
      "outputs": [
        {
          "output_type": "execute_result",
          "data": {
            "text/plain": [
              "Date\n",
              "2019-01-01    3395.67797\n",
              "2019-01-02    3373.40000\n",
              "2019-01-03    3403.70000\n",
              "2019-01-04    3304.10000\n",
              "2019-01-05    3308.90000\n",
              "                 ...    \n",
              "2020-05-19    3532.70000\n",
              "2020-05-20    3554.50000\n",
              "2020-05-21    3555.10000\n",
              "2020-05-22    3515.10000\n",
              "2020-05-23    3361.20000\n",
              "Name: Total Consumption, Length: 509, dtype: float64"
            ]
          },
          "metadata": {},
          "execution_count": 9
        }
      ]
    },
    {
      "cell_type": "code",
      "metadata": {
        "colab": {
          "base_uri": "https://localhost:8080/",
          "height": 362
        },
        "id": "cKKR_-i8pB1G",
        "outputId": "eaeb4102-d565-46dc-9e94-65c30bc9fec4"
      },
      "source": [
        "df1.plot(figsize=(12,5))"
      ],
      "execution_count": null,
      "outputs": [
        {
          "output_type": "execute_result",
          "data": {
            "text/plain": [
              "<matplotlib.axes._subplots.AxesSubplot at 0x7f8ea811ff50>"
            ]
          },
          "metadata": {},
          "execution_count": 10
        },
        {
          "output_type": "display_data",
          "data": {
            "image/png": "[encoded data removed]",
            "text/plain": [
              "<Figure size 864x360 with 1 Axes>"
            ]
          },
          "metadata": {
            "needs_background": "light"
          }
        }
      ]
    },
    {
      "cell_type": "code",
      "metadata": {
        "id": "pT1XtLpHoags"
      },
      "source": [
        "np.random.seed(7)"
      ],
      "execution_count": null,
      "outputs": []
    },
    {
      "cell_type": "code",
      "metadata": {
        "id": "ckuz7q2pq3Ki"
      },
      "source": [
        "# normalize the dataset\n",
        "scaler = MinMaxScaler(feature_range=(0, 1))\n",
        "df1 = scaler.fit_transform(np.array(df1).reshape(-1,1))"
      ],
      "execution_count": null,
      "outputs": []
    },
    {
      "cell_type": "code",
      "metadata": {
        "id": "gkOii1dKq3Hu",
        "colab": {
          "base_uri": "https://localhost:8080/"
        },
        "outputId": "9fbb882c-3a33-45df-80e2-43c5f24fabf9"
      },
      "source": [
        "df1.shape"
      ],
      "execution_count": null,
      "outputs": [
        {
          "output_type": "execute_result",
          "data": {
            "text/plain": [
              "(509, 1)"
            ]
          },
          "metadata": {},
          "execution_count": 13
        }
      ]
    },
    {
      "cell_type": "code",
      "metadata": {
        "id": "t8WePIJhq3ES"
      },
      "source": [
        "#splitting dataset into train and test\n",
        "training_size=int(len(df1)*0.65)       #0.65\n",
        "test_size=len(df1)-training_size\n",
        "train_data,test_data=df1[0:training_size,:],df1[training_size:len(df1),:1]"
      ],
      "execution_count": null,
      "outputs": []
    },
    {
      "cell_type": "code",
      "metadata": {
        "id": "FxHrTTuDq261",
        "colab": {
          "base_uri": "https://localhost:8080/"
        },
        "outputId": "9a8d2093-abf5-43aa-ad02-ab34b4a056c5"
      },
      "source": [
        "training_size,test_size"
      ],
      "execution_count": null,
      "outputs": [
        {
          "output_type": "execute_result",
          "data": {
            "text/plain": [
              "(330, 179)"
            ]
          },
          "metadata": {},
          "execution_count": 15
        }
      ]
    },
    {
      "cell_type": "code",
      "metadata": {
        "id": "YFA-XpBZeigz"
      },
      "source": [
        "# convert an array of values into a dataset matrix\n",
        "import numpy\n",
        "def create_dataset(dataset, look_back=1):\n",
        "\tdataX, dataY = [], []\n",
        "\tfor i in range(len(dataset)-look_back-1):\n",
        "\t\ta = dataset[i:(i+look_back), 0]\n",
        "\t\tdataX.append(a)\n",
        "\t\tdataY.append(dataset[i + look_back, 0])\n",
        "\treturn numpy.array(dataX), numpy.array(dataY)"
      ],
      "execution_count": null,
      "outputs": []
    },
    {
      "cell_type": "code",
      "metadata": {
        "id": "JSI9sWvCNUGB"
      },
      "source": [
        "# reshape into X=t and Y=t+1\n",
        "look_back = 100     #100 time_step\n",
        "X_train, y_train = create_dataset(train_data, look_back)\n",
        "X_test, ytest = create_dataset(test_data, look_back)"
      ],
      "execution_count": null,
      "outputs": []
    },
    {
      "cell_type": "code",
      "metadata": {
        "colab": {
          "base_uri": "https://localhost:8080/"
        },
        "id": "HAnRa3Xte1l_",
        "outputId": "899d8b13-ebdc-43da-ee96-5b00a54c0b4f"
      },
      "source": [
        "print(X_train.shape), print(y_train.shape)"
      ],
      "execution_count": null,
      "outputs": [
        {
          "output_type": "stream",
          "name": "stdout",
          "text": [
            "(229, 100)\n",
            "(229,)\n"
          ]
        },
        {
          "output_type": "execute_result",
          "data": {
            "text/plain": [
              "(None, None)"
            ]
          },
          "metadata": {},
          "execution_count": 18
        }
      ]
    },
    {
      "cell_type": "code",
      "metadata": {
        "colab": {
          "base_uri": "https://localhost:8080/"
        },
        "id": "fFDezFPCe1js",
        "outputId": "f9633b56-54eb-4431-be87-0310fee35601"
      },
      "source": [
        "print(X_test.shape), print(ytest.shape)"
      ],
      "execution_count": null,
      "outputs": [
        {
          "output_type": "stream",
          "name": "stdout",
          "text": [
            "(78, 100)\n",
            "(78,)\n"
          ]
        },
        {
          "output_type": "execute_result",
          "data": {
            "text/plain": [
              "(None, None)"
            ]
          },
          "metadata": {},
          "execution_count": 19
        }
      ]
    },
    {
      "cell_type": "code",
      "metadata": {
        "id": "Vyc3JhO1e1g7"
      },
      "source": [
        "#reshape input to be [samples, time steps, features]\n",
        "X_train=X_train.reshape(X_train.shape[0],X_train.shape[1],1)\n",
        "X_test=X_test.reshape(X_test.shape[0],X_test.shape[1],1)"
      ],
      "execution_count": null,
      "outputs": []
    },
    {
      "cell_type": "code",
      "metadata": {
        "id": "yM9oED6fe1eA"
      },
      "source": [
        "# create the stacked LSTM model\n",
        "from tensorflow.keras.models import Sequential\n",
        "from tensorflow.keras.layers import LSTM\n",
        "from tensorflow.keras.layers import Dense"
      ],
      "execution_count": null,
      "outputs": []
    },
    {
      "cell_type": "code",
      "metadata": {
        "id": "iseTJzzee1b4"
      },
      "source": [
        "#define model\n",
        "model= Sequential()\n",
        "model.add(LSTM(64,return_sequences=True,input_shape=(100,1),activation='relu',dropout=0.25))  #100,1  and LSTM(50)\n",
        "model.add(LSTM(64,return_sequences=True, activation='relu'))\n",
        "model.add(LSTM(50))\n",
        "model.add(Dense(1))\n",
        "#model.compile(optimizer='adam',loss='mean_squared_error')\n",
        "model.compile(optimizer=tf.keras.optimizers.SGD(learning_rate=0.01),\n",
        "              loss=tf.keras.losses.MeanSquaredError(),\n",
        "              metrics=['mse'])  #mse\n"
      ],
      "execution_count": null,
      "outputs": []
    },
    {
      "cell_type": "code",
      "metadata": {
        "colab": {
          "base_uri": "https://localhost:8080/"
        },
        "id": "iIYP-NDve1ZJ",
        "outputId": "43827d29-3aa0-429b-b7c1-de98e584f615"
      },
      "source": [
        "model.summary()"
      ],
      "execution_count": null,
      "outputs": [
        {
          "output_type": "stream",
          "name": "stdout",
          "text": [
            "Model: \"sequential\"\n",
            "_________________________________________________________________\n",
            " Layer (type)                Output Shape              Param #   \n",
            "=================================================================\n",
            " lstm (LSTM)                 (None, 100, 64)           16896     \n",
            "                                                                 \n",
            " lstm_1 (LSTM)               (None, 100, 64)           33024     \n",
            "                                                                 \n",
            " lstm_2 (LSTM)               (None, 50)                23000     \n",
            "                                                                 \n",
            " dense (Dense)               (None, 1)                 51        \n",
            "                                                                 \n",
            "=================================================================\n",
            "Total params: 72,971\n",
            "Trainable params: 72,971\n",
            "Non-trainable params: 0\n",
            "_________________________________________________________________\n"
          ]
        }
      ]
    },
    {
      "cell_type": "code",
      "metadata": {
        "colab": {
          "base_uri": "https://localhost:8080/"
        },
        "id": "XTK-Gqafe1Wk",
        "outputId": "14a09f17-17cf-4f0e-bfc7-fa96e740e9b2"
      },
      "source": [
        "history=model.fit(X_train,y_train,validation_data=(X_test,ytest),epochs=100,batch_size=32,verbose=1) #batch size=64  ##400 epochs\n"
      ],
      "execution_count": null,
      "outputs": [
        {
          "output_type": "stream",
          "name": "stdout",
          "text": [
            "Epoch 1/100\n",
            "8/8 [==============================] - 6s 257ms/step - loss: 0.2383 - mse: 0.2383 - val_loss: 0.1080 - val_mse: 0.1080\n",
            "Epoch 2/100\n",
            "8/8 [==============================] - 1s 154ms/step - loss: 0.0980 - mse: 0.0980 - val_loss: 0.0555 - val_mse: 0.0555\n",
            "Epoch 3/100\n",
            "8/8 [==============================] - 1s 149ms/step - loss: 0.0543 - mse: 0.0543 - val_loss: 0.0460 - val_mse: 0.0460\n",
            "Epoch 4/100\n",
            "8/8 [==============================] - 1s 148ms/step - loss: 0.0441 - mse: 0.0441 - val_loss: 0.0441 - val_mse: 0.0441\n",
            "Epoch 5/100\n",
            "8/8 [==============================] - 1s 151ms/step - loss: 0.0391 - mse: 0.0391 - val_loss: 0.0447 - val_mse: 0.0447\n",
            "Epoch 6/100\n",
            "8/8 [==============================] - 1s 150ms/step - loss: 0.0389 - mse: 0.0389 - val_loss: 0.0458 - val_mse: 0.0458\n",
            "Epoch 7/100\n",
            "8/8 [==============================] - 1s 150ms/step - loss: 0.0386 - mse: 0.0386 - val_loss: 0.0463 - val_mse: 0.0463\n",
            "Epoch 8/100\n",
            "8/8 [==============================] - 1s 151ms/step - loss: 0.0382 - mse: 0.0382 - val_loss: 0.0463 - val_mse: 0.0463\n",
            "Epoch 9/100\n",
            "8/8 [==============================] - 1s 149ms/step - loss: 0.0384 - mse: 0.0384 - val_loss: 0.0475 - val_mse: 0.0475\n",
            "Epoch 10/100\n",
            "8/8 [==============================] - 1s 148ms/step - loss: 0.0383 - mse: 0.0383 - val_loss: 0.0474 - val_mse: 0.0474\n",
            "Epoch 11/100\n",
            "8/8 [==============================] - 1s 150ms/step - loss: 0.0386 - mse: 0.0386 - val_loss: 0.0464 - val_mse: 0.0464\n",
            "Epoch 12/100\n",
            "8/8 [==============================] - 1s 150ms/step - loss: 0.0383 - mse: 0.0383 - val_loss: 0.0465 - val_mse: 0.0465\n",
            "Epoch 13/100\n",
            "8/8 [==============================] - 1s 153ms/step - loss: 0.0385 - mse: 0.0385 - val_loss: 0.0463 - val_mse: 0.0463\n",
            "Epoch 14/100\n",
            "8/8 [==============================] - 1s 152ms/step - loss: 0.0384 - mse: 0.0384 - val_loss: 0.0466 - val_mse: 0.0466\n",
            "Epoch 15/100\n",
            "8/8 [==============================] - 1s 154ms/step - loss: 0.0382 - mse: 0.0382 - val_loss: 0.0459 - val_mse: 0.0459\n",
            "Epoch 16/100\n",
            "8/8 [==============================] - 1s 151ms/step - loss: 0.0385 - mse: 0.0385 - val_loss: 0.0462 - val_mse: 0.0462\n",
            "Epoch 17/100\n",
            "8/8 [==============================] - 1s 152ms/step - loss: 0.0384 - mse: 0.0384 - val_loss: 0.0463 - val_mse: 0.0463\n",
            "Epoch 18/100\n",
            "8/8 [==============================] - 1s 151ms/step - loss: 0.0384 - mse: 0.0384 - val_loss: 0.0461 - val_mse: 0.0461\n",
            "Epoch 19/100\n",
            "8/8 [==============================] - 1s 152ms/step - loss: 0.0382 - mse: 0.0382 - val_loss: 0.0458 - val_mse: 0.0458\n",
            "Epoch 20/100\n",
            "8/8 [==============================] - 1s 153ms/step - loss: 0.0384 - mse: 0.0384 - val_loss: 0.0456 - val_mse: 0.0456\n",
            "Epoch 21/100\n",
            "8/8 [==============================] - 1s 152ms/step - loss: 0.0383 - mse: 0.0383 - val_loss: 0.0455 - val_mse: 0.0455\n",
            "Epoch 22/100\n",
            "8/8 [==============================] - 1s 148ms/step - loss: 0.0385 - mse: 0.0385 - val_loss: 0.0456 - val_mse: 0.0456\n",
            "Epoch 23/100\n",
            "8/8 [==============================] - 1s 150ms/step - loss: 0.0382 - mse: 0.0382 - val_loss: 0.0459 - val_mse: 0.0459\n",
            "Epoch 24/100\n",
            "8/8 [==============================] - 1s 149ms/step - loss: 0.0382 - mse: 0.0382 - val_loss: 0.0465 - val_mse: 0.0465\n",
            "Epoch 25/100\n",
            "8/8 [==============================] - 1s 149ms/step - loss: 0.0384 - mse: 0.0384 - val_loss: 0.0457 - val_mse: 0.0457\n",
            "Epoch 26/100\n",
            "8/8 [==============================] - 1s 151ms/step - loss: 0.0381 - mse: 0.0381 - val_loss: 0.0457 - val_mse: 0.0457\n",
            "Epoch 27/100\n",
            "8/8 [==============================] - 1s 149ms/step - loss: 0.0385 - mse: 0.0385 - val_loss: 0.0462 - val_mse: 0.0462\n",
            "Epoch 28/100\n",
            "8/8 [==============================] - 1s 151ms/step - loss: 0.0385 - mse: 0.0385 - val_loss: 0.0464 - val_mse: 0.0464\n",
            "Epoch 29/100\n",
            "8/8 [==============================] - 1s 151ms/step - loss: 0.0383 - mse: 0.0383 - val_loss: 0.0470 - val_mse: 0.0470\n",
            "Epoch 30/100\n",
            "8/8 [==============================] - 1s 150ms/step - loss: 0.0383 - mse: 0.0383 - val_loss: 0.0461 - val_mse: 0.0461\n",
            "Epoch 31/100\n",
            "8/8 [==============================] - 1s 151ms/step - loss: 0.0384 - mse: 0.0384 - val_loss: 0.0456 - val_mse: 0.0456\n",
            "Epoch 32/100\n",
            "8/8 [==============================] - 1s 150ms/step - loss: 0.0385 - mse: 0.0385 - val_loss: 0.0459 - val_mse: 0.0459\n",
            "Epoch 33/100\n",
            "8/8 [==============================] - 1s 150ms/step - loss: 0.0382 - mse: 0.0382 - val_loss: 0.0463 - val_mse: 0.0463\n",
            "Epoch 34/100\n",
            "8/8 [==============================] - 1s 149ms/step - loss: 0.0386 - mse: 0.0386 - val_loss: 0.0466 - val_mse: 0.0466\n",
            "Epoch 35/100\n",
            "8/8 [==============================] - 1s 149ms/step - loss: 0.0385 - mse: 0.0385 - val_loss: 0.0462 - val_mse: 0.0462\n",
            "Epoch 36/100\n",
            "8/8 [==============================] - 1s 150ms/step - loss: 0.0383 - mse: 0.0383 - val_loss: 0.0457 - val_mse: 0.0457\n",
            "Epoch 37/100\n",
            "8/8 [==============================] - 1s 152ms/step - loss: 0.0385 - mse: 0.0385 - val_loss: 0.0462 - val_mse: 0.0462\n",
            "Epoch 38/100\n",
            "8/8 [==============================] - 1s 153ms/step - loss: 0.0383 - mse: 0.0383 - val_loss: 0.0467 - val_mse: 0.0467\n",
            "Epoch 39/100\n",
            "8/8 [==============================] - 1s 150ms/step - loss: 0.0380 - mse: 0.0380 - val_loss: 0.0461 - val_mse: 0.0461\n",
            "Epoch 40/100\n",
            "8/8 [==============================] - 1s 151ms/step - loss: 0.0384 - mse: 0.0384 - val_loss: 0.0455 - val_mse: 0.0455\n",
            "Epoch 41/100\n",
            "8/8 [==============================] - 1s 150ms/step - loss: 0.0384 - mse: 0.0384 - val_loss: 0.0448 - val_mse: 0.0448\n",
            "Epoch 42/100\n",
            "8/8 [==============================] - 1s 151ms/step - loss: 0.0382 - mse: 0.0382 - val_loss: 0.0461 - val_mse: 0.0461\n",
            "Epoch 43/100\n",
            "8/8 [==============================] - 1s 149ms/step - loss: 0.0382 - mse: 0.0382 - val_loss: 0.0465 - val_mse: 0.0465\n",
            "Epoch 44/100\n",
            "8/8 [==============================] - 1s 151ms/step - loss: 0.0381 - mse: 0.0381 - val_loss: 0.0463 - val_mse: 0.0463\n",
            "Epoch 45/100\n",
            "8/8 [==============================] - 1s 153ms/step - loss: 0.0384 - mse: 0.0384 - val_loss: 0.0454 - val_mse: 0.0454\n",
            "Epoch 46/100\n",
            "8/8 [==============================] - 1s 152ms/step - loss: 0.0384 - mse: 0.0384 - val_loss: 0.0452 - val_mse: 0.0452\n",
            "Epoch 47/100\n",
            "8/8 [==============================] - 1s 151ms/step - loss: 0.0381 - mse: 0.0381 - val_loss: 0.0457 - val_mse: 0.0457\n",
            "Epoch 48/100\n",
            "8/8 [==============================] - 1s 151ms/step - loss: 0.0381 - mse: 0.0381 - val_loss: 0.0462 - val_mse: 0.0462\n",
            "Epoch 49/100\n",
            "8/8 [==============================] - 1s 150ms/step - loss: 0.0384 - mse: 0.0384 - val_loss: 0.0458 - val_mse: 0.0458\n",
            "Epoch 50/100\n",
            "8/8 [==============================] - 1s 150ms/step - loss: 0.0382 - mse: 0.0382 - val_loss: 0.0458 - val_mse: 0.0458\n",
            "Epoch 51/100\n",
            "8/8 [==============================] - 1s 149ms/step - loss: 0.0383 - mse: 0.0383 - val_loss: 0.0457 - val_mse: 0.0457\n",
            "Epoch 52/100\n",
            "8/8 [==============================] - 1s 151ms/step - loss: 0.0382 - mse: 0.0382 - val_loss: 0.0455 - val_mse: 0.0455\n",
            "Epoch 53/100\n",
            "8/8 [==============================] - 1s 150ms/step - loss: 0.0381 - mse: 0.0381 - val_loss: 0.0465 - val_mse: 0.0465\n",
            "Epoch 54/100\n",
            "8/8 [==============================] - 1s 153ms/step - loss: 0.0383 - mse: 0.0383 - val_loss: 0.0472 - val_mse: 0.0472\n",
            "Epoch 55/100\n",
            "8/8 [==============================] - 1s 154ms/step - loss: 0.0384 - mse: 0.0384 - val_loss: 0.0481 - val_mse: 0.0481\n",
            "Epoch 56/100\n",
            "8/8 [==============================] - 1s 150ms/step - loss: 0.0385 - mse: 0.0385 - val_loss: 0.0457 - val_mse: 0.0457\n",
            "Epoch 57/100\n",
            "8/8 [==============================] - 1s 152ms/step - loss: 0.0383 - mse: 0.0383 - val_loss: 0.0456 - val_mse: 0.0456\n",
            "Epoch 58/100\n",
            "8/8 [==============================] - 1s 150ms/step - loss: 0.0384 - mse: 0.0384 - val_loss: 0.0455 - val_mse: 0.0455\n",
            "Epoch 59/100\n",
            "8/8 [==============================] - 1s 154ms/step - loss: 0.0383 - mse: 0.0383 - val_loss: 0.0457 - val_mse: 0.0457\n",
            "Epoch 60/100\n",
            "8/8 [==============================] - 1s 150ms/step - loss: 0.0384 - mse: 0.0384 - val_loss: 0.0455 - val_mse: 0.0455\n",
            "Epoch 61/100\n",
            "8/8 [==============================] - 1s 152ms/step - loss: 0.0380 - mse: 0.0380 - val_loss: 0.0457 - val_mse: 0.0457\n",
            "Epoch 62/100\n",
            "8/8 [==============================] - 1s 157ms/step - loss: 0.0379 - mse: 0.0379 - val_loss: 0.0457 - val_mse: 0.0457\n",
            "Epoch 63/100\n",
            "8/8 [==============================] - 1s 152ms/step - loss: 0.0383 - mse: 0.0383 - val_loss: 0.0452 - val_mse: 0.0452\n",
            "Epoch 64/100\n",
            "8/8 [==============================] - 1s 154ms/step - loss: 0.0381 - mse: 0.0381 - val_loss: 0.0456 - val_mse: 0.0456\n",
            "Epoch 65/100\n",
            "8/8 [==============================] - 1s 153ms/step - loss: 0.0383 - mse: 0.0383 - val_loss: 0.0462 - val_mse: 0.0462\n",
            "Epoch 66/100\n",
            "8/8 [==============================] - 1s 150ms/step - loss: 0.0386 - mse: 0.0386 - val_loss: 0.0462 - val_mse: 0.0462\n",
            "Epoch 67/100\n",
            "8/8 [==============================] - 1s 152ms/step - loss: 0.0381 - mse: 0.0381 - val_loss: 0.0457 - val_mse: 0.0457\n",
            "Epoch 68/100\n",
            "8/8 [==============================] - 1s 150ms/step - loss: 0.0381 - mse: 0.0381 - val_loss: 0.0463 - val_mse: 0.0463\n",
            "Epoch 69/100\n",
            "8/8 [==============================] - 1s 149ms/step - loss: 0.0381 - mse: 0.0381 - val_loss: 0.0457 - val_mse: 0.0457\n",
            "Epoch 70/100\n",
            "8/8 [==============================] - 1s 150ms/step - loss: 0.0384 - mse: 0.0384 - val_loss: 0.0453 - val_mse: 0.0453\n",
            "Epoch 71/100\n",
            "8/8 [==============================] - 1s 151ms/step - loss: 0.0382 - mse: 0.0382 - val_loss: 0.0468 - val_mse: 0.0468\n",
            "Epoch 72/100\n",
            "8/8 [==============================] - 1s 153ms/step - loss: 0.0383 - mse: 0.0383 - val_loss: 0.0464 - val_mse: 0.0464\n",
            "Epoch 73/100\n",
            "8/8 [==============================] - 1s 149ms/step - loss: 0.0384 - mse: 0.0384 - val_loss: 0.0473 - val_mse: 0.0473\n",
            "Epoch 74/100\n",
            "8/8 [==============================] - 1s 151ms/step - loss: 0.0383 - mse: 0.0383 - val_loss: 0.0474 - val_mse: 0.0474\n",
            "Epoch 75/100\n",
            "8/8 [==============================] - 1s 152ms/step - loss: 0.0377 - mse: 0.0377 - val_loss: 0.0476 - val_mse: 0.0476\n",
            "Epoch 76/100\n",
            "8/8 [==============================] - 1s 150ms/step - loss: 0.0381 - mse: 0.0381 - val_loss: 0.0468 - val_mse: 0.0468\n",
            "Epoch 77/100\n",
            "8/8 [==============================] - 1s 150ms/step - loss: 0.0383 - mse: 0.0383 - val_loss: 0.0471 - val_mse: 0.0471\n",
            "Epoch 78/100\n",
            "8/8 [==============================] - 1s 153ms/step - loss: 0.0380 - mse: 0.0380 - val_loss: 0.0458 - val_mse: 0.0458\n",
            "Epoch 79/100\n",
            "8/8 [==============================] - 1s 152ms/step - loss: 0.0384 - mse: 0.0384 - val_loss: 0.0456 - val_mse: 0.0456\n",
            "Epoch 80/100\n",
            "8/8 [==============================] - 1s 154ms/step - loss: 0.0379 - mse: 0.0379 - val_loss: 0.0459 - val_mse: 0.0459\n",
            "Epoch 81/100\n",
            "8/8 [==============================] - 1s 155ms/step - loss: 0.0383 - mse: 0.0383 - val_loss: 0.0449 - val_mse: 0.0449\n",
            "Epoch 82/100\n",
            "8/8 [==============================] - 1s 150ms/step - loss: 0.0384 - mse: 0.0384 - val_loss: 0.0468 - val_mse: 0.0468\n",
            "Epoch 83/100\n",
            "8/8 [==============================] - 1s 150ms/step - loss: 0.0382 - mse: 0.0382 - val_loss: 0.0463 - val_mse: 0.0463\n",
            "Epoch 84/100\n",
            "8/8 [==============================] - 1s 152ms/step - loss: 0.0381 - mse: 0.0381 - val_loss: 0.0463 - val_mse: 0.0463\n",
            "Epoch 85/100\n",
            "8/8 [==============================] - 1s 153ms/step - loss: 0.0380 - mse: 0.0380 - val_loss: 0.0455 - val_mse: 0.0455\n",
            "Epoch 86/100\n",
            "8/8 [==============================] - 1s 151ms/step - loss: 0.0384 - mse: 0.0384 - val_loss: 0.0460 - val_mse: 0.0460\n",
            "Epoch 87/100\n",
            "8/8 [==============================] - 1s 151ms/step - loss: 0.0381 - mse: 0.0381 - val_loss: 0.0459 - val_mse: 0.0459\n",
            "Epoch 88/100\n",
            "8/8 [==============================] - 1s 150ms/step - loss: 0.0378 - mse: 0.0378 - val_loss: 0.0452 - val_mse: 0.0452\n",
            "Epoch 89/100\n",
            "8/8 [==============================] - 1s 150ms/step - loss: 0.0379 - mse: 0.0379 - val_loss: 0.0452 - val_mse: 0.0452\n",
            "Epoch 90/100\n",
            "8/8 [==============================] - 1s 152ms/step - loss: 0.0380 - mse: 0.0380 - val_loss: 0.0444 - val_mse: 0.0444\n",
            "Epoch 91/100\n",
            "8/8 [==============================] - 1s 151ms/step - loss: 0.0384 - mse: 0.0384 - val_loss: 0.0448 - val_mse: 0.0448\n",
            "Epoch 92/100\n",
            "8/8 [==============================] - 1s 153ms/step - loss: 0.0382 - mse: 0.0382 - val_loss: 0.0447 - val_mse: 0.0447\n",
            "Epoch 93/100\n",
            "8/8 [==============================] - 1s 151ms/step - loss: 0.0382 - mse: 0.0382 - val_loss: 0.0452 - val_mse: 0.0452\n",
            "Epoch 94/100\n",
            "8/8 [==============================] - 1s 153ms/step - loss: 0.0381 - mse: 0.0381 - val_loss: 0.0448 - val_mse: 0.0448\n",
            "Epoch 95/100\n",
            "8/8 [==============================] - 1s 150ms/step - loss: 0.0387 - mse: 0.0387 - val_loss: 0.0457 - val_mse: 0.0457\n",
            "Epoch 96/100\n",
            "8/8 [==============================] - 1s 151ms/step - loss: 0.0382 - mse: 0.0382 - val_loss: 0.0463 - val_mse: 0.0463\n",
            "Epoch 97/100\n",
            "8/8 [==============================] - 1s 151ms/step - loss: 0.0382 - mse: 0.0382 - val_loss: 0.0463 - val_mse: 0.0463\n",
            "Epoch 98/100\n",
            "8/8 [==============================] - 1s 151ms/step - loss: 0.0377 - mse: 0.0377 - val_loss: 0.0461 - val_mse: 0.0461\n",
            "Epoch 99/100\n",
            "8/8 [==============================] - 1s 152ms/step - loss: 0.0382 - mse: 0.0382 - val_loss: 0.0456 - val_mse: 0.0456\n",
            "Epoch 100/100\n",
            "8/8 [==============================] - 1s 153ms/step - loss: 0.0382 - mse: 0.0382 - val_loss: 0.0455 - val_mse: 0.0455\n"
          ]
        }
      ]
    },
    {
      "cell_type": "code",
      "metadata": {
        "id": "TTSWTmNke1S5"
      },
      "source": [
        "# the prediction and checking performance metrics\n",
        "train_predict=model.predict(X_train)\n",
        "test_predict=model.predict(X_test)"
      ],
      "execution_count": null,
      "outputs": []
    },
    {
      "cell_type": "code",
      "metadata": {
        "id": "MyNP3VlRe1P1"
      },
      "source": [
        "#transform to original form\n",
        "train_predict=scaler.inverse_transform(train_predict)\n",
        "test_predict=scaler.inverse_transform(test_predict)"
      ],
      "execution_count": null,
      "outputs": []
    },
    {
      "cell_type": "code",
      "metadata": {
        "colab": {
          "base_uri": "https://localhost:8080/",
          "height": 265
        },
        "id": "-lkBg-R5e1NL",
        "outputId": "e5209d19-2784-4b05-ba7c-220482503b61"
      },
      "source": [
        "plt.plot(history.history['loss'])\n",
        "plt.show()"
      ],
      "execution_count": null,
      "outputs": [
        {
          "output_type": "display_data",
          "data": {
            "image/png": "[encoded data removed]",
            "text/plain": [
              "<Figure size 432x288 with 1 Axes>"
            ]
          },
          "metadata": {
            "needs_background": "light"
          }
        }
      ]
    },
    {
      "cell_type": "code",
      "metadata": {
        "colab": {
          "base_uri": "https://localhost:8080/",
          "height": 295
        },
        "id": "VFXEuMYnOgXd",
        "outputId": "fc17a599-badc-4272-c922-d8ddec239750"
      },
      "source": [
        "loss_train = history.history['loss']\n",
        "loss_val = history.history['val_loss']\n",
        "epochs = range(1,101)\n",
        "plt.plot(epochs, loss_train, 'g', label='Training loss')\n",
        "plt.plot(epochs, loss_val, 'b', label='validation loss')\n",
        "plt.title('Training and Validation loss')\n",
        "plt.xlabel('Epochs')\n",
        "plt.ylabel('Loss')\n",
        "plt.legend()\n",
        "plt.show()"
      ],
      "execution_count": null,
      "outputs": [
        {
          "output_type": "display_data",
          "data": {
            "image/png": "[encoded data removed]",
            "text/plain": [
              "<Figure size 432x288 with 1 Axes>"
            ]
          },
          "metadata": {
            "needs_background": "light"
          }
        }
      ]
    },
    {
      "cell_type": "code",
      "metadata": {
        "colab": {
          "base_uri": "https://localhost:8080/",
          "height": 235
        },
        "id": "gSYZjTGyTEoR",
        "outputId": "8283555b-9caf-4983-d3f7-b842c22471f7"
      },
      "source": [
        "#loss_train = history.history['acc']\n",
        "#loss_val = history.history['val_acc']\n",
        "#epochs = range(1,101)\n",
        "#plt.plot(epochs, loss_train, 'g', label='Training accuracy')\n",
        "#plt.plot(epochs, loss_val, 'b', label='validation accuracy')\n",
        "#plt.title('Training and Validation accuracy')\n",
        "#plt.xlabel('epochs')\n",
        "#plt.ylabel('Accuracy')\n",
        "plt.legend()\n",
        "plt.show()"
      ],
      "execution_count": null,
      "outputs": [
        {
          "output_type": "error",
          "ename": "NameError",
          "evalue": "ignored",
          "traceback": [
            "\u001b[0;31m---------------------------------------------------------------------------\u001b[0m",
            "\u001b[0;31mNameError\u001b[0m                                 Traceback (most recent call last)",
            "\u001b[0;32m<ipython-input-1-cc5186490ac4>\u001b[0m in \u001b[0;36m<module>\u001b[0;34m()\u001b[0m\n\u001b[0;32m----> 1\u001b[0;31m \u001b[0mloss_train\u001b[0m \u001b[0;34m=\u001b[0m \u001b[0mhistory\u001b[0m\u001b[0;34m.\u001b[0m\u001b[0mhistory\u001b[0m\u001b[0;34m[\u001b[0m\u001b[0;34m'acc'\u001b[0m\u001b[0;34m]\u001b[0m\u001b[0;34m\u001b[0m\u001b[0;34m\u001b[0m\u001b[0m\n\u001b[0m\u001b[1;32m      2\u001b[0m \u001b[0mloss_val\u001b[0m \u001b[0;34m=\u001b[0m \u001b[0mhistory\u001b[0m\u001b[0;34m.\u001b[0m\u001b[0mhistory\u001b[0m\u001b[0;34m[\u001b[0m\u001b[0;34m'val_acc'\u001b[0m\u001b[0;34m]\u001b[0m\u001b[0;34m\u001b[0m\u001b[0;34m\u001b[0m\u001b[0m\n\u001b[1;32m      3\u001b[0m \u001b[0mepochs\u001b[0m \u001b[0;34m=\u001b[0m \u001b[0mrange\u001b[0m\u001b[0;34m(\u001b[0m\u001b[0;36m1\u001b[0m\u001b[0;34m,\u001b[0m\u001b[0;36m101\u001b[0m\u001b[0;34m)\u001b[0m\u001b[0;34m\u001b[0m\u001b[0;34m\u001b[0m\u001b[0m\n\u001b[1;32m      4\u001b[0m \u001b[0mplt\u001b[0m\u001b[0;34m.\u001b[0m\u001b[0mplot\u001b[0m\u001b[0;34m(\u001b[0m\u001b[0mepochs\u001b[0m\u001b[0;34m,\u001b[0m \u001b[0mloss_train\u001b[0m\u001b[0;34m,\u001b[0m \u001b[0;34m'g'\u001b[0m\u001b[0;34m,\u001b[0m \u001b[0mlabel\u001b[0m\u001b[0;34m=\u001b[0m\u001b[0;34m'Training accuracy'\u001b[0m\u001b[0;34m)\u001b[0m\u001b[0;34m\u001b[0m\u001b[0;34m\u001b[0m\u001b[0m\n\u001b[1;32m      5\u001b[0m \u001b[0mplt\u001b[0m\u001b[0;34m.\u001b[0m\u001b[0mplot\u001b[0m\u001b[0;34m(\u001b[0m\u001b[0mepochs\u001b[0m\u001b[0;34m,\u001b[0m \u001b[0mloss_val\u001b[0m\u001b[0;34m,\u001b[0m \u001b[0;34m'b'\u001b[0m\u001b[0;34m,\u001b[0m \u001b[0mlabel\u001b[0m\u001b[0;34m=\u001b[0m\u001b[0;34m'validation accuracy'\u001b[0m\u001b[0;34m)\u001b[0m\u001b[0;34m\u001b[0m\u001b[0;34m\u001b[0m\u001b[0m\n",
            "\u001b[0;31mNameError\u001b[0m: name 'history' is not defined"
          ]
        }
      ]
    },
    {
      "cell_type": "code",
      "metadata": {
        "colab": {
          "base_uri": "https://localhost:8080/"
        },
        "id": "PYC8BePCe1Ky",
        "outputId": "14ba1e9d-7fd9-4d30-f29c-a97b17a6c7d4"
      },
      "source": [
        "# train data RMSE\n",
        "import math\n",
        "from sklearn.metrics import mean_squared_error\n",
        "math.sqrt(mean_squared_error(y_train,train_predict))"
      ],
      "execution_count": null,
      "outputs": [
        {
          "output_type": "execute_result",
          "data": {
            "text/plain": [
              "3403.1265630025327"
            ]
          },
          "metadata": {},
          "execution_count": 30
        }
      ]
    },
    {
      "cell_type": "code",
      "metadata": {
        "colab": {
          "base_uri": "https://localhost:8080/"
        },
        "id": "jJmIed3Ufknu",
        "outputId": "a506c010-bf2e-4157-8454-50fe87e8f619"
      },
      "source": [
        "# train data RMSE\n",
        "math.sqrt(mean_squared_error(ytest,test_predict))"
      ],
      "execution_count": null,
      "outputs": [
        {
          "output_type": "execute_result",
          "data": {
            "text/plain": [
              "3397.140889535924"
            ]
          },
          "metadata": {},
          "execution_count": 31
        }
      ]
    },
    {
      "cell_type": "code",
      "metadata": {
        "colab": {
          "base_uri": "https://localhost:8080/",
          "height": 374
        },
        "id": "Bl8VHmstfkll",
        "outputId": "e87fd9e9-0171-400f-a5af-f828bce3a26d"
      },
      "source": [
        "# plotting\n",
        "# shift train predictions for plotting\n",
        "look_back=100\n",
        "trainPredictPlot=numpy.empty_like(df1)\n",
        "trainPredictPlot[:,:] = np.nan\n",
        "trainPredictPlot[look_back:len(train_predict)+look_back,:]= train_predict\n",
        "#shift test prediction for plotting\n",
        "testPredictPlot=numpy.empty_like(df1)\n",
        "testPredictPlot[:,:]= numpy.nan\n",
        "testPredictPlot[len(train_predict)+(look_back*2)+1:len(df1)-1,:] = test_predict\n",
        "#plot baseline and predictions\n",
        "plt.xlabel=('Date')\n",
        "plt.ylabel=('Consumption')\n",
        "plt.figure(figsize=(12,6))\n",
        "plt.plot(scaler.inverse_transform(df1))\n",
        "plt.plot(trainPredictPlot)\n",
        "plt.plot(testPredictPlot)\n",
        "plt.legend(['data','trainP', 'testP'])\n",
        "plt.show()"
      ],
      "execution_count": null,
      "outputs": [
        {
          "output_type": "display_data",
          "data": {
            "image/png": "[encoded data removed]",
            "text/plain": [
              "<Figure size 864x432 with 1 Axes>"
            ]
          },
          "metadata": {
            "needs_background": "light"
          }
        }
      ]
    },
    {
      "cell_type": "code",
      "metadata": {
        "colab": {
          "base_uri": "https://localhost:8080/"
        },
        "id": "o67CHis-fki_",
        "outputId": "57575210-92b7-4ada-8b8c-ec2fe35843c9"
      },
      "source": [
        "len(test_data)"
      ],
      "execution_count": null,
      "outputs": [
        {
          "output_type": "execute_result",
          "data": {
            "text/plain": [
              "179"
            ]
          },
          "metadata": {},
          "execution_count": 33
        }
      ]
    },
    {
      "cell_type": "code",
      "metadata": {
        "colab": {
          "base_uri": "https://localhost:8080/"
        },
        "id": "TMVJPzhJe1IE",
        "outputId": "055d6a2d-f853-430b-a433-cc7d89f0cc62"
      },
      "source": [
        "x_input=test_data[79:].reshape(1,-1)   #77\n",
        "x_input.shape"
      ],
      "execution_count": null,
      "outputs": [
        {
          "output_type": "execute_result",
          "data": {
            "text/plain": [
              "(1, 100)"
            ]
          },
          "metadata": {},
          "execution_count": 34
        }
      ]
    },
    {
      "cell_type": "code",
      "metadata": {
        "id": "sMZZwRuae1Fb"
      },
      "source": [
        "temp_input=list(x_input)\n",
        "temp_input=temp_input[0].tolist()"
      ],
      "execution_count": null,
      "outputs": []
    },
    {
      "cell_type": "code",
      "metadata": {
        "colab": {
          "base_uri": "https://localhost:8080/"
        },
        "id": "mn7xjGTAgC4e",
        "outputId": "276141b3-475a-43cc-d0be-20a4dca23713"
      },
      "source": [
        "#demonstrate predictions for next 100 days\n",
        "from numpy import array\n",
        "lst_output=[]\n",
        "n_steps=100    #100\n",
        "i=0\n",
        "while(i<30):       #30 for 30 days\n",
        "\n",
        "    if(len(temp_input)>100):\n",
        "      #print(temp_input)\n",
        "      x_input=np.array(temp_input[1:])\n",
        "      print(\"{} day input {}\".format(i,x_input))\n",
        "      x_input=x_input.reshape(1,-1)\n",
        "      x_input=x_input.reshape((1,n_steps,1))\n",
        "      #print(x_input)\n",
        "      yhat=model.predict(x_input,verbose=0)\n",
        "      print(\"{} day output {}\".format(i,yhat))\n",
        "      temp_input.extend(yhat[0].tolist())\n",
        "      temp_input=temp_input[1:]\n",
        "      #print(temp_input)\n",
        "      lst_output.extend(yhat.tolist())\n",
        "      i=i+1\n",
        "    else:\n",
        "      x_input=x_input.reshape((1,n_steps,1))\n",
        "      yhat=model.predict(x_input,verbose=0)\n",
        "      print(yhat[0])\n",
        "      temp_input.extend(yhat[0].tolist())\n",
        "      print(len(temp_input))\n",
        "      lst_output.extend(yhat.tolist())\n",
        "      i=i+1\n",
        "\n",
        "print(lst_output)\n"
      ],
      "execution_count": null,
      "outputs": [
        {
          "output_type": "stream",
          "name": "stdout",
          "text": [
            "[0.5620295]\n",
            "101\n",
            "1 day input [0.45247123 0.46570877 0.50209539 0.49770505 0.51885851 0.53375906\n",
            " 0.50881394 0.43517595 0.81447482 0.86343378 0.88950975 0.91372314\n",
            " 0.92463248 0.89203752 0.79119271 0.51014435 0.53741768 0.50422404\n",
            " 0.5132708  0.54666401 0.55868953 0.55868953 0.55868953 0.55868953\n",
            " 0.55868953 0.55868953 0.55868953 0.54779485 0.48646311 0.78028338\n",
            " 0.70943923 0.61704251 0.74935143 0.72267678 0.74037118 0.73072574\n",
            " 0.10995809 0.11408235 0.09326149 0.08660946 0.07164239 0.08654294\n",
            " 0.14182133 0.30825517 0.34364398 0.37397725 0.31304464 0.30107098\n",
            " 0.28816603 0.23149072 0.52464578 0.55868953 0.55868953 0.55868953\n",
            " 0.55868953 0.55868953 0.55868953 0.55868953 0.5698796  0.5790594\n",
            " 0.60866095 0.62083416 0.59688685 0.54027805 0.46836959 0.52065456\n",
            " 0.51659682 0.43843544 0.44774829 0.43510943 0.38089536 0.85777955\n",
            " 0.92656156 0.96873545 0.92057474 0.88864498 0.90959888 0.86962017\n",
            " 0.24073705 0.2638196  0.29548327 0.55868953 0.55868953 0.55868953\n",
            " 0.55868953 0.55868953 0.55868953 0.55868953 0.29767844 0.30885385\n",
            " 0.39087341 0.45180603 0.60859443 0.63593428 0.64983703 0.66433846\n",
            " 0.66473758 0.63812945 0.53575467 0.56202948]\n",
            "1 day output [[0.56276476]]\n",
            "2 day input [0.46570877 0.50209539 0.49770505 0.51885851 0.53375906 0.50881394\n",
            " 0.43517595 0.81447482 0.86343378 0.88950975 0.91372314 0.92463248\n",
            " 0.89203752 0.79119271 0.51014435 0.53741768 0.50422404 0.5132708\n",
            " 0.54666401 0.55868953 0.55868953 0.55868953 0.55868953 0.55868953\n",
            " 0.55868953 0.55868953 0.54779485 0.48646311 0.78028338 0.70943923\n",
            " 0.61704251 0.74935143 0.72267678 0.74037118 0.73072574 0.10995809\n",
            " 0.11408235 0.09326149 0.08660946 0.07164239 0.08654294 0.14182133\n",
            " 0.30825517 0.34364398 0.37397725 0.31304464 0.30107098 0.28816603\n",
            " 0.23149072 0.52464578 0.55868953 0.55868953 0.55868953 0.55868953\n",
            " 0.55868953 0.55868953 0.55868953 0.5698796  0.5790594  0.60866095\n",
            " 0.62083416 0.59688685 0.54027805 0.46836959 0.52065456 0.51659682\n",
            " 0.43843544 0.44774829 0.43510943 0.38089536 0.85777955 0.92656156\n",
            " 0.96873545 0.92057474 0.88864498 0.90959888 0.86962017 0.24073705\n",
            " 0.2638196  0.29548327 0.55868953 0.55868953 0.55868953 0.55868953\n",
            " 0.55868953 0.55868953 0.55868953 0.29767844 0.30885385 0.39087341\n",
            " 0.45180603 0.60859443 0.63593428 0.64983703 0.66433846 0.66473758\n",
            " 0.63812945 0.53575467 0.56202948 0.56276476]\n",
            "2 day output [[0.56335896]]\n",
            "3 day input [0.50209539 0.49770505 0.51885851 0.53375906 0.50881394 0.43517595\n",
            " 0.81447482 0.86343378 0.88950975 0.91372314 0.92463248 0.89203752\n",
            " 0.79119271 0.51014435 0.53741768 0.50422404 0.5132708  0.54666401\n",
            " 0.55868953 0.55868953 0.55868953 0.55868953 0.55868953 0.55868953\n",
            " 0.55868953 0.54779485 0.48646311 0.78028338 0.70943923 0.61704251\n",
            " 0.74935143 0.72267678 0.74037118 0.73072574 0.10995809 0.11408235\n",
            " 0.09326149 0.08660946 0.07164239 0.08654294 0.14182133 0.30825517\n",
            " 0.34364398 0.37397725 0.31304464 0.30107098 0.28816603 0.23149072\n",
            " 0.52464578 0.55868953 0.55868953 0.55868953 0.55868953 0.55868953\n",
            " 0.55868953 0.55868953 0.5698796  0.5790594  0.60866095 0.62083416\n",
            " 0.59688685 0.54027805 0.46836959 0.52065456 0.51659682 0.43843544\n",
            " 0.44774829 0.43510943 0.38089536 0.85777955 0.92656156 0.96873545\n",
            " 0.92057474 0.88864498 0.90959888 0.86962017 0.24073705 0.2638196\n",
            " 0.29548327 0.55868953 0.55868953 0.55868953 0.55868953 0.55868953\n",
            " 0.55868953 0.55868953 0.29767844 0.30885385 0.39087341 0.45180603\n",
            " 0.60859443 0.63593428 0.64983703 0.66433846 0.66473758 0.63812945\n",
            " 0.53575467 0.56202948 0.56276476 0.56335896]\n",
            "3 day output [[0.56381494]]\n",
            "4 day input [0.49770505 0.51885851 0.53375906 0.50881394 0.43517595 0.81447482\n",
            " 0.86343378 0.88950975 0.91372314 0.92463248 0.89203752 0.79119271\n",
            " 0.51014435 0.53741768 0.50422404 0.5132708  0.54666401 0.55868953\n",
            " 0.55868953 0.55868953 0.55868953 0.55868953 0.55868953 0.55868953\n",
            " 0.54779485 0.48646311 0.78028338 0.70943923 0.61704251 0.74935143\n",
            " 0.72267678 0.74037118 0.73072574 0.10995809 0.11408235 0.09326149\n",
            " 0.08660946 0.07164239 0.08654294 0.14182133 0.30825517 0.34364398\n",
            " 0.37397725 0.31304464 0.30107098 0.28816603 0.23149072 0.52464578\n",
            " 0.55868953 0.55868953 0.55868953 0.55868953 0.55868953 0.55868953\n",
            " 0.55868953 0.5698796  0.5790594  0.60866095 0.62083416 0.59688685\n",
            " 0.54027805 0.46836959 0.52065456 0.51659682 0.43843544 0.44774829\n",
            " 0.43510943 0.38089536 0.85777955 0.92656156 0.96873545 0.92057474\n",
            " 0.88864498 0.90959888 0.86962017 0.24073705 0.2638196  0.29548327\n",
            " 0.55868953 0.55868953 0.55868953 0.55868953 0.55868953 0.55868953\n",
            " 0.55868953 0.29767844 0.30885385 0.39087341 0.45180603 0.60859443\n",
            " 0.63593428 0.64983703 0.66433846 0.66473758 0.63812945 0.53575467\n",
            " 0.56202948 0.56276476 0.56335896 0.56381494]\n",
            "4 day output [[0.5641503]]\n",
            "5 day input [0.51885851 0.53375906 0.50881394 0.43517595 0.81447482 0.86343378\n",
            " 0.88950975 0.91372314 0.92463248 0.89203752 0.79119271 0.51014435\n",
            " 0.53741768 0.50422404 0.5132708  0.54666401 0.55868953 0.55868953\n",
            " 0.55868953 0.55868953 0.55868953 0.55868953 0.55868953 0.54779485\n",
            " 0.48646311 0.78028338 0.70943923 0.61704251 0.74935143 0.72267678\n",
            " 0.74037118 0.73072574 0.10995809 0.11408235 0.09326149 0.08660946\n",
            " 0.07164239 0.08654294 0.14182133 0.30825517 0.34364398 0.37397725\n",
            " 0.31304464 0.30107098 0.28816603 0.23149072 0.52464578 0.55868953\n",
            " 0.55868953 0.55868953 0.55868953 0.55868953 0.55868953 0.55868953\n",
            " 0.5698796  0.5790594  0.60866095 0.62083416 0.59688685 0.54027805\n",
            " 0.46836959 0.52065456 0.51659682 0.43843544 0.44774829 0.43510943\n",
            " 0.38089536 0.85777955 0.92656156 0.96873545 0.92057474 0.88864498\n",
            " 0.90959888 0.86962017 0.24073705 0.2638196  0.29548327 0.55868953\n",
            " 0.55868953 0.55868953 0.55868953 0.55868953 0.55868953 0.55868953\n",
            " 0.29767844 0.30885385 0.39087341 0.45180603 0.60859443 0.63593428\n",
            " 0.64983703 0.66433846 0.66473758 0.63812945 0.53575467 0.56202948\n",
            " 0.56276476 0.56335896 0.56381494 0.56415027]\n",
            "5 day output [[0.56438756]]\n",
            "6 day input [0.53375906 0.50881394 0.43517595 0.81447482 0.86343378 0.88950975\n",
            " 0.91372314 0.92463248 0.89203752 0.79119271 0.51014435 0.53741768\n",
            " 0.50422404 0.5132708  0.54666401 0.55868953 0.55868953 0.55868953\n",
            " 0.55868953 0.55868953 0.55868953 0.55868953 0.54779485 0.48646311\n",
            " 0.78028338 0.70943923 0.61704251 0.74935143 0.72267678 0.74037118\n",
            " 0.73072574 0.10995809 0.11408235 0.09326149 0.08660946 0.07164239\n",
            " 0.08654294 0.14182133 0.30825517 0.34364398 0.37397725 0.31304464\n",
            " 0.30107098 0.28816603 0.23149072 0.52464578 0.55868953 0.55868953\n",
            " 0.55868953 0.55868953 0.55868953 0.55868953 0.55868953 0.5698796\n",
            " 0.5790594  0.60866095 0.62083416 0.59688685 0.54027805 0.46836959\n",
            " 0.52065456 0.51659682 0.43843544 0.44774829 0.43510943 0.38089536\n",
            " 0.85777955 0.92656156 0.96873545 0.92057474 0.88864498 0.90959888\n",
            " 0.86962017 0.24073705 0.2638196  0.29548327 0.55868953 0.55868953\n",
            " 0.55868953 0.55868953 0.55868953 0.55868953 0.55868953 0.29767844\n",
            " 0.30885385 0.39087341 0.45180603 0.60859443 0.63593428 0.64983703\n",
            " 0.66433846 0.66473758 0.63812945 0.53575467 0.56202948 0.56276476\n",
            " 0.56335896 0.56381494 0.56415027 0.56438756]\n",
            "6 day output [[0.5645494]]\n",
            "7 day input [0.50881394 0.43517595 0.81447482 0.86343378 0.88950975 0.91372314\n",
            " 0.92463248 0.89203752 0.79119271 0.51014435 0.53741768 0.50422404\n",
            " 0.5132708  0.54666401 0.55868953 0.55868953 0.55868953 0.55868953\n",
            " 0.55868953 0.55868953 0.55868953 0.54779485 0.48646311 0.78028338\n",
            " 0.70943923 0.61704251 0.74935143 0.72267678 0.74037118 0.73072574\n",
            " 0.10995809 0.11408235 0.09326149 0.08660946 0.07164239 0.08654294\n",
            " 0.14182133 0.30825517 0.34364398 0.37397725 0.31304464 0.30107098\n",
            " 0.28816603 0.23149072 0.52464578 0.55868953 0.55868953 0.55868953\n",
            " 0.55868953 0.55868953 0.55868953 0.55868953 0.5698796  0.5790594\n",
            " 0.60866095 0.62083416 0.59688685 0.54027805 0.46836959 0.52065456\n",
            " 0.51659682 0.43843544 0.44774829 0.43510943 0.38089536 0.85777955\n",
            " 0.92656156 0.96873545 0.92057474 0.88864498 0.90959888 0.86962017\n",
            " 0.24073705 0.2638196  0.29548327 0.55868953 0.55868953 0.55868953\n",
            " 0.55868953 0.55868953 0.55868953 0.55868953 0.29767844 0.30885385\n",
            " 0.39087341 0.45180603 0.60859443 0.63593428 0.64983703 0.66433846\n",
            " 0.66473758 0.63812945 0.53575467 0.56202948 0.56276476 0.56335896\n",
            " 0.56381494 0.56415027 0.56438756 0.56454939]\n",
            "7 day output [[0.5646551]]\n",
            "8 day input [0.43517595 0.81447482 0.86343378 0.88950975 0.91372314 0.92463248\n",
            " 0.89203752 0.79119271 0.51014435 0.53741768 0.50422404 0.5132708\n",
            " 0.54666401 0.55868953 0.55868953 0.55868953 0.55868953 0.55868953\n",
            " 0.55868953 0.55868953 0.54779485 0.48646311 0.78028338 0.70943923\n",
            " 0.61704251 0.74935143 0.72267678 0.74037118 0.73072574 0.10995809\n",
            " 0.11408235 0.09326149 0.08660946 0.07164239 0.08654294 0.14182133\n",
            " 0.30825517 0.34364398 0.37397725 0.31304464 0.30107098 0.28816603\n",
            " 0.23149072 0.52464578 0.55868953 0.55868953 0.55868953 0.55868953\n",
            " 0.55868953 0.55868953 0.55868953 0.5698796  0.5790594  0.60866095\n",
            " 0.62083416 0.59688685 0.54027805 0.46836959 0.52065456 0.51659682\n",
            " 0.43843544 0.44774829 0.43510943 0.38089536 0.85777955 0.92656156\n",
            " 0.96873545 0.92057474 0.88864498 0.90959888 0.86962017 0.24073705\n",
            " 0.2638196  0.29548327 0.55868953 0.55868953 0.55868953 0.55868953\n",
            " 0.55868953 0.55868953 0.55868953 0.29767844 0.30885385 0.39087341\n",
            " 0.45180603 0.60859443 0.63593428 0.64983703 0.66433846 0.66473758\n",
            " 0.63812945 0.53575467 0.56202948 0.56276476 0.56335896 0.56381494\n",
            " 0.56415027 0.56438756 0.56454939 0.56465513]\n",
            "8 day output [[0.5647213]]\n",
            "9 day input [0.81447482 0.86343378 0.88950975 0.91372314 0.92463248 0.89203752\n",
            " 0.79119271 0.51014435 0.53741768 0.50422404 0.5132708  0.54666401\n",
            " 0.55868953 0.55868953 0.55868953 0.55868953 0.55868953 0.55868953\n",
            " 0.55868953 0.54779485 0.48646311 0.78028338 0.70943923 0.61704251\n",
            " 0.74935143 0.72267678 0.74037118 0.73072574 0.10995809 0.11408235\n",
            " 0.09326149 0.08660946 0.07164239 0.08654294 0.14182133 0.30825517\n",
            " 0.34364398 0.37397725 0.31304464 0.30107098 0.28816603 0.23149072\n",
            " 0.52464578 0.55868953 0.55868953 0.55868953 0.55868953 0.55868953\n",
            " 0.55868953 0.55868953 0.5698796  0.5790594  0.60866095 0.62083416\n",
            " 0.59688685 0.54027805 0.46836959 0.52065456 0.51659682 0.43843544\n",
            " 0.44774829 0.43510943 0.38089536 0.85777955 0.92656156 0.96873545\n",
            " 0.92057474 0.88864498 0.90959888 0.86962017 0.24073705 0.2638196\n",
            " 0.29548327 0.55868953 0.55868953 0.55868953 0.55868953 0.55868953\n",
            " 0.55868953 0.55868953 0.29767844 0.30885385 0.39087341 0.45180603\n",
            " 0.60859443 0.63593428 0.64983703 0.66433846 0.66473758 0.63812945\n",
            " 0.53575467 0.56202948 0.56276476 0.56335896 0.56381494 0.56415027\n",
            " 0.56438756 0.56454939 0.56465513 0.56472129]\n",
            "9 day output [[0.5647601]]\n",
            "10 day input [0.86343378 0.88950975 0.91372314 0.92463248 0.89203752 0.79119271\n",
            " 0.51014435 0.53741768 0.50422404 0.5132708  0.54666401 0.55868953\n",
            " 0.55868953 0.55868953 0.55868953 0.55868953 0.55868953 0.55868953\n",
            " 0.54779485 0.48646311 0.78028338 0.70943923 0.61704251 0.74935143\n",
            " 0.72267678 0.74037118 0.73072574 0.10995809 0.11408235 0.09326149\n",
            " 0.08660946 0.07164239 0.08654294 0.14182133 0.30825517 0.34364398\n",
            " 0.37397725 0.31304464 0.30107098 0.28816603 0.23149072 0.52464578\n",
            " 0.55868953 0.55868953 0.55868953 0.55868953 0.55868953 0.55868953\n",
            " 0.55868953 0.5698796  0.5790594  0.60866095 0.62083416 0.59688685\n",
            " 0.54027805 0.46836959 0.52065456 0.51659682 0.43843544 0.44774829\n",
            " 0.43510943 0.38089536 0.85777955 0.92656156 0.96873545 0.92057474\n",
            " 0.88864498 0.90959888 0.86962017 0.24073705 0.2638196  0.29548327\n",
            " 0.55868953 0.55868953 0.55868953 0.55868953 0.55868953 0.55868953\n",
            " 0.55868953 0.29767844 0.30885385 0.39087341 0.45180603 0.60859443\n",
            " 0.63593428 0.64983703 0.66433846 0.66473758 0.63812945 0.53575467\n",
            " 0.56202948 0.56276476 0.56335896 0.56381494 0.56415027 0.56438756\n",
            " 0.56454939 0.56465513 0.56472129 0.56476009]\n",
            "10 day output [[0.5647811]]\n",
            "11 day input [0.88950975 0.91372314 0.92463248 0.89203752 0.79119271 0.51014435\n",
            " 0.53741768 0.50422404 0.5132708  0.54666401 0.55868953 0.55868953\n",
            " 0.55868953 0.55868953 0.55868953 0.55868953 0.55868953 0.54779485\n",
            " 0.48646311 0.78028338 0.70943923 0.61704251 0.74935143 0.72267678\n",
            " 0.74037118 0.73072574 0.10995809 0.11408235 0.09326149 0.08660946\n",
            " 0.07164239 0.08654294 0.14182133 0.30825517 0.34364398 0.37397725\n",
            " 0.31304464 0.30107098 0.28816603 0.23149072 0.52464578 0.55868953\n",
            " 0.55868953 0.55868953 0.55868953 0.55868953 0.55868953 0.55868953\n",
            " 0.5698796  0.5790594  0.60866095 0.62083416 0.59688685 0.54027805\n",
            " 0.46836959 0.52065456 0.51659682 0.43843544 0.44774829 0.43510943\n",
            " 0.38089536 0.85777955 0.92656156 0.96873545 0.92057474 0.88864498\n",
            " 0.90959888 0.86962017 0.24073705 0.2638196  0.29548327 0.55868953\n",
            " 0.55868953 0.55868953 0.55868953 0.55868953 0.55868953 0.55868953\n",
            " 0.29767844 0.30885385 0.39087341 0.45180603 0.60859443 0.63593428\n",
            " 0.64983703 0.66433846 0.66473758 0.63812945 0.53575467 0.56202948\n",
            " 0.56276476 0.56335896 0.56381494 0.56415027 0.56438756 0.56454939\n",
            " 0.56465513 0.56472129 0.56476009 0.56478113]\n",
            "11 day output [[0.5647907]]\n",
            "12 day input [0.91372314 0.92463248 0.89203752 0.79119271 0.51014435 0.53741768\n",
            " 0.50422404 0.5132708  0.54666401 0.55868953 0.55868953 0.55868953\n",
            " 0.55868953 0.55868953 0.55868953 0.55868953 0.54779485 0.48646311\n",
            " 0.78028338 0.70943923 0.61704251 0.74935143 0.72267678 0.74037118\n",
            " 0.73072574 0.10995809 0.11408235 0.09326149 0.08660946 0.07164239\n",
            " 0.08654294 0.14182133 0.30825517 0.34364398 0.37397725 0.31304464\n",
            " 0.30107098 0.28816603 0.23149072 0.52464578 0.55868953 0.55868953\n",
            " 0.55868953 0.55868953 0.55868953 0.55868953 0.55868953 0.5698796\n",
            " 0.5790594  0.60866095 0.62083416 0.59688685 0.54027805 0.46836959\n",
            " 0.52065456 0.51659682 0.43843544 0.44774829 0.43510943 0.38089536\n",
            " 0.85777955 0.92656156 0.96873545 0.92057474 0.88864498 0.90959888\n",
            " 0.86962017 0.24073705 0.2638196  0.29548327 0.55868953 0.55868953\n",
            " 0.55868953 0.55868953 0.55868953 0.55868953 0.55868953 0.29767844\n",
            " 0.30885385 0.39087341 0.45180603 0.60859443 0.63593428 0.64983703\n",
            " 0.66433846 0.66473758 0.63812945 0.53575467 0.56202948 0.56276476\n",
            " 0.56335896 0.56381494 0.56415027 0.56438756 0.56454939 0.56465513\n",
            " 0.56472129 0.56476009 0.56478113 0.56479073]\n",
            "12 day output [[0.56479406]]\n",
            "13 day input [0.92463248 0.89203752 0.79119271 0.51014435 0.53741768 0.50422404\n",
            " 0.5132708  0.54666401 0.55868953 0.55868953 0.55868953 0.55868953\n",
            " 0.55868953 0.55868953 0.55868953 0.54779485 0.48646311 0.78028338\n",
            " 0.70943923 0.61704251 0.74935143 0.72267678 0.74037118 0.73072574\n",
            " 0.10995809 0.11408235 0.09326149 0.08660946 0.07164239 0.08654294\n",
            " 0.14182133 0.30825517 0.34364398 0.37397725 0.31304464 0.30107098\n",
            " 0.28816603 0.23149072 0.52464578 0.55868953 0.55868953 0.55868953\n",
            " 0.55868953 0.55868953 0.55868953 0.55868953 0.5698796  0.5790594\n",
            " 0.60866095 0.62083416 0.59688685 0.54027805 0.46836959 0.52065456\n",
            " 0.51659682 0.43843544 0.44774829 0.43510943 0.38089536 0.85777955\n",
            " 0.92656156 0.96873545 0.92057474 0.88864498 0.90959888 0.86962017\n",
            " 0.24073705 0.2638196  0.29548327 0.55868953 0.55868953 0.55868953\n",
            " 0.55868953 0.55868953 0.55868953 0.55868953 0.29767844 0.30885385\n",
            " 0.39087341 0.45180603 0.60859443 0.63593428 0.64983703 0.66433846\n",
            " 0.66473758 0.63812945 0.53575467 0.56202948 0.56276476 0.56335896\n",
            " 0.56381494 0.56415027 0.56438756 0.56454939 0.56465513 0.56472129\n",
            " 0.56476009 0.56478113 0.56479073 0.56479406]\n",
            "13 day output [[0.5647938]]\n",
            "14 day input [0.89203752 0.79119271 0.51014435 0.53741768 0.50422404 0.5132708\n",
            " 0.54666401 0.55868953 0.55868953 0.55868953 0.55868953 0.55868953\n",
            " 0.55868953 0.55868953 0.54779485 0.48646311 0.78028338 0.70943923\n",
            " 0.61704251 0.74935143 0.72267678 0.74037118 0.73072574 0.10995809\n",
            " 0.11408235 0.09326149 0.08660946 0.07164239 0.08654294 0.14182133\n",
            " 0.30825517 0.34364398 0.37397725 0.31304464 0.30107098 0.28816603\n",
            " 0.23149072 0.52464578 0.55868953 0.55868953 0.55868953 0.55868953\n",
            " 0.55868953 0.55868953 0.55868953 0.5698796  0.5790594  0.60866095\n",
            " 0.62083416 0.59688685 0.54027805 0.46836959 0.52065456 0.51659682\n",
            " 0.43843544 0.44774829 0.43510943 0.38089536 0.85777955 0.92656156\n",
            " 0.96873545 0.92057474 0.88864498 0.90959888 0.86962017 0.24073705\n",
            " 0.2638196  0.29548327 0.55868953 0.55868953 0.55868953 0.55868953\n",
            " 0.55868953 0.55868953 0.55868953 0.29767844 0.30885385 0.39087341\n",
            " 0.45180603 0.60859443 0.63593428 0.64983703 0.66433846 0.66473758\n",
            " 0.63812945 0.53575467 0.56202948 0.56276476 0.56335896 0.56381494\n",
            " 0.56415027 0.56438756 0.56454939 0.56465513 0.56472129 0.56476009\n",
            " 0.56478113 0.56479073 0.56479406 0.56479383]\n",
            "14 day output [[0.5647921]]\n",
            "15 day input [0.79119271 0.51014435 0.53741768 0.50422404 0.5132708  0.54666401\n",
            " 0.55868953 0.55868953 0.55868953 0.55868953 0.55868953 0.55868953\n",
            " 0.55868953 0.54779485 0.48646311 0.78028338 0.70943923 0.61704251\n",
            " 0.74935143 0.72267678 0.74037118 0.73072574 0.10995809 0.11408235\n",
            " 0.09326149 0.08660946 0.07164239 0.08654294 0.14182133 0.30825517\n",
            " 0.34364398 0.37397725 0.31304464 0.30107098 0.28816603 0.23149072\n",
            " 0.52464578 0.55868953 0.55868953 0.55868953 0.55868953 0.55868953\n",
            " 0.55868953 0.55868953 0.5698796  0.5790594  0.60866095 0.62083416\n",
            " 0.59688685 0.54027805 0.46836959 0.52065456 0.51659682 0.43843544\n",
            " 0.44774829 0.43510943 0.38089536 0.85777955 0.92656156 0.96873545\n",
            " 0.92057474 0.88864498 0.90959888 0.86962017 0.24073705 0.2638196\n",
            " 0.29548327 0.55868953 0.55868953 0.55868953 0.55868953 0.55868953\n",
            " 0.55868953 0.55868953 0.29767844 0.30885385 0.39087341 0.45180603\n",
            " 0.60859443 0.63593428 0.64983703 0.66433846 0.66473758 0.63812945\n",
            " 0.53575467 0.56202948 0.56276476 0.56335896 0.56381494 0.56415027\n",
            " 0.56438756 0.56454939 0.56465513 0.56472129 0.56476009 0.56478113\n",
            " 0.56479073 0.56479406 0.56479383 0.5647921 ]\n",
            "15 day output [[0.5647901]]\n",
            "16 day input [0.51014435 0.53741768 0.50422404 0.5132708  0.54666401 0.55868953\n",
            " 0.55868953 0.55868953 0.55868953 0.55868953 0.55868953 0.55868953\n",
            " 0.54779485 0.48646311 0.78028338 0.70943923 0.61704251 0.74935143\n",
            " 0.72267678 0.74037118 0.73072574 0.10995809 0.11408235 0.09326149\n",
            " 0.08660946 0.07164239 0.08654294 0.14182133 0.30825517 0.34364398\n",
            " 0.37397725 0.31304464 0.30107098 0.28816603 0.23149072 0.52464578\n",
            " 0.55868953 0.55868953 0.55868953 0.55868953 0.55868953 0.55868953\n",
            " 0.55868953 0.5698796  0.5790594  0.60866095 0.62083416 0.59688685\n",
            " 0.54027805 0.46836959 0.52065456 0.51659682 0.43843544 0.44774829\n",
            " 0.43510943 0.38089536 0.85777955 0.92656156 0.96873545 0.92057474\n",
            " 0.88864498 0.90959888 0.86962017 0.24073705 0.2638196  0.29548327\n",
            " 0.55868953 0.55868953 0.55868953 0.55868953 0.55868953 0.55868953\n",
            " 0.55868953 0.29767844 0.30885385 0.39087341 0.45180603 0.60859443\n",
            " 0.63593428 0.64983703 0.66433846 0.66473758 0.63812945 0.53575467\n",
            " 0.56202948 0.56276476 0.56335896 0.56381494 0.56415027 0.56438756\n",
            " 0.56454939 0.56465513 0.56472129 0.56476009 0.56478113 0.56479073\n",
            " 0.56479406 0.56479383 0.5647921  0.56479013]\n",
            "16 day output [[0.5647882]]\n",
            "17 day input [0.53741768 0.50422404 0.5132708  0.54666401 0.55868953 0.55868953\n",
            " 0.55868953 0.55868953 0.55868953 0.55868953 0.55868953 0.54779485\n",
            " 0.48646311 0.78028338 0.70943923 0.61704251 0.74935143 0.72267678\n",
            " 0.74037118 0.73072574 0.10995809 0.11408235 0.09326149 0.08660946\n",
            " 0.07164239 0.08654294 0.14182133 0.30825517 0.34364398 0.37397725\n",
            " 0.31304464 0.30107098 0.28816603 0.23149072 0.52464578 0.55868953\n",
            " 0.55868953 0.55868953 0.55868953 0.55868953 0.55868953 0.55868953\n",
            " 0.5698796  0.5790594  0.60866095 0.62083416 0.59688685 0.54027805\n",
            " 0.46836959 0.52065456 0.51659682 0.43843544 0.44774829 0.43510943\n",
            " 0.38089536 0.85777955 0.92656156 0.96873545 0.92057474 0.88864498\n",
            " 0.90959888 0.86962017 0.24073705 0.2638196  0.29548327 0.55868953\n",
            " 0.55868953 0.55868953 0.55868953 0.55868953 0.55868953 0.55868953\n",
            " 0.29767844 0.30885385 0.39087341 0.45180603 0.60859443 0.63593428\n",
            " 0.64983703 0.66433846 0.66473758 0.63812945 0.53575467 0.56202948\n",
            " 0.56276476 0.56335896 0.56381494 0.56415027 0.56438756 0.56454939\n",
            " 0.56465513 0.56472129 0.56476009 0.56478113 0.56479073 0.56479406\n",
            " 0.56479383 0.5647921  0.56479013 0.56478822]\n",
            "17 day output [[0.564787]]\n",
            "18 day input [0.50422404 0.5132708  0.54666401 0.55868953 0.55868953 0.55868953\n",
            " 0.55868953 0.55868953 0.55868953 0.55868953 0.54779485 0.48646311\n",
            " 0.78028338 0.70943923 0.61704251 0.74935143 0.72267678 0.74037118\n",
            " 0.73072574 0.10995809 0.11408235 0.09326149 0.08660946 0.07164239\n",
            " 0.08654294 0.14182133 0.30825517 0.34364398 0.37397725 0.31304464\n",
            " 0.30107098 0.28816603 0.23149072 0.52464578 0.55868953 0.55868953\n",
            " 0.55868953 0.55868953 0.55868953 0.55868953 0.55868953 0.5698796\n",
            " 0.5790594  0.60866095 0.62083416 0.59688685 0.54027805 0.46836959\n",
            " 0.52065456 0.51659682 0.43843544 0.44774829 0.43510943 0.38089536\n",
            " 0.85777955 0.92656156 0.96873545 0.92057474 0.88864498 0.90959888\n",
            " 0.86962017 0.24073705 0.2638196  0.29548327 0.55868953 0.55868953\n",
            " 0.55868953 0.55868953 0.55868953 0.55868953 0.55868953 0.29767844\n",
            " 0.30885385 0.39087341 0.45180603 0.60859443 0.63593428 0.64983703\n",
            " 0.66433846 0.66473758 0.63812945 0.53575467 0.56202948 0.56276476\n",
            " 0.56335896 0.56381494 0.56415027 0.56438756 0.56454939 0.56465513\n",
            " 0.56472129 0.56476009 0.56478113 0.56479073 0.56479406 0.56479383\n",
            " 0.5647921  0.56479013 0.56478822 0.56478697]\n",
            "18 day output [[0.5647863]]\n",
            "19 day input [0.5132708  0.54666401 0.55868953 0.55868953 0.55868953 0.55868953\n",
            " 0.55868953 0.55868953 0.55868953 0.54779485 0.48646311 0.78028338\n",
            " 0.70943923 0.61704251 0.74935143 0.72267678 0.74037118 0.73072574\n",
            " 0.10995809 0.11408235 0.09326149 0.08660946 0.07164239 0.08654294\n",
            " 0.14182133 0.30825517 0.34364398 0.37397725 0.31304464 0.30107098\n",
            " 0.28816603 0.23149072 0.52464578 0.55868953 0.55868953 0.55868953\n",
            " 0.55868953 0.55868953 0.55868953 0.55868953 0.5698796  0.5790594\n",
            " 0.60866095 0.62083416 0.59688685 0.54027805 0.46836959 0.52065456\n",
            " 0.51659682 0.43843544 0.44774829 0.43510943 0.38089536 0.85777955\n",
            " 0.92656156 0.96873545 0.92057474 0.88864498 0.90959888 0.86962017\n",
            " 0.24073705 0.2638196  0.29548327 0.55868953 0.55868953 0.55868953\n",
            " 0.55868953 0.55868953 0.55868953 0.55868953 0.29767844 0.30885385\n",
            " 0.39087341 0.45180603 0.60859443 0.63593428 0.64983703 0.66433846\n",
            " 0.66473758 0.63812945 0.53575467 0.56202948 0.56276476 0.56335896\n",
            " 0.56381494 0.56415027 0.56438756 0.56454939 0.56465513 0.56472129\n",
            " 0.56476009 0.56478113 0.56479073 0.56479406 0.56479383 0.5647921\n",
            " 0.56479013 0.56478822 0.56478697 0.56478631]\n",
            "19 day output [[0.5647862]]\n",
            "20 day input [0.54666401 0.55868953 0.55868953 0.55868953 0.55868953 0.55868953\n",
            " 0.55868953 0.55868953 0.54779485 0.48646311 0.78028338 0.70943923\n",
            " 0.61704251 0.74935143 0.72267678 0.74037118 0.73072574 0.10995809\n",
            " 0.11408235 0.09326149 0.08660946 0.07164239 0.08654294 0.14182133\n",
            " 0.30825517 0.34364398 0.37397725 0.31304464 0.30107098 0.28816603\n",
            " 0.23149072 0.52464578 0.55868953 0.55868953 0.55868953 0.55868953\n",
            " 0.55868953 0.55868953 0.55868953 0.5698796  0.5790594  0.60866095\n",
            " 0.62083416 0.59688685 0.54027805 0.46836959 0.52065456 0.51659682\n",
            " 0.43843544 0.44774829 0.43510943 0.38089536 0.85777955 0.92656156\n",
            " 0.96873545 0.92057474 0.88864498 0.90959888 0.86962017 0.24073705\n",
            " 0.2638196  0.29548327 0.55868953 0.55868953 0.55868953 0.55868953\n",
            " 0.55868953 0.55868953 0.55868953 0.29767844 0.30885385 0.39087341\n",
            " 0.45180603 0.60859443 0.63593428 0.64983703 0.66433846 0.66473758\n",
            " 0.63812945 0.53575467 0.56202948 0.56276476 0.56335896 0.56381494\n",
            " 0.56415027 0.56438756 0.56454939 0.56465513 0.56472129 0.56476009\n",
            " 0.56478113 0.56479073 0.56479406 0.56479383 0.5647921  0.56479013\n",
            " 0.56478822 0.56478697 0.56478631 0.5647862 ]\n",
            "20 day output [[0.5647865]]\n",
            "21 day input [0.55868953 0.55868953 0.55868953 0.55868953 0.55868953 0.55868953\n",
            " 0.55868953 0.54779485 0.48646311 0.78028338 0.70943923 0.61704251\n",
            " 0.74935143 0.72267678 0.74037118 0.73072574 0.10995809 0.11408235\n",
            " 0.09326149 0.08660946 0.07164239 0.08654294 0.14182133 0.30825517\n",
            " 0.34364398 0.37397725 0.31304464 0.30107098 0.28816603 0.23149072\n",
            " 0.52464578 0.55868953 0.55868953 0.55868953 0.55868953 0.55868953\n",
            " 0.55868953 0.55868953 0.5698796  0.5790594  0.60866095 0.62083416\n",
            " 0.59688685 0.54027805 0.46836959 0.52065456 0.51659682 0.43843544\n",
            " 0.44774829 0.43510943 0.38089536 0.85777955 0.92656156 0.96873545\n",
            " 0.92057474 0.88864498 0.90959888 0.86962017 0.24073705 0.2638196\n",
            " 0.29548327 0.55868953 0.55868953 0.55868953 0.55868953 0.55868953\n",
            " 0.55868953 0.55868953 0.29767844 0.30885385 0.39087341 0.45180603\n",
            " 0.60859443 0.63593428 0.64983703 0.66433846 0.66473758 0.63812945\n",
            " 0.53575467 0.56202948 0.56276476 0.56335896 0.56381494 0.56415027\n",
            " 0.56438756 0.56454939 0.56465513 0.56472129 0.56476009 0.56478113\n",
            " 0.56479073 0.56479406 0.56479383 0.5647921  0.56479013 0.56478822\n",
            " 0.56478697 0.56478631 0.5647862  0.56478649]\n",
            "21 day output [[0.5647872]]\n",
            "22 day input [0.55868953 0.55868953 0.55868953 0.55868953 0.55868953 0.55868953\n",
            " 0.54779485 0.48646311 0.78028338 0.70943923 0.61704251 0.74935143\n",
            " 0.72267678 0.74037118 0.73072574 0.10995809 0.11408235 0.09326149\n",
            " 0.08660946 0.07164239 0.08654294 0.14182133 0.30825517 0.34364398\n",
            " 0.37397725 0.31304464 0.30107098 0.28816603 0.23149072 0.52464578\n",
            " 0.55868953 0.55868953 0.55868953 0.55868953 0.55868953 0.55868953\n",
            " 0.55868953 0.5698796  0.5790594  0.60866095 0.62083416 0.59688685\n",
            " 0.54027805 0.46836959 0.52065456 0.51659682 0.43843544 0.44774829\n",
            " 0.43510943 0.38089536 0.85777955 0.92656156 0.96873545 0.92057474\n",
            " 0.88864498 0.90959888 0.86962017 0.24073705 0.2638196  0.29548327\n",
            " 0.55868953 0.55868953 0.55868953 0.55868953 0.55868953 0.55868953\n",
            " 0.55868953 0.29767844 0.30885385 0.39087341 0.45180603 0.60859443\n",
            " 0.63593428 0.64983703 0.66433846 0.66473758 0.63812945 0.53575467\n",
            " 0.56202948 0.56276476 0.56335896 0.56381494 0.56415027 0.56438756\n",
            " 0.56454939 0.56465513 0.56472129 0.56476009 0.56478113 0.56479073\n",
            " 0.56479406 0.56479383 0.5647921  0.56479013 0.56478822 0.56478697\n",
            " 0.56478631 0.5647862  0.56478649 0.56478721]\n",
            "22 day output [[0.56478804]]\n",
            "23 day input [0.55868953 0.55868953 0.55868953 0.55868953 0.55868953 0.54779485\n",
            " 0.48646311 0.78028338 0.70943923 0.61704251 0.74935143 0.72267678\n",
            " 0.74037118 0.73072574 0.10995809 0.11408235 0.09326149 0.08660946\n",
            " 0.07164239 0.08654294 0.14182133 0.30825517 0.34364398 0.37397725\n",
            " 0.31304464 0.30107098 0.28816603 0.23149072 0.52464578 0.55868953\n",
            " 0.55868953 0.55868953 0.55868953 0.55868953 0.55868953 0.55868953\n",
            " 0.5698796  0.5790594  0.60866095 0.62083416 0.59688685 0.54027805\n",
            " 0.46836959 0.52065456 0.51659682 0.43843544 0.44774829 0.43510943\n",
            " 0.38089536 0.85777955 0.92656156 0.96873545 0.92057474 0.88864498\n",
            " 0.90959888 0.86962017 0.24073705 0.2638196  0.29548327 0.55868953\n",
            " 0.55868953 0.55868953 0.55868953 0.55868953 0.55868953 0.55868953\n",
            " 0.29767844 0.30885385 0.39087341 0.45180603 0.60859443 0.63593428\n",
            " 0.64983703 0.66433846 0.66473758 0.63812945 0.53575467 0.56202948\n",
            " 0.56276476 0.56335896 0.56381494 0.56415027 0.56438756 0.56454939\n",
            " 0.56465513 0.56472129 0.56476009 0.56478113 0.56479073 0.56479406\n",
            " 0.56479383 0.5647921  0.56479013 0.56478822 0.56478697 0.56478631\n",
            " 0.5647862  0.56478649 0.56478721 0.56478804]\n",
            "23 day output [[0.56478906]]\n",
            "24 day input [0.55868953 0.55868953 0.55868953 0.55868953 0.54779485 0.48646311\n",
            " 0.78028338 0.70943923 0.61704251 0.74935143 0.72267678 0.74037118\n",
            " 0.73072574 0.10995809 0.11408235 0.09326149 0.08660946 0.07164239\n",
            " 0.08654294 0.14182133 0.30825517 0.34364398 0.37397725 0.31304464\n",
            " 0.30107098 0.28816603 0.23149072 0.52464578 0.55868953 0.55868953\n",
            " 0.55868953 0.55868953 0.55868953 0.55868953 0.55868953 0.5698796\n",
            " 0.5790594  0.60866095 0.62083416 0.59688685 0.54027805 0.46836959\n",
            " 0.52065456 0.51659682 0.43843544 0.44774829 0.43510943 0.38089536\n",
            " 0.85777955 0.92656156 0.96873545 0.92057474 0.88864498 0.90959888\n",
            " 0.86962017 0.24073705 0.2638196  0.29548327 0.55868953 0.55868953\n",
            " 0.55868953 0.55868953 0.55868953 0.55868953 0.55868953 0.29767844\n",
            " 0.30885385 0.39087341 0.45180603 0.60859443 0.63593428 0.64983703\n",
            " 0.66433846 0.66473758 0.63812945 0.53575467 0.56202948 0.56276476\n",
            " 0.56335896 0.56381494 0.56415027 0.56438756 0.56454939 0.56465513\n",
            " 0.56472129 0.56476009 0.56478113 0.56479073 0.56479406 0.56479383\n",
            " 0.5647921  0.56479013 0.56478822 0.56478697 0.56478631 0.5647862\n",
            " 0.56478649 0.56478721 0.56478804 0.56478906]\n",
            "24 day output [[0.56478995]]\n",
            "25 day input [0.55868953 0.55868953 0.55868953 0.54779485 0.48646311 0.78028338\n",
            " 0.70943923 0.61704251 0.74935143 0.72267678 0.74037118 0.73072574\n",
            " 0.10995809 0.11408235 0.09326149 0.08660946 0.07164239 0.08654294\n",
            " 0.14182133 0.30825517 0.34364398 0.37397725 0.31304464 0.30107098\n",
            " 0.28816603 0.23149072 0.52464578 0.55868953 0.55868953 0.55868953\n",
            " 0.55868953 0.55868953 0.55868953 0.55868953 0.5698796  0.5790594\n",
            " 0.60866095 0.62083416 0.59688685 0.54027805 0.46836959 0.52065456\n",
            " 0.51659682 0.43843544 0.44774829 0.43510943 0.38089536 0.85777955\n",
            " 0.92656156 0.96873545 0.92057474 0.88864498 0.90959888 0.86962017\n",
            " 0.24073705 0.2638196  0.29548327 0.55868953 0.55868953 0.55868953\n",
            " 0.55868953 0.55868953 0.55868953 0.55868953 0.29767844 0.30885385\n",
            " 0.39087341 0.45180603 0.60859443 0.63593428 0.64983703 0.66433846\n",
            " 0.66473758 0.63812945 0.53575467 0.56202948 0.56276476 0.56335896\n",
            " 0.56381494 0.56415027 0.56438756 0.56454939 0.56465513 0.56472129\n",
            " 0.56476009 0.56478113 0.56479073 0.56479406 0.56479383 0.5647921\n",
            " 0.56479013 0.56478822 0.56478697 0.56478631 0.5647862  0.56478649\n",
            " 0.56478721 0.56478804 0.56478906 0.56478995]\n",
            "25 day output [[0.56479084]]\n",
            "26 day input [0.55868953 0.55868953 0.54779485 0.48646311 0.78028338 0.70943923\n",
            " 0.61704251 0.74935143 0.72267678 0.74037118 0.73072574 0.10995809\n",
            " 0.11408235 0.09326149 0.08660946 0.07164239 0.08654294 0.14182133\n",
            " 0.30825517 0.34364398 0.37397725 0.31304464 0.30107098 0.28816603\n",
            " 0.23149072 0.52464578 0.55868953 0.55868953 0.55868953 0.55868953\n",
            " 0.55868953 0.55868953 0.55868953 0.5698796  0.5790594  0.60866095\n",
            " 0.62083416 0.59688685 0.54027805 0.46836959 0.52065456 0.51659682\n",
            " 0.43843544 0.44774829 0.43510943 0.38089536 0.85777955 0.92656156\n",
            " 0.96873545 0.92057474 0.88864498 0.90959888 0.86962017 0.24073705\n",
            " 0.2638196  0.29548327 0.55868953 0.55868953 0.55868953 0.55868953\n",
            " 0.55868953 0.55868953 0.55868953 0.29767844 0.30885385 0.39087341\n",
            " 0.45180603 0.60859443 0.63593428 0.64983703 0.66433846 0.66473758\n",
            " 0.63812945 0.53575467 0.56202948 0.56276476 0.56335896 0.56381494\n",
            " 0.56415027 0.56438756 0.56454939 0.56465513 0.56472129 0.56476009\n",
            " 0.56478113 0.56479073 0.56479406 0.56479383 0.5647921  0.56479013\n",
            " 0.56478822 0.56478697 0.56478631 0.5647862  0.56478649 0.56478721\n",
            " 0.56478804 0.56478906 0.56478995 0.56479084]\n",
            "26 day output [[0.56479156]]\n",
            "27 day input [0.55868953 0.54779485 0.48646311 0.78028338 0.70943923 0.61704251\n",
            " 0.74935143 0.72267678 0.74037118 0.73072574 0.10995809 0.11408235\n",
            " 0.09326149 0.08660946 0.07164239 0.08654294 0.14182133 0.30825517\n",
            " 0.34364398 0.37397725 0.31304464 0.30107098 0.28816603 0.23149072\n",
            " 0.52464578 0.55868953 0.55868953 0.55868953 0.55868953 0.55868953\n",
            " 0.55868953 0.55868953 0.5698796  0.5790594  0.60866095 0.62083416\n",
            " 0.59688685 0.54027805 0.46836959 0.52065456 0.51659682 0.43843544\n",
            " 0.44774829 0.43510943 0.38089536 0.85777955 0.92656156 0.96873545\n",
            " 0.92057474 0.88864498 0.90959888 0.86962017 0.24073705 0.2638196\n",
            " 0.29548327 0.55868953 0.55868953 0.55868953 0.55868953 0.55868953\n",
            " 0.55868953 0.55868953 0.29767844 0.30885385 0.39087341 0.45180603\n",
            " 0.60859443 0.63593428 0.64983703 0.66433846 0.66473758 0.63812945\n",
            " 0.53575467 0.56202948 0.56276476 0.56335896 0.56381494 0.56415027\n",
            " 0.56438756 0.56454939 0.56465513 0.56472129 0.56476009 0.56478113\n",
            " 0.56479073 0.56479406 0.56479383 0.5647921  0.56479013 0.56478822\n",
            " 0.56478697 0.56478631 0.5647862  0.56478649 0.56478721 0.56478804\n",
            " 0.56478906 0.56478995 0.56479084 0.56479156]\n",
            "27 day output [[0.5647923]]\n",
            "28 day input [0.54779485 0.48646311 0.78028338 0.70943923 0.61704251 0.74935143\n",
            " 0.72267678 0.74037118 0.73072574 0.10995809 0.11408235 0.09326149\n",
            " 0.08660946 0.07164239 0.08654294 0.14182133 0.30825517 0.34364398\n",
            " 0.37397725 0.31304464 0.30107098 0.28816603 0.23149072 0.52464578\n",
            " 0.55868953 0.55868953 0.55868953 0.55868953 0.55868953 0.55868953\n",
            " 0.55868953 0.5698796  0.5790594  0.60866095 0.62083416 0.59688685\n",
            " 0.54027805 0.46836959 0.52065456 0.51659682 0.43843544 0.44774829\n",
            " 0.43510943 0.38089536 0.85777955 0.92656156 0.96873545 0.92057474\n",
            " 0.88864498 0.90959888 0.86962017 0.24073705 0.2638196  0.29548327\n",
            " 0.55868953 0.55868953 0.55868953 0.55868953 0.55868953 0.55868953\n",
            " 0.55868953 0.29767844 0.30885385 0.39087341 0.45180603 0.60859443\n",
            " 0.63593428 0.64983703 0.66433846 0.66473758 0.63812945 0.53575467\n",
            " 0.56202948 0.56276476 0.56335896 0.56381494 0.56415027 0.56438756\n",
            " 0.56454939 0.56465513 0.56472129 0.56476009 0.56478113 0.56479073\n",
            " 0.56479406 0.56479383 0.5647921  0.56479013 0.56478822 0.56478697\n",
            " 0.56478631 0.5647862  0.56478649 0.56478721 0.56478804 0.56478906\n",
            " 0.56478995 0.56479084 0.56479156 0.56479228]\n",
            "28 day output [[0.5647928]]\n",
            "29 day input [0.48646311 0.78028338 0.70943923 0.61704251 0.74935143 0.72267678\n",
            " 0.74037118 0.73072574 0.10995809 0.11408235 0.09326149 0.08660946\n",
            " 0.07164239 0.08654294 0.14182133 0.30825517 0.34364398 0.37397725\n",
            " 0.31304464 0.30107098 0.28816603 0.23149072 0.52464578 0.55868953\n",
            " 0.55868953 0.55868953 0.55868953 0.55868953 0.55868953 0.55868953\n",
            " 0.5698796  0.5790594  0.60866095 0.62083416 0.59688685 0.54027805\n",
            " 0.46836959 0.52065456 0.51659682 0.43843544 0.44774829 0.43510943\n",
            " 0.38089536 0.85777955 0.92656156 0.96873545 0.92057474 0.88864498\n",
            " 0.90959888 0.86962017 0.24073705 0.2638196  0.29548327 0.55868953\n",
            " 0.55868953 0.55868953 0.55868953 0.55868953 0.55868953 0.55868953\n",
            " 0.29767844 0.30885385 0.39087341 0.45180603 0.60859443 0.63593428\n",
            " 0.64983703 0.66433846 0.66473758 0.63812945 0.53575467 0.56202948\n",
            " 0.56276476 0.56335896 0.56381494 0.56415027 0.56438756 0.56454939\n",
            " 0.56465513 0.56472129 0.56476009 0.56478113 0.56479073 0.56479406\n",
            " 0.56479383 0.5647921  0.56479013 0.56478822 0.56478697 0.56478631\n",
            " 0.5647862  0.56478649 0.56478721 0.56478804 0.56478906 0.56478995\n",
            " 0.56479084 0.56479156 0.56479228 0.56479281]\n",
            "29 day output [[0.5647933]]\n",
            "[[0.5620294809341431], [0.5627647638320923], [0.5633589625358582], [0.5638149380683899], [0.5641502737998962], [0.5643875598907471], [0.5645493865013123], [0.5646551251411438], [0.5647212862968445], [0.5647600889205933], [0.564781129360199], [0.5647907257080078], [0.5647940635681152], [0.5647938251495361], [0.5647920966148376], [0.5647901296615601], [0.5647882223129272], [0.564786970615387], [0.5647863149642944], [0.5647861957550049], [0.5647864937782288], [0.5647872090339661], [0.5647880434989929], [0.5647890567779541], [0.5647899508476257], [0.5647908449172974], [0.5647915601730347], [0.564792275428772], [0.564792811870575], [0.5647932887077332]]\n"
          ]
        }
      ]
    },
    {
      "cell_type": "code",
      "metadata": {
        "id": "F0zPHsU1gCwy"
      },
      "source": [
        "day_new=np.arange(1,101)\n",
        "day_pred=np.arange(101,131)    #101,131"
      ],
      "execution_count": null,
      "outputs": []
    },
    {
      "cell_type": "code",
      "metadata": {
        "colab": {
          "base_uri": "https://localhost:8080/"
        },
        "id": "NMpIgbIngJbl",
        "outputId": "898f812d-5ee3-4449-af5d-9445a8024abe"
      },
      "source": [
        "import matplotlib.pyplot as plt\n",
        "len(df1)"
      ],
      "execution_count": null,
      "outputs": [
        {
          "output_type": "execute_result",
          "data": {
            "text/plain": [
              "509"
            ]
          },
          "metadata": {},
          "execution_count": 38
        }
      ]
    },
    {
      "cell_type": "code",
      "metadata": {
        "colab": {
          "base_uri": "https://localhost:8080/",
          "height": 282
        },
        "id": "p2qaBSPegJUC",
        "outputId": "96e0aa72-0033-41ef-e359-d33de1f28c58"
      },
      "source": [
        "plt.plot(day_new,scaler.inverse_transform(df1[409:]))\n",
        "plt.plot(day_pred,scaler.inverse_transform(lst_output))"
      ],
      "execution_count": null,
      "outputs": [
        {
          "output_type": "execute_result",
          "data": {
            "text/plain": [
              "[<matplotlib.lines.Line2D at 0x7f8ea078b550>]"
            ]
          },
          "metadata": {},
          "execution_count": 39
        },
        {
          "output_type": "display_data",
          "data": {
            "image/png": "[encoded data removed]",
            "text/plain": [
              "<Figure size 432x288 with 1 Axes>"
            ]
          },
          "metadata": {
            "needs_background": "light"
          }
        }
      ]
    },
    {
      "cell_type": "code",
      "metadata": {
        "colab": {
          "base_uri": "https://localhost:8080/",
          "height": 282
        },
        "id": "vskZX8KagPwN",
        "outputId": "2913aa7c-20af-421f-d23e-7ae427c7f3ec"
      },
      "source": [
        "df3=df1.tolist()\n",
        "df3.extend(lst_output)\n",
        "plt.plot(df3[300:])"
      ],
      "execution_count": null,
      "outputs": [
        {
          "output_type": "execute_result",
          "data": {
            "text/plain": [
              "[<matplotlib.lines.Line2D at 0x7f8ea079db10>]"
            ]
          },
          "metadata": {},
          "execution_count": 40
        },
        {
          "output_type": "display_data",
          "data": {
            "image/png": "[encoded data removed]",
            "text/plain": [
              "<Figure size 432x288 with 1 Axes>"
            ]
          },
          "metadata": {
            "needs_background": "light"
          }
        }
      ]
    },
    {
      "cell_type": "code",
      "metadata": {
        "colab": {
          "base_uri": "https://localhost:8080/"
        },
        "id": "GHNQGXyOgS6y",
        "outputId": "8b0944e5-ffba-47b2-aa44-8fdfb5187e5c"
      },
      "source": [
        "from sklearn.metrics import mean_squared_error, r2_score, mean_absolute_error\n",
        "print('R2 Score: ', r2_score(ytest,test_predict))\n",
        "print('MAE: ', mean_absolute_error(ytest,test_predict))\n",
        "#print('R2 Score: ', r2_score(day_new,day_pred))\n",
        "#print('MAE: ', mean_absolute_error(day_new,day_pred))"
      ],
      "execution_count": null,
      "outputs": [
        {
          "output_type": "stream",
          "name": "stdout",
          "text": [
            "R2 Score:  -263342977.49737772\n",
            "MAE:  3397.1071060982567\n"
          ]
        }
      ]
    },
    {
      "cell_type": "code",
      "metadata": {
        "id": "ST2E6GDxgZY1"
      },
      "source": [
        "import numpy as np\n",
        "\n",
        "def mape(actual, pred): \n",
        "    actual, pred = np.array(actual), np.array(pred)\n",
        "    return np.mean(np.abs((actual - pred) / actual))*100"
      ],
      "execution_count": null,
      "outputs": []
    },
    {
      "cell_type": "code",
      "metadata": {
        "colab": {
          "base_uri": "https://localhost:8080/"
        },
        "id": "uBTp4MYfgdTz",
        "outputId": "0a7cdfb2-17a3-4d37-9053-5e02aa5ab413"
      },
      "source": [
        "mape(X_test,ytest)\n",
        "#mape(X_test,ytest)\n",
        "#mape(day_new,day_pred)"
      ],
      "execution_count": null,
      "outputs": [
        {
          "output_type": "execute_result",
          "data": {
            "text/plain": [
              "58.67563898801881"
            ]
          },
          "metadata": {},
          "execution_count": 43
        }
      ]
    },
    {
      "cell_type": "markdown",
      "metadata": {
        "id": "HCHXB02tgmuU"
      },
      "source": [
        "# ***SVM***"
      ]
    },
    {
      "cell_type": "code",
      "metadata": {
        "id": "1CXsXqZii1-n",
        "colab": {
          "base_uri": "https://localhost:8080/"
        },
        "outputId": "11d8ae7d-f477-46ac-df93-1b5068b9592c"
      },
      "source": [
        "X_test.shape"
      ],
      "execution_count": null,
      "outputs": [
        {
          "output_type": "execute_result",
          "data": {
            "text/plain": [
              "(78, 100, 1)"
            ]
          },
          "metadata": {},
          "execution_count": 44
        }
      ]
    },
    {
      "cell_type": "code",
      "metadata": {
        "id": "jM6CVhiii1ys"
      },
      "source": [
        "X_test=X_test.reshape(78,100*1)"
      ],
      "execution_count": null,
      "outputs": []
    },
    {
      "cell_type": "code",
      "metadata": {
        "id": "XFa5cb-Fi8t9"
      },
      "source": [
        "ytest=np.round(ytest).astype(int)"
      ],
      "execution_count": null,
      "outputs": []
    },
    {
      "cell_type": "code",
      "metadata": {
        "id": "s-A0UTS0i8i-",
        "colab": {
          "base_uri": "https://localhost:8080/"
        },
        "outputId": "2fe64452-7134-4503-d550-4791c70d9519"
      },
      "source": [
        "ytest"
      ],
      "execution_count": null,
      "outputs": [
        {
          "output_type": "execute_result",
          "data": {
            "text/plain": [
              "array([1, 1, 1, 1, 1, 1, 1, 1, 0, 1, 1, 1, 1, 1, 1, 1, 0, 0, 0, 0, 0, 0,\n",
              "       0, 0, 0, 0, 0, 0, 0, 0, 1, 1, 1, 1, 1, 1, 1, 1, 1, 1, 1, 1, 1, 1,\n",
              "       0, 1, 1, 0, 0, 0, 0, 1, 1, 1, 1, 1, 1, 1, 0, 0, 0, 1, 1, 1, 1, 1,\n",
              "       1, 1, 0, 0, 0, 0, 1, 1, 1, 1, 1, 1])"
            ]
          },
          "metadata": {},
          "execution_count": 47
        }
      ]
    },
    {
      "cell_type": "code",
      "metadata": {
        "id": "Bzy_SuJIiviF",
        "colab": {
          "base_uri": "https://localhost:8080/"
        },
        "outputId": "c5f507d2-9a8b-41bb-9eb7-d82ded848fcd"
      },
      "source": [
        "from sklearn.svm import SVC\n",
        "sv_clf = SVC(probability=True,kernel='linear')\n",
        "sv_clf.fit(X_test,ytest)\n",
        "sv_clf.score(X_test,ytest)"
      ],
      "execution_count": null,
      "outputs": [
        {
          "output_type": "execute_result",
          "data": {
            "text/plain": [
              "0.9743589743589743"
            ]
          },
          "metadata": {},
          "execution_count": 48
        }
      ]
    },
    {
      "cell_type": "code",
      "metadata": {
        "id": "vwMJ7ffmivfC"
      },
      "source": [
        "y_pred = sv_clf.predict(X_test)"
      ],
      "execution_count": null,
      "outputs": []
    },
    {
      "cell_type": "code",
      "metadata": {
        "id": "C2HITPl5ivb0",
        "colab": {
          "base_uri": "https://localhost:8080/"
        },
        "outputId": "9728c74b-b16d-492a-db0e-84eedf66d8f8"
      },
      "source": [
        "#Import scikit-learn metrics module for accuracy calculation\n",
        "from sklearn import metrics\n",
        "\n",
        "# Model Accuracy: how often is the classifier correct?\n",
        "print(\"Accuracy:\",metrics.accuracy_score(ytest, y_pred))"
      ],
      "execution_count": null,
      "outputs": [
        {
          "output_type": "stream",
          "name": "stdout",
          "text": [
            "Accuracy: 0.9743589743589743\n"
          ]
        }
      ]
    },
    {
      "cell_type": "code",
      "metadata": {
        "id": "oK3sdLW6ivYw",
        "colab": {
          "base_uri": "https://localhost:8080/"
        },
        "outputId": "1bafe512-db7b-4aad-f572-74f8f7e9afc4"
      },
      "source": [
        "from sklearn.metrics import classification_report\n",
        "\n",
        "print(classification_report(ytest,y_pred))"
      ],
      "execution_count": null,
      "outputs": [
        {
          "output_type": "stream",
          "name": "stdout",
          "text": [
            "              precision    recall  f1-score   support\n",
            "\n",
            "           0       1.00      0.93      0.96        27\n",
            "           1       0.96      1.00      0.98        51\n",
            "\n",
            "    accuracy                           0.97        78\n",
            "   macro avg       0.98      0.96      0.97        78\n",
            "weighted avg       0.98      0.97      0.97        78\n",
            "\n"
          ]
        }
      ]
    },
    {
      "cell_type": "code",
      "metadata": {
        "id": "RKbvLLczvGBl"
      },
      "source": [
        ""
      ],
      "execution_count": null,
      "outputs": []
    },
    {
      "cell_type": "code",
      "metadata": {
        "id": "WxCKCB2DvPIA",
        "colab": {
          "base_uri": "https://localhost:8080/",
          "height": 252
        },
        "outputId": "5e9d34a0-e9e0-4dfa-8d68-ddae2821b0a4"
      },
      "source": [
        ""
      ],
      "execution_count": null,
      "outputs": [
        {
          "output_type": "error",
          "ename": "ValueError",
          "evalue": "ignored",
          "traceback": [
            "\u001b[0;31m---------------------------------------------------------------------------\u001b[0m",
            "\u001b[0;31mValueError\u001b[0m                                Traceback (most recent call last)",
            "\u001b[0;32m<ipython-input-63-404ed386449c>\u001b[0m in \u001b[0;36m<module>\u001b[0;34m()\u001b[0m\n\u001b[0;32m----> 1\u001b[0;31m \u001b[0mmape\u001b[0m\u001b[0;34m(\u001b[0m\u001b[0mX_test\u001b[0m\u001b[0;34m,\u001b[0m\u001b[0mytest\u001b[0m\u001b[0;34m)\u001b[0m\u001b[0;34m\u001b[0m\u001b[0;34m\u001b[0m\u001b[0m\n\u001b[0m",
            "\u001b[0;32m<ipython-input-61-4803442fc2c2>\u001b[0m in \u001b[0;36mmape\u001b[0;34m(actual, pred)\u001b[0m\n\u001b[1;32m      3\u001b[0m \u001b[0;32mdef\u001b[0m \u001b[0mmape\u001b[0m\u001b[0;34m(\u001b[0m\u001b[0mactual\u001b[0m\u001b[0;34m,\u001b[0m \u001b[0mpred\u001b[0m\u001b[0;34m)\u001b[0m\u001b[0;34m:\u001b[0m\u001b[0;34m\u001b[0m\u001b[0;34m\u001b[0m\u001b[0m\n\u001b[1;32m      4\u001b[0m     \u001b[0mactual\u001b[0m\u001b[0;34m,\u001b[0m \u001b[0mpred\u001b[0m \u001b[0;34m=\u001b[0m \u001b[0mnp\u001b[0m\u001b[0;34m.\u001b[0m\u001b[0marray\u001b[0m\u001b[0;34m(\u001b[0m\u001b[0mactual\u001b[0m\u001b[0;34m)\u001b[0m\u001b[0;34m,\u001b[0m \u001b[0mnp\u001b[0m\u001b[0;34m.\u001b[0m\u001b[0marray\u001b[0m\u001b[0;34m(\u001b[0m\u001b[0mpred\u001b[0m\u001b[0;34m)\u001b[0m\u001b[0;34m\u001b[0m\u001b[0;34m\u001b[0m\u001b[0m\n\u001b[0;32m----> 5\u001b[0;31m     \u001b[0;32mreturn\u001b[0m \u001b[0mnp\u001b[0m\u001b[0;34m.\u001b[0m\u001b[0mmean\u001b[0m\u001b[0;34m(\u001b[0m\u001b[0mnp\u001b[0m\u001b[0;34m.\u001b[0m\u001b[0mabs\u001b[0m\u001b[0;34m(\u001b[0m\u001b[0;34m(\u001b[0m\u001b[0mactual\u001b[0m \u001b[0;34m-\u001b[0m \u001b[0mpred\u001b[0m\u001b[0;34m)\u001b[0m \u001b[0;34m/\u001b[0m \u001b[0mactual\u001b[0m\u001b[0;34m)\u001b[0m\u001b[0;34m)\u001b[0m\u001b[0;34m*\u001b[0m\u001b[0;36m100\u001b[0m\u001b[0;34m\u001b[0m\u001b[0;34m\u001b[0m\u001b[0m\n\u001b[0m",
            "\u001b[0;31mValueError\u001b[0m: operands could not be broadcast together with shapes (78,100) (78,) "
          ]
        }
      ]
    },
    {
      "cell_type": "markdown",
      "metadata": {
        "id": "t9JnuokEgrTf"
      },
      "source": [
        "\n",
        "# **DECISION TREE**"
      ]
    },
    {
      "cell_type": "code",
      "metadata": {
        "id": "UNkYlQ9z5yL1",
        "colab": {
          "base_uri": "https://localhost:8080/"
        },
        "outputId": "560813e6-38e5-4516-ce3b-16c22c983dcf"
      },
      "source": [
        "X_train.shape"
      ],
      "execution_count": null,
      "outputs": [
        {
          "output_type": "execute_result",
          "data": {
            "text/plain": [
              "(229, 100, 1)"
            ]
          },
          "metadata": {},
          "execution_count": 55
        }
      ]
    },
    {
      "cell_type": "code",
      "metadata": {
        "id": "YQLulScU5yJV"
      },
      "source": [
        "X_train= X_train.reshape(229,100*1)"
      ],
      "execution_count": null,
      "outputs": []
    },
    {
      "cell_type": "code",
      "metadata": {
        "id": "i0q1y4Xu5yGr"
      },
      "source": [
        "y_train=np.round(y_train).astype(int)"
      ],
      "execution_count": null,
      "outputs": []
    },
    {
      "cell_type": "code",
      "metadata": {
        "id": "AT3LDz7VjXAU",
        "colab": {
          "base_uri": "https://localhost:8080/"
        },
        "outputId": "eaa40fde-227e-4216-91e6-2d47155175be"
      },
      "source": [
        "from sklearn import tree\n",
        "dt_clf=tree.DecisionTreeClassifier(max_depth=5)\n",
        "dt_clf.fit(X_train,y_train)\n",
        "dt_clf.score(X_test,ytest)\n",
        "\n",
        "y_pred=dt_clf.predict(X_test)\n",
        "dt_clf.score(X_test,ytest)"
      ],
      "execution_count": null,
      "outputs": [
        {
          "output_type": "execute_result",
          "data": {
            "text/plain": [
              "0.7435897435897436"
            ]
          },
          "metadata": {},
          "execution_count": 58
        }
      ]
    },
    {
      "cell_type": "markdown",
      "metadata": {
        "id": "PEQUGL9KgrHy"
      },
      "source": [
        "# ***Build random forest classifier***"
      ]
    },
    {
      "cell_type": "code",
      "metadata": {
        "id": "YcVQrc9Sjj9b",
        "colab": {
          "base_uri": "https://localhost:8080/"
        },
        "outputId": "c3d129af-461d-4c06-c704-40caa34c47cf"
      },
      "source": [
        "from sklearn import ensemble\n",
        "rf_clf=ensemble.RandomForestClassifier(n_estimators=100)\n",
        "rf_clf.fit(X_train,y_train)\n",
        "rf_clf.score(X_test,ytest)"
      ],
      "execution_count": null,
      "outputs": [
        {
          "output_type": "execute_result",
          "data": {
            "text/plain": [
              "0.6410256410256411"
            ]
          },
          "metadata": {},
          "execution_count": 59
        }
      ]
    },
    {
      "cell_type": "markdown",
      "metadata": {
        "id": "PHfuXkLfjqz7"
      },
      "source": [
        "# ***GRADIENT BOOSTING CLASSIFIER***"
      ]
    },
    {
      "cell_type": "code",
      "metadata": {
        "id": "cHSM3BBZjj4I",
        "colab": {
          "base_uri": "https://localhost:8080/"
        },
        "outputId": "deda1b0f-b6bc-498a-ed4c-45692833d2fa"
      },
      "source": [
        "gb_clf=ensemble.GradientBoostingClassifier()\n",
        "gb_clf.fit(X_train,y_train)\n",
        "gb_clf.score(X_test,ytest)"
      ],
      "execution_count": null,
      "outputs": [
        {
          "output_type": "execute_result",
          "data": {
            "text/plain": [
              "0.717948717948718"
            ]
          },
          "metadata": {},
          "execution_count": 60
        }
      ]
    }
  ]
}