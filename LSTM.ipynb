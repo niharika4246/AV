{
  "nbformat": 4,
  "nbformat_minor": 0,
  "metadata": {
    "colab": {
      "name": "LSTM.ipynb",
      "provenance": [],
      "authorship_tag": "ABX9TyPmIzNSfGgvaNAzgX1Dy4D5",
      "include_colab_link": true
    },
    "kernelspec": {
      "name": "python3",
      "display_name": "Python 3"
    },
    "language_info": {
      "name": "python"
    }
  },
  "cells": [
    {
      "cell_type": "markdown",
      "metadata": {
        "id": "view-in-github",
        "colab_type": "text"
      },
      "source": [
        "<a href=\"https://colab.research.google.com/github/niharika4246/AV/blob/master/LSTM.ipynb\" target=\"_parent\"><img src=\"https://colab.research.google.com/assets/colab-badge.svg\" alt=\"Open In Colab\"/></a>"
      ]
    },
    {
      "cell_type": "code",
      "metadata": {
        "id": "JFpowROn9w9w"
      },
      "source": [
        "import pandas as pd\n",
        "from datetime import datetime"
      ],
      "execution_count": 1,
      "outputs": []
    },
    {
      "cell_type": "code",
      "metadata": {
        "id": "OOv-V3ODDdyz"
      },
      "source": [
        "import numpy as np\n",
        "import matplotlib.pyplot as plt\n",
        "import math\n",
        "from keras.models import Sequential\n",
        "from keras.layers import Dense\n",
        "from keras.layers import LSTM\n",
        "from sklearn.preprocessing import MinMaxScaler\n",
        "from sklearn.metrics import mean_squared_error\n",
        "import matplotlib.animation as animation"
      ],
      "execution_count": 2,
      "outputs": []
    },
    {
      "cell_type": "code",
      "metadata": {
        "colab": {
          "base_uri": "https://localhost:8080/"
        },
        "id": "IB1K3-JM983x",
        "outputId": "7d5e7b0a-c77e-4959-c1c3-28abc96ee838"
      },
      "source": [
        "from google.colab import drive\n",
        "drive.mount('/content/drive')"
      ],
      "execution_count": 3,
      "outputs": [
        {
          "output_type": "stream",
          "text": [
            "Mounted at /content/drive\n"
          ],
          "name": "stdout"
        }
      ]
    },
    {
      "cell_type": "code",
      "metadata": {
        "id": "tX8vbYHN-Nyf"
      },
      "source": [
        "df=pd.read_csv('/content/drive/MyDrive/dataset_tk.csv',index_col='Date',parse_dates=True)"
      ],
      "execution_count": 4,
      "outputs": []
    },
    {
      "cell_type": "code",
      "metadata": {
        "colab": {
          "base_uri": "https://localhost:8080/",
          "height": 357
        },
        "id": "dOF4dt6q-xd5",
        "outputId": "d604d2bf-e2a8-419e-b9f9-da62acaba547"
      },
      "source": [
        "df.head()"
      ],
      "execution_count": 5,
      "outputs": [
        {
          "output_type": "execute_result",
          "data": {
            "text/html": [
              "<div>\n",
              "<style scoped>\n",
              "    .dataframe tbody tr th:only-of-type {\n",
              "        vertical-align: middle;\n",
              "    }\n",
              "\n",
              "    .dataframe tbody tr th {\n",
              "        vertical-align: top;\n",
              "    }\n",
              "\n",
              "    .dataframe thead th {\n",
              "        text-align: right;\n",
              "    }\n",
              "</style>\n",
              "<table border=\"1\" class=\"dataframe\">\n",
              "  <thead>\n",
              "    <tr style=\"text-align: right;\">\n",
              "      <th></th>\n",
              "      <th>Punjab</th>\n",
              "      <th>Haryana</th>\n",
              "      <th>Rajasthan</th>\n",
              "      <th>Delhi</th>\n",
              "      <th>UP</th>\n",
              "      <th>Uttarakhand</th>\n",
              "      <th>HP</th>\n",
              "      <th>J&amp;K</th>\n",
              "      <th>Chandigarh</th>\n",
              "      <th>Chhattisgarh</th>\n",
              "      <th>Gujarat</th>\n",
              "      <th>MP</th>\n",
              "      <th>Maharashtra</th>\n",
              "      <th>Goa</th>\n",
              "      <th>DNH</th>\n",
              "      <th>Andhra Pradesh</th>\n",
              "      <th>Telangana</th>\n",
              "      <th>Karnataka</th>\n",
              "      <th>Kerala</th>\n",
              "      <th>Tamil Nadu</th>\n",
              "      <th>Pondy</th>\n",
              "      <th>Bihar</th>\n",
              "      <th>Jharkhand</th>\n",
              "      <th>Odisha</th>\n",
              "      <th>West Bengal</th>\n",
              "      <th>Sikkim</th>\n",
              "      <th>Arunachal Pradesh</th>\n",
              "      <th>Assam</th>\n",
              "      <th>Manipur</th>\n",
              "      <th>Meghalaya</th>\n",
              "      <th>Mizoram</th>\n",
              "      <th>Nagaland</th>\n",
              "      <th>Tripura</th>\n",
              "      <th>Total Consumption</th>\n",
              "    </tr>\n",
              "    <tr>\n",
              "      <th>Date</th>\n",
              "      <th></th>\n",
              "      <th></th>\n",
              "      <th></th>\n",
              "      <th></th>\n",
              "      <th></th>\n",
              "      <th></th>\n",
              "      <th></th>\n",
              "      <th></th>\n",
              "      <th></th>\n",
              "      <th></th>\n",
              "      <th></th>\n",
              "      <th></th>\n",
              "      <th></th>\n",
              "      <th></th>\n",
              "      <th></th>\n",
              "      <th></th>\n",
              "      <th></th>\n",
              "      <th></th>\n",
              "      <th></th>\n",
              "      <th></th>\n",
              "      <th></th>\n",
              "      <th></th>\n",
              "      <th></th>\n",
              "      <th></th>\n",
              "      <th></th>\n",
              "      <th></th>\n",
              "      <th></th>\n",
              "      <th></th>\n",
              "      <th></th>\n",
              "      <th></th>\n",
              "      <th></th>\n",
              "      <th></th>\n",
              "      <th></th>\n",
              "      <th></th>\n",
              "    </tr>\n",
              "  </thead>\n",
              "  <tbody>\n",
              "    <tr>\n",
              "      <th>2019-02-01</th>\n",
              "      <td>119.9</td>\n",
              "      <td>130.3</td>\n",
              "      <td>234.1</td>\n",
              "      <td>85.8</td>\n",
              "      <td>313.9</td>\n",
              "      <td>40.7</td>\n",
              "      <td>30.0</td>\n",
              "      <td>52.5</td>\n",
              "      <td>5.0</td>\n",
              "      <td>78.7</td>\n",
              "      <td>319.5</td>\n",
              "      <td>253.0</td>\n",
              "      <td>428.6</td>\n",
              "      <td>12.8</td>\n",
              "      <td>18.6</td>\n",
              "      <td>164.6</td>\n",
              "      <td>204.2</td>\n",
              "      <td>206.3</td>\n",
              "      <td>72.7</td>\n",
              "      <td>268.3</td>\n",
              "      <td>6.3</td>\n",
              "      <td>82.3</td>\n",
              "      <td>24.8</td>\n",
              "      <td>70.2</td>\n",
              "      <td>108.2</td>\n",
              "      <td>2.0</td>\n",
              "      <td>2.1</td>\n",
              "      <td>21.7</td>\n",
              "      <td>2.7</td>\n",
              "      <td>6.1</td>\n",
              "      <td>1.9</td>\n",
              "      <td>2.2</td>\n",
              "      <td>3.4</td>\n",
              "      <td>3373.4</td>\n",
              "    </tr>\n",
              "    <tr>\n",
              "      <th>2019-03-01</th>\n",
              "      <td>121.9</td>\n",
              "      <td>133.5</td>\n",
              "      <td>240.2</td>\n",
              "      <td>85.5</td>\n",
              "      <td>311.8</td>\n",
              "      <td>39.3</td>\n",
              "      <td>30.1</td>\n",
              "      <td>54.1</td>\n",
              "      <td>4.9</td>\n",
              "      <td>78.8</td>\n",
              "      <td>316.7</td>\n",
              "      <td>253.6</td>\n",
              "      <td>419.6</td>\n",
              "      <td>13.7</td>\n",
              "      <td>18.2</td>\n",
              "      <td>170.1</td>\n",
              "      <td>204.5</td>\n",
              "      <td>212.2</td>\n",
              "      <td>73.6</td>\n",
              "      <td>285.2</td>\n",
              "      <td>6.5</td>\n",
              "      <td>82.0</td>\n",
              "      <td>25.6</td>\n",
              "      <td>67.9</td>\n",
              "      <td>110.2</td>\n",
              "      <td>1.9</td>\n",
              "      <td>2.2</td>\n",
              "      <td>23.4</td>\n",
              "      <td>2.4</td>\n",
              "      <td>6.5</td>\n",
              "      <td>1.8</td>\n",
              "      <td>2.2</td>\n",
              "      <td>3.6</td>\n",
              "      <td>3403.7</td>\n",
              "    </tr>\n",
              "    <tr>\n",
              "      <th>2019-04-01</th>\n",
              "      <td>118.8</td>\n",
              "      <td>128.2</td>\n",
              "      <td>239.8</td>\n",
              "      <td>83.5</td>\n",
              "      <td>320.7</td>\n",
              "      <td>38.1</td>\n",
              "      <td>30.1</td>\n",
              "      <td>53.2</td>\n",
              "      <td>4.8</td>\n",
              "      <td>74.8</td>\n",
              "      <td>301.9</td>\n",
              "      <td>239.3</td>\n",
              "      <td>395.8</td>\n",
              "      <td>12.6</td>\n",
              "      <td>16.7</td>\n",
              "      <td>165.2</td>\n",
              "      <td>201.2</td>\n",
              "      <td>205.3</td>\n",
              "      <td>73.4</td>\n",
              "      <td>270.3</td>\n",
              "      <td>6.4</td>\n",
              "      <td>82.9</td>\n",
              "      <td>26.3</td>\n",
              "      <td>66.3</td>\n",
              "      <td>106.8</td>\n",
              "      <td>1.7</td>\n",
              "      <td>2.2</td>\n",
              "      <td>21.7</td>\n",
              "      <td>2.4</td>\n",
              "      <td>6.3</td>\n",
              "      <td>1.7</td>\n",
              "      <td>2.2</td>\n",
              "      <td>3.5</td>\n",
              "      <td>3304.1</td>\n",
              "    </tr>\n",
              "    <tr>\n",
              "      <th>2019-05-01</th>\n",
              "      <td>121.0</td>\n",
              "      <td>127.5</td>\n",
              "      <td>239.1</td>\n",
              "      <td>79.2</td>\n",
              "      <td>299.0</td>\n",
              "      <td>39.2</td>\n",
              "      <td>30.2</td>\n",
              "      <td>51.5</td>\n",
              "      <td>4.3</td>\n",
              "      <td>69.0</td>\n",
              "      <td>313.2</td>\n",
              "      <td>228.2</td>\n",
              "      <td>411.1</td>\n",
              "      <td>13.0</td>\n",
              "      <td>17.6</td>\n",
              "      <td>167.4</td>\n",
              "      <td>201.7</td>\n",
              "      <td>212.4</td>\n",
              "      <td>75.4</td>\n",
              "      <td>286.8</td>\n",
              "      <td>6.6</td>\n",
              "      <td>77.0</td>\n",
              "      <td>23.0</td>\n",
              "      <td>65.8</td>\n",
              "      <td>107.0</td>\n",
              "      <td>2.0</td>\n",
              "      <td>2.2</td>\n",
              "      <td>22.5</td>\n",
              "      <td>2.7</td>\n",
              "      <td>5.7</td>\n",
              "      <td>1.8</td>\n",
              "      <td>2.3</td>\n",
              "      <td>3.5</td>\n",
              "      <td>3308.9</td>\n",
              "    </tr>\n",
              "    <tr>\n",
              "      <th>2019-06-01</th>\n",
              "      <td>121.4</td>\n",
              "      <td>132.6</td>\n",
              "      <td>240.4</td>\n",
              "      <td>76.6</td>\n",
              "      <td>286.8</td>\n",
              "      <td>39.2</td>\n",
              "      <td>31.0</td>\n",
              "      <td>53.2</td>\n",
              "      <td>4.3</td>\n",
              "      <td>68.1</td>\n",
              "      <td>320.7</td>\n",
              "      <td>227.4</td>\n",
              "      <td>408.6</td>\n",
              "      <td>12.9</td>\n",
              "      <td>18.6</td>\n",
              "      <td>171.2</td>\n",
              "      <td>194.9</td>\n",
              "      <td>217.5</td>\n",
              "      <td>75.4</td>\n",
              "      <td>298.3</td>\n",
              "      <td>7.2</td>\n",
              "      <td>76.4</td>\n",
              "      <td>22.6</td>\n",
              "      <td>62.9</td>\n",
              "      <td>106.4</td>\n",
              "      <td>2.0</td>\n",
              "      <td>2.2</td>\n",
              "      <td>21.7</td>\n",
              "      <td>2.7</td>\n",
              "      <td>6.2</td>\n",
              "      <td>1.9</td>\n",
              "      <td>2.3</td>\n",
              "      <td>3.3</td>\n",
              "      <td>3316.9</td>\n",
              "    </tr>\n",
              "  </tbody>\n",
              "</table>\n",
              "</div>"
            ],
            "text/plain": [
              "            Punjab  Haryana  Rajasthan  ...  Nagaland  Tripura  Total Consumption\n",
              "Date                                    ...                                      \n",
              "2019-02-01   119.9    130.3      234.1  ...       2.2      3.4             3373.4\n",
              "2019-03-01   121.9    133.5      240.2  ...       2.2      3.6             3403.7\n",
              "2019-04-01   118.8    128.2      239.8  ...       2.2      3.5             3304.1\n",
              "2019-05-01   121.0    127.5      239.1  ...       2.3      3.5             3308.9\n",
              "2019-06-01   121.4    132.6      240.4  ...       2.3      3.3             3316.9\n",
              "\n",
              "[5 rows x 34 columns]"
            ]
          },
          "metadata": {
            "tags": []
          },
          "execution_count": 5
        }
      ]
    },
    {
      "cell_type": "code",
      "metadata": {
        "id": "rthwJH4b-xkH"
      },
      "source": [
        "df1=df['Total Consumption']"
      ],
      "execution_count": 6,
      "outputs": []
    },
    {
      "cell_type": "code",
      "metadata": {
        "colab": {
          "base_uri": "https://localhost:8080/"
        },
        "id": "RfwADa6G-xn3",
        "outputId": "aa52bc9f-cefd-424b-b5f1-738ba8393907"
      },
      "source": [
        "df1\n"
      ],
      "execution_count": 7,
      "outputs": [
        {
          "output_type": "execute_result",
          "data": {
            "text/plain": [
              "Date\n",
              "2019-02-01    3373.4\n",
              "2019-03-01    3403.7\n",
              "2019-04-01    3304.1\n",
              "2019-05-01    3308.9\n",
              "2019-06-01    3316.9\n",
              "               ...  \n",
              "2020-01-12    3741.5\n",
              "2020-02-12    3763.8\n",
              "2020-03-12    3726.6\n",
              "2020-04-12    3642.1\n",
              "2020-05-12    3407.0\n",
              "Name: Total Consumption, Length: 503, dtype: float64"
            ]
          },
          "metadata": {
            "tags": []
          },
          "execution_count": 7
        }
      ]
    },
    {
      "cell_type": "code",
      "metadata": {
        "colab": {
          "base_uri": "https://localhost:8080/",
          "height": 343
        },
        "id": "AqPeT6jO-yJF",
        "outputId": "e0e57177-51c8-4f36-c89c-bf0e8eaff472"
      },
      "source": [
        "df1.plot(figsize=(12,5))"
      ],
      "execution_count": 8,
      "outputs": [
        {
          "output_type": "execute_result",
          "data": {
            "text/plain": [
              "<matplotlib.axes._subplots.AxesSubplot at 0x7fac74537890>"
            ]
          },
          "metadata": {
            "tags": []
          },
          "execution_count": 8
        },
        {
          "output_type": "display_data",
          "data": {
            "image/png": "[encoded data removed]",
            "text/plain": [
              "<Figure size 864x360 with 1 Axes>"
            ]
          },
          "metadata": {
            "tags": [],
            "needs_background": "light"
          }
        }
      ]
    },
    {
      "cell_type": "code",
      "metadata": {
        "id": "I1hnwpPTHYe4"
      },
      "source": [
        "np.random.seed(7)"
      ],
      "execution_count": 9,
      "outputs": []
    },
    {
      "cell_type": "code",
      "metadata": {
        "id": "QwH4PwOTHh_5"
      },
      "source": [
        "# normalize the dataset\n",
        "scaler = MinMaxScaler(feature_range=(0, 1))\n",
        "df1 = scaler.fit_transform(np.array(df1).reshape(-1,1))"
      ],
      "execution_count": 10,
      "outputs": []
    },
    {
      "cell_type": "code",
      "metadata": {
        "colab": {
          "base_uri": "https://localhost:8080/"
        },
        "id": "iyW_cPi3b6AI",
        "outputId": "97a47791-27f8-41a4-8680-bec38afea903"
      },
      "source": [
        "df1.shape"
      ],
      "execution_count": 11,
      "outputs": [
        {
          "output_type": "execute_result",
          "data": {
            "text/plain": [
              "(503, 1)"
            ]
          },
          "metadata": {
            "tags": []
          },
          "execution_count": 11
        }
      ]
    },
    {
      "cell_type": "code",
      "metadata": {
        "id": "dLEuFKMtgaLw"
      },
      "source": [
        "#splitting dataset into train and test\n",
        "training_size=int(len(df1)*0.65)       #0.65\n",
        "test_size=len(df1)-training_size\n",
        "train_data,test_data=df1[0:training_size,:],df1[training_size:len(df1),:1]"
      ],
      "execution_count": 12,
      "outputs": []
    },
    {
      "cell_type": "code",
      "metadata": {
        "colab": {
          "base_uri": "https://localhost:8080/"
        },
        "id": "ICwkwO8GiNQa",
        "outputId": "2d5793da-ae0a-418f-dada-e41c01a8093e"
      },
      "source": [
        "training_size,test_size"
      ],
      "execution_count": 13,
      "outputs": [
        {
          "output_type": "execute_result",
          "data": {
            "text/plain": [
              "(326, 177)"
            ]
          },
          "metadata": {
            "tags": []
          },
          "execution_count": 13
        }
      ]
    },
    {
      "cell_type": "code",
      "metadata": {
        "id": "0W46XYngIYf_"
      },
      "source": [
        "#X = series.values\n",
        "#train, test = X[0:-12], X[-12:]"
      ],
      "execution_count": 14,
      "outputs": []
    },
    {
      "cell_type": "code",
      "metadata": {
        "id": "7OXgNXakRky5"
      },
      "source": [
        "# convert an array of values into a dataset matrix\n",
        "import numpy\n",
        "def create_dataset(dataset, look_back=1):\n",
        "\tdataX, dataY = [], []\n",
        "\tfor i in range(len(dataset)-look_back-1):\n",
        "\t\ta = dataset[i:(i+look_back), 0]\n",
        "\t\tdataX.append(a)\n",
        "\t\tdataY.append(dataset[i + look_back, 0])\n",
        "\treturn numpy.array(dataX), numpy.array(dataY)"
      ],
      "execution_count": 15,
      "outputs": []
    },
    {
      "cell_type": "code",
      "metadata": {
        "id": "vapNHJobRlBF"
      },
      "source": [
        "# reshape into X=t and Y=t+1\n",
        "look_back = 100     #100 time_step\n",
        "X_train, y_train = create_dataset(train_data, look_back)\n",
        "X_test, ytest = create_dataset(test_data, look_back)"
      ],
      "execution_count": 16,
      "outputs": []
    },
    {
      "cell_type": "code",
      "metadata": {
        "colab": {
          "base_uri": "https://localhost:8080/"
        },
        "id": "3lX5O63CkGJg",
        "outputId": "6d25ecf5-f532-4636-f358-249c78e385da"
      },
      "source": [
        "print(X_train.shape), print(y_train.shape)"
      ],
      "execution_count": 17,
      "outputs": [
        {
          "output_type": "stream",
          "text": [
            "(225, 100)\n",
            "(225,)\n"
          ],
          "name": "stdout"
        },
        {
          "output_type": "execute_result",
          "data": {
            "text/plain": [
              "(None, None)"
            ]
          },
          "metadata": {
            "tags": []
          },
          "execution_count": 17
        }
      ]
    },
    {
      "cell_type": "code",
      "metadata": {
        "colab": {
          "base_uri": "https://localhost:8080/"
        },
        "id": "fHuBuQ29lZ_g",
        "outputId": "1952fa7e-e1e6-4090-82aa-f61f1bf35902"
      },
      "source": [
        "print(X_test.shape), print(ytest.shape)"
      ],
      "execution_count": 18,
      "outputs": [
        {
          "output_type": "stream",
          "text": [
            "(76, 100)\n",
            "(76,)\n"
          ],
          "name": "stdout"
        },
        {
          "output_type": "execute_result",
          "data": {
            "text/plain": [
              "(None, None)"
            ]
          },
          "metadata": {
            "tags": []
          },
          "execution_count": 18
        }
      ]
    },
    {
      "cell_type": "code",
      "metadata": {
        "id": "kMpLcNQAu_T0"
      },
      "source": [
        "#reshape input to be [samples, time steps, features]\n",
        "X_train=X_train.reshape(X_train.shape[0],X_train.shape[1],1)\n",
        "X_test=X_test.reshape(X_test.shape[0],X_test.shape[1],1)"
      ],
      "execution_count": 19,
      "outputs": []
    },
    {
      "cell_type": "code",
      "metadata": {
        "id": "kw7ctmzJu_3Y"
      },
      "source": [
        "# create the stacked LSTM model\n",
        "from tensorflow.keras.models import Sequential\n",
        "from tensorflow.keras.layers import LSTM\n",
        "from tensorflow.keras.layers import Dense"
      ],
      "execution_count": 20,
      "outputs": []
    },
    {
      "cell_type": "code",
      "metadata": {
        "id": "0UlGDR-0wGsm"
      },
      "source": [
        "#define model\n",
        "model= Sequential()\n",
        "model.add(LSTM(50,return_sequences=True,input_shape=(100,1)))  #100,1\n",
        "model.add(LSTM(50,return_sequences=True))\n",
        "model.add(LSTM(50))\n",
        "model.add(Dense(1))\n",
        "model.compile(optimizer='adam',loss='mean_squared_error')\n"
      ],
      "execution_count": 21,
      "outputs": []
    },
    {
      "cell_type": "code",
      "metadata": {
        "colab": {
          "base_uri": "https://localhost:8080/"
        },
        "id": "hwUaExUwxIIu",
        "outputId": "69d80a07-dada-43f7-fff6-47c530f2bac1"
      },
      "source": [
        "model.summary()"
      ],
      "execution_count": 22,
      "outputs": [
        {
          "output_type": "stream",
          "text": [
            "Model: \"sequential\"\n",
            "_________________________________________________________________\n",
            "Layer (type)                 Output Shape              Param #   \n",
            "=================================================================\n",
            "lstm (LSTM)                  (None, 100, 50)           10400     \n",
            "_________________________________________________________________\n",
            "lstm_1 (LSTM)                (None, 100, 50)           20200     \n",
            "_________________________________________________________________\n",
            "lstm_2 (LSTM)                (None, 50)                20200     \n",
            "_________________________________________________________________\n",
            "dense (Dense)                (None, 1)                 51        \n",
            "=================================================================\n",
            "Total params: 50,851\n",
            "Trainable params: 50,851\n",
            "Non-trainable params: 0\n",
            "_________________________________________________________________\n"
          ],
          "name": "stdout"
        }
      ]
    },
    {
      "cell_type": "code",
      "metadata": {
        "colab": {
          "base_uri": "https://localhost:8080/"
        },
        "id": "X_lZp3urxf3e",
        "outputId": "364fc8a7-f25f-4fc8-8c1a-45e2769d8577"
      },
      "source": [
        "history=model.fit(X_train,y_train,validation_data=(X_test,ytest),epochs=100,batch_size=64,verbose=1)   ##400 epochs\n",
        "\n",
        "#from keras import callbacks\n",
        "#earlystopping = callbacks.EarlyStopping(monitor =\"val_loss\", \n",
        "                                       # mode =\"min\", patience = 5, \n",
        "                                        #restore_best_weights = True)\n",
        "  \n",
        "#history = model.fit(X_train,y_train,validation_data=(X_test,ytest), batch_size = 64, \n",
        "                    #epochs = 400,callbacks =[earlystopping])"
      ],
      "execution_count": 23,
      "outputs": [
        {
          "output_type": "stream",
          "text": [
            "Epoch 1/100\n",
            "4/4 [==============================] - 7s 555ms/step - loss: 0.2583 - val_loss: 0.1184\n",
            "Epoch 2/100\n",
            "4/4 [==============================] - 1s 194ms/step - loss: 0.0733 - val_loss: 0.0622\n",
            "Epoch 3/100\n",
            "4/4 [==============================] - 1s 195ms/step - loss: 0.0668 - val_loss: 0.0493\n",
            "Epoch 4/100\n",
            "4/4 [==============================] - 1s 195ms/step - loss: 0.0550 - val_loss: 0.0691\n",
            "Epoch 5/100\n",
            "4/4 [==============================] - 1s 204ms/step - loss: 0.0572 - val_loss: 0.0476\n",
            "Epoch 6/100\n",
            "4/4 [==============================] - 1s 193ms/step - loss: 0.0444 - val_loss: 0.0377\n",
            "Epoch 7/100\n",
            "4/4 [==============================] - 1s 192ms/step - loss: 0.0482 - val_loss: 0.0373\n",
            "Epoch 8/100\n",
            "4/4 [==============================] - 1s 201ms/step - loss: 0.0442 - val_loss: 0.0423\n",
            "Epoch 9/100\n",
            "4/4 [==============================] - 1s 201ms/step - loss: 0.0437 - val_loss: 0.0450\n",
            "Epoch 10/100\n",
            "4/4 [==============================] - 1s 193ms/step - loss: 0.0434 - val_loss: 0.0402\n",
            "Epoch 11/100\n",
            "4/4 [==============================] - 1s 191ms/step - loss: 0.0420 - val_loss: 0.0371\n",
            "Epoch 12/100\n",
            "4/4 [==============================] - 1s 194ms/step - loss: 0.0421 - val_loss: 0.0373\n",
            "Epoch 13/100\n",
            "4/4 [==============================] - 1s 198ms/step - loss: 0.0413 - val_loss: 0.0389\n",
            "Epoch 14/100\n",
            "4/4 [==============================] - 1s 195ms/step - loss: 0.0410 - val_loss: 0.0389\n",
            "Epoch 15/100\n",
            "4/4 [==============================] - 1s 189ms/step - loss: 0.0407 - val_loss: 0.0373\n",
            "Epoch 16/100\n",
            "4/4 [==============================] - 1s 197ms/step - loss: 0.0403 - val_loss: 0.0374\n",
            "Epoch 17/100\n",
            "4/4 [==============================] - 1s 199ms/step - loss: 0.0401 - val_loss: 0.0377\n",
            "Epoch 18/100\n",
            "4/4 [==============================] - 1s 190ms/step - loss: 0.0399 - val_loss: 0.0389\n",
            "Epoch 19/100\n",
            "4/4 [==============================] - 1s 193ms/step - loss: 0.0396 - val_loss: 0.0382\n",
            "Epoch 20/100\n",
            "4/4 [==============================] - 1s 190ms/step - loss: 0.0392 - val_loss: 0.0368\n",
            "Epoch 21/100\n",
            "4/4 [==============================] - 1s 197ms/step - loss: 0.0390 - val_loss: 0.0366\n",
            "Epoch 22/100\n",
            "4/4 [==============================] - 1s 204ms/step - loss: 0.0389 - val_loss: 0.0383\n",
            "Epoch 23/100\n",
            "4/4 [==============================] - 1s 195ms/step - loss: 0.0379 - val_loss: 0.0361\n",
            "Epoch 24/100\n",
            "4/4 [==============================] - 1s 193ms/step - loss: 0.0381 - val_loss: 0.0358\n",
            "Epoch 25/100\n",
            "4/4 [==============================] - 1s 202ms/step - loss: 0.0371 - val_loss: 0.0382\n",
            "Epoch 26/100\n",
            "4/4 [==============================] - 1s 190ms/step - loss: 0.0366 - val_loss: 0.0364\n",
            "Epoch 27/100\n",
            "4/4 [==============================] - 1s 195ms/step - loss: 0.0357 - val_loss: 0.0355\n",
            "Epoch 28/100\n",
            "4/4 [==============================] - 1s 190ms/step - loss: 0.0348 - val_loss: 0.0363\n",
            "Epoch 29/100\n",
            "4/4 [==============================] - 1s 194ms/step - loss: 0.0337 - val_loss: 0.0361\n",
            "Epoch 30/100\n",
            "4/4 [==============================] - 1s 191ms/step - loss: 0.0329 - val_loss: 0.0376\n",
            "Epoch 31/100\n",
            "4/4 [==============================] - 1s 194ms/step - loss: 0.0327 - val_loss: 0.0384\n",
            "Epoch 32/100\n",
            "4/4 [==============================] - 1s 195ms/step - loss: 0.0325 - val_loss: 0.0394\n",
            "Epoch 33/100\n",
            "4/4 [==============================] - 1s 205ms/step - loss: 0.0330 - val_loss: 0.0379\n",
            "Epoch 34/100\n",
            "4/4 [==============================] - 1s 192ms/step - loss: 0.0320 - val_loss: 0.0377\n",
            "Epoch 35/100\n",
            "4/4 [==============================] - 1s 189ms/step - loss: 0.0320 - val_loss: 0.0392\n",
            "Epoch 36/100\n",
            "4/4 [==============================] - 1s 190ms/step - loss: 0.0316 - val_loss: 0.0375\n",
            "Epoch 37/100\n",
            "4/4 [==============================] - 1s 194ms/step - loss: 0.0323 - val_loss: 0.0378\n",
            "Epoch 38/100\n",
            "4/4 [==============================] - 1s 197ms/step - loss: 0.0317 - val_loss: 0.0398\n",
            "Epoch 39/100\n",
            "4/4 [==============================] - 1s 190ms/step - loss: 0.0312 - val_loss: 0.0376\n",
            "Epoch 40/100\n",
            "4/4 [==============================] - 1s 191ms/step - loss: 0.0317 - val_loss: 0.0382\n",
            "Epoch 41/100\n",
            "4/4 [==============================] - 1s 193ms/step - loss: 0.0312 - val_loss: 0.0390\n",
            "Epoch 42/100\n",
            "4/4 [==============================] - 1s 195ms/step - loss: 0.0311 - val_loss: 0.0376\n",
            "Epoch 43/100\n",
            "4/4 [==============================] - 1s 193ms/step - loss: 0.0309 - val_loss: 0.0379\n",
            "Epoch 44/100\n",
            "4/4 [==============================] - 1s 193ms/step - loss: 0.0309 - val_loss: 0.0370\n",
            "Epoch 45/100\n",
            "4/4 [==============================] - 1s 199ms/step - loss: 0.0312 - val_loss: 0.0374\n",
            "Epoch 46/100\n",
            "4/4 [==============================] - 1s 199ms/step - loss: 0.0305 - val_loss: 0.0383\n",
            "Epoch 47/100\n",
            "4/4 [==============================] - 1s 191ms/step - loss: 0.0305 - val_loss: 0.0370\n",
            "Epoch 48/100\n",
            "4/4 [==============================] - 1s 204ms/step - loss: 0.0302 - val_loss: 0.0361\n",
            "Epoch 49/100\n",
            "4/4 [==============================] - 1s 191ms/step - loss: 0.0304 - val_loss: 0.0370\n",
            "Epoch 50/100\n",
            "4/4 [==============================] - 1s 190ms/step - loss: 0.0302 - val_loss: 0.0376\n",
            "Epoch 51/100\n",
            "4/4 [==============================] - 1s 190ms/step - loss: 0.0302 - val_loss: 0.0371\n",
            "Epoch 52/100\n",
            "4/4 [==============================] - 1s 200ms/step - loss: 0.0300 - val_loss: 0.0368\n",
            "Epoch 53/100\n",
            "4/4 [==============================] - 1s 196ms/step - loss: 0.0294 - val_loss: 0.0354\n",
            "Epoch 54/100\n",
            "4/4 [==============================] - 1s 189ms/step - loss: 0.0295 - val_loss: 0.0360\n",
            "Epoch 55/100\n",
            "4/4 [==============================] - 1s 186ms/step - loss: 0.0291 - val_loss: 0.0362\n",
            "Epoch 56/100\n",
            "4/4 [==============================] - 1s 196ms/step - loss: 0.0286 - val_loss: 0.0361\n",
            "Epoch 57/100\n",
            "4/4 [==============================] - 1s 195ms/step - loss: 0.0289 - val_loss: 0.0369\n",
            "Epoch 58/100\n",
            "4/4 [==============================] - 1s 194ms/step - loss: 0.0282 - val_loss: 0.0349\n",
            "Epoch 59/100\n",
            "4/4 [==============================] - 1s 189ms/step - loss: 0.0274 - val_loss: 0.0356\n",
            "Epoch 60/100\n",
            "4/4 [==============================] - 1s 191ms/step - loss: 0.0278 - val_loss: 0.0333\n",
            "Epoch 61/100\n",
            "4/4 [==============================] - 1s 190ms/step - loss: 0.0272 - val_loss: 0.0386\n",
            "Epoch 62/100\n",
            "4/4 [==============================] - 1s 187ms/step - loss: 0.0281 - val_loss: 0.0345\n",
            "Epoch 63/100\n",
            "4/4 [==============================] - 1s 192ms/step - loss: 0.0261 - val_loss: 0.0342\n",
            "Epoch 64/100\n",
            "4/4 [==============================] - 1s 202ms/step - loss: 0.0261 - val_loss: 0.0322\n",
            "Epoch 65/100\n",
            "4/4 [==============================] - 1s 192ms/step - loss: 0.0264 - val_loss: 0.0328\n",
            "Epoch 66/100\n",
            "4/4 [==============================] - 1s 191ms/step - loss: 0.0252 - val_loss: 0.0342\n",
            "Epoch 67/100\n",
            "4/4 [==============================] - 1s 188ms/step - loss: 0.0250 - val_loss: 0.0302\n",
            "Epoch 68/100\n",
            "4/4 [==============================] - 1s 196ms/step - loss: 0.0248 - val_loss: 0.0330\n",
            "Epoch 69/100\n",
            "4/4 [==============================] - 1s 194ms/step - loss: 0.0250 - val_loss: 0.0324\n",
            "Epoch 70/100\n",
            "4/4 [==============================] - 1s 185ms/step - loss: 0.0245 - val_loss: 0.0302\n",
            "Epoch 71/100\n",
            "4/4 [==============================] - 1s 190ms/step - loss: 0.0245 - val_loss: 0.0297\n",
            "Epoch 72/100\n",
            "4/4 [==============================] - 1s 193ms/step - loss: 0.0252 - val_loss: 0.0295\n",
            "Epoch 73/100\n",
            "4/4 [==============================] - 1s 192ms/step - loss: 0.0237 - val_loss: 0.0295\n",
            "Epoch 74/100\n",
            "4/4 [==============================] - 1s 193ms/step - loss: 0.0235 - val_loss: 0.0333\n",
            "Epoch 75/100\n",
            "4/4 [==============================] - 1s 191ms/step - loss: 0.0231 - val_loss: 0.0270\n",
            "Epoch 76/100\n",
            "4/4 [==============================] - 1s 194ms/step - loss: 0.0218 - val_loss: 0.0292\n",
            "Epoch 77/100\n",
            "4/4 [==============================] - 1s 190ms/step - loss: 0.0223 - val_loss: 0.0245\n",
            "Epoch 78/100\n",
            "4/4 [==============================] - 1s 188ms/step - loss: 0.0222 - val_loss: 0.0244\n",
            "Epoch 79/100\n",
            "4/4 [==============================] - 1s 196ms/step - loss: 0.0221 - val_loss: 0.0254\n",
            "Epoch 80/100\n",
            "4/4 [==============================] - 1s 196ms/step - loss: 0.0211 - val_loss: 0.0231\n",
            "Epoch 81/100\n",
            "4/4 [==============================] - 1s 194ms/step - loss: 0.0209 - val_loss: 0.0255\n",
            "Epoch 82/100\n",
            "4/4 [==============================] - 1s 191ms/step - loss: 0.0195 - val_loss: 0.0214\n",
            "Epoch 83/100\n",
            "4/4 [==============================] - 1s 196ms/step - loss: 0.0186 - val_loss: 0.0215\n",
            "Epoch 84/100\n",
            "4/4 [==============================] - 1s 197ms/step - loss: 0.0193 - val_loss: 0.0217\n",
            "Epoch 85/100\n",
            "4/4 [==============================] - 1s 193ms/step - loss: 0.0176 - val_loss: 0.0275\n",
            "Epoch 86/100\n",
            "4/4 [==============================] - 1s 186ms/step - loss: 0.0203 - val_loss: 0.0193\n",
            "Epoch 87/100\n",
            "4/4 [==============================] - 1s 192ms/step - loss: 0.0192 - val_loss: 0.0217\n",
            "Epoch 88/100\n",
            "4/4 [==============================] - 1s 197ms/step - loss: 0.0173 - val_loss: 0.0186\n",
            "Epoch 89/100\n",
            "4/4 [==============================] - 1s 190ms/step - loss: 0.0160 - val_loss: 0.0210\n",
            "Epoch 90/100\n",
            "4/4 [==============================] - 1s 192ms/step - loss: 0.0161 - val_loss: 0.0165\n",
            "Epoch 91/100\n",
            "4/4 [==============================] - 1s 193ms/step - loss: 0.0151 - val_loss: 0.0186\n",
            "Epoch 92/100\n",
            "4/4 [==============================] - 1s 197ms/step - loss: 0.0158 - val_loss: 0.0154\n",
            "Epoch 93/100\n",
            "4/4 [==============================] - 1s 191ms/step - loss: 0.0167 - val_loss: 0.0150\n",
            "Epoch 94/100\n",
            "4/4 [==============================] - 1s 187ms/step - loss: 0.0147 - val_loss: 0.0148\n",
            "Epoch 95/100\n",
            "4/4 [==============================] - 1s 198ms/step - loss: 0.0163 - val_loss: 0.0143\n",
            "Epoch 96/100\n",
            "4/4 [==============================] - 1s 195ms/step - loss: 0.0155 - val_loss: 0.0157\n",
            "Epoch 97/100\n",
            "4/4 [==============================] - 1s 193ms/step - loss: 0.0141 - val_loss: 0.0143\n",
            "Epoch 98/100\n",
            "4/4 [==============================] - 1s 203ms/step - loss: 0.0135 - val_loss: 0.0138\n",
            "Epoch 99/100\n",
            "4/4 [==============================] - 1s 200ms/step - loss: 0.0134 - val_loss: 0.0139\n",
            "Epoch 100/100\n",
            "4/4 [==============================] - 1s 195ms/step - loss: 0.0131 - val_loss: 0.0145\n"
          ],
          "name": "stdout"
        }
      ]
    },
    {
      "cell_type": "code",
      "metadata": {
        "id": "Gi4pFoMi1X0Q"
      },
      "source": [
        "import tensorflow as tf"
      ],
      "execution_count": 24,
      "outputs": []
    },
    {
      "cell_type": "code",
      "metadata": {
        "colab": {
          "base_uri": "https://localhost:8080/",
          "height": 35
        },
        "id": "KnWfRRPE1YEl",
        "outputId": "f5fd35ef-b92f-49f4-b5d8-4873cbaf2a48"
      },
      "source": [
        "tf.__version__"
      ],
      "execution_count": 25,
      "outputs": [
        {
          "output_type": "execute_result",
          "data": {
            "application/vnd.google.colaboratory.intrinsic+json": {
              "type": "string"
            },
            "text/plain": [
              "'2.5.0'"
            ]
          },
          "metadata": {
            "tags": []
          },
          "execution_count": 25
        }
      ]
    },
    {
      "cell_type": "code",
      "metadata": {
        "id": "lsniEIAv1q6b"
      },
      "source": [
        "# the prediction and checking performance metrics\n",
        "train_predict=model.predict(X_train)\n",
        "test_predict=model.predict(X_test)"
      ],
      "execution_count": 26,
      "outputs": []
    },
    {
      "cell_type": "code",
      "metadata": {
        "id": "en-1m0AN1rZH"
      },
      "source": [
        "#transform to original form\n",
        "train_predict=scaler.inverse_transform(train_predict)\n",
        "test_predict=scaler.inverse_transform(test_predict)"
      ],
      "execution_count": 27,
      "outputs": []
    },
    {
      "cell_type": "code",
      "metadata": {
        "colab": {
          "base_uri": "https://localhost:8080/",
          "height": 265
        },
        "id": "zWJCNZuBTcqI",
        "outputId": "cbded558-d0d1-4c1d-d156-ebbb9156a2ef"
      },
      "source": [
        "plt.plot(history.history['loss'])\n",
        "plt.show()"
      ],
      "execution_count": 28,
      "outputs": [
        {
          "output_type": "display_data",
          "data": {
            "image/png": "[encoded data removed]",
            "text/plain": [
              "<Figure size 432x288 with 1 Axes>"
            ]
          },
          "metadata": {
            "tags": [],
            "needs_background": "light"
          }
        }
      ]
    },
    {
      "cell_type": "code",
      "metadata": {
        "colab": {
          "base_uri": "https://localhost:8080/"
        },
        "id": "n-0-LrRA2-rF",
        "outputId": "3bd7a41c-f03e-4b12-d87b-e420a125c3d7"
      },
      "source": [
        "# train data RMSE\n",
        "import math\n",
        "from sklearn.metrics import mean_squared_error\n",
        "math.sqrt(mean_squared_error(y_train,train_predict))"
      ],
      "execution_count": 29,
      "outputs": [
        {
          "output_type": "execute_result",
          "data": {
            "text/plain": [
              "3384.484512029145"
            ]
          },
          "metadata": {
            "tags": []
          },
          "execution_count": 29
        }
      ]
    },
    {
      "cell_type": "code",
      "metadata": {
        "colab": {
          "base_uri": "https://localhost:8080/"
        },
        "id": "RRuNQRwD2-6x",
        "outputId": "017a7c39-12f8-4dd1-da77-6e494b4d3a94"
      },
      "source": [
        "# train data RMSE\n",
        "math.sqrt(mean_squared_error(ytest,test_predict))"
      ],
      "execution_count": 30,
      "outputs": [
        {
          "output_type": "execute_result",
          "data": {
            "text/plain": [
              "3407.724828131348"
            ]
          },
          "metadata": {
            "tags": []
          },
          "execution_count": 30
        }
      ]
    },
    {
      "cell_type": "code",
      "metadata": {
        "id": "dfT5a5Sdtffj",
        "colab": {
          "base_uri": "https://localhost:8080/"
        },
        "outputId": "92f1a6d0-0ef0-4f55-d004-66dd3519b3a5"
      },
      "source": [
        "import numpy as np\n",
        "\n",
        "def mape(actual, pred): \n",
        "    actual, pred = np.array(actual), np.array(pred)\n",
        "    return np.mean(np.abs((actual - pred) / actual)) * 100\n",
        "\n",
        "print(\"MAPE of training data\",mape(y_train,train_predict),\"MAPE of testing data\",mape(ytest,test_predict))   \n",
        "#print(\"MAPE of training data\",mape(day_new,day_pred),\"MAPE of testing data\",mape(day_pred,day_new))   \n",
        " "
      ],
      "execution_count": 31,
      "outputs": [
        {
          "output_type": "stream",
          "text": [
            "MAPE of training data inf MAPE of testing data 671614.945739113\n"
          ],
          "name": "stdout"
        },
        {
          "output_type": "stream",
          "text": [
            "/usr/local/lib/python3.7/dist-packages/ipykernel_launcher.py:5: RuntimeWarning: divide by zero encountered in true_divide\n",
            "  \"\"\"\n"
          ],
          "name": "stderr"
        }
      ]
    },
    {
      "cell_type": "code",
      "metadata": {
        "id": "k6SjVX0stm_r"
      },
      "source": [
        "#np.mean((y_train-test_predict)**2)"
      ],
      "execution_count": 32,
      "outputs": []
    },
    {
      "cell_type": "code",
      "metadata": {
        "colab": {
          "base_uri": "https://localhost:8080/",
          "height": 374
        },
        "id": "ym991aBs5MuP",
        "outputId": "00c73771-3f84-4014-9488-924b9229940a"
      },
      "source": [
        "# plotting\n",
        "# shift train predictions for plotting\n",
        "look_back=100\n",
        "trainPredictPlot=numpy.empty_like(df1)\n",
        "trainPredictPlot[:,:] = np.nan\n",
        "trainPredictPlot[look_back:len(train_predict)+look_back,:]= train_predict\n",
        "#shift test prediction for plotting\n",
        "testPredictPlot=numpy.empty_like(df1)\n",
        "testPredictPlot[:,:]= numpy.nan\n",
        "testPredictPlot[len(train_predict)+(look_back*2)+1:len(df1)-1,:] = test_predict\n",
        "#plot baseline and predictions\n",
        "plt.xlabel=('Date')\n",
        "plt.ylabel=('Consumption')\n",
        "plt.figure(figsize=(12,6))\n",
        "plt.plot(scaler.inverse_transform(df1))\n",
        "plt.plot(trainPredictPlot)\n",
        "plt.plot(testPredictPlot)\n",
        "plt.legend(['data','trainP', 'testP'])\n",
        "plt.show()"
      ],
      "execution_count": 33,
      "outputs": [
        {
          "output_type": "display_data",
          "data": {
            "image/png": "[encoded data removed]",
            "text/plain": [
              "<Figure size 864x432 with 1 Axes>"
            ]
          },
          "metadata": {
            "tags": [],
            "needs_background": "light"
          }
        }
      ]
    },
    {
      "cell_type": "code",
      "metadata": {
        "colab": {
          "base_uri": "https://localhost:8080/"
        },
        "id": "VPsjOMD471kQ",
        "outputId": "5e050677-4696-4425-d6b6-f28f7cff79ad"
      },
      "source": [
        "len(test_data)"
      ],
      "execution_count": 34,
      "outputs": [
        {
          "output_type": "execute_result",
          "data": {
            "text/plain": [
              "177"
            ]
          },
          "metadata": {
            "tags": []
          },
          "execution_count": 34
        }
      ]
    },
    {
      "cell_type": "code",
      "metadata": {
        "colab": {
          "base_uri": "https://localhost:8080/"
        },
        "id": "cOtnAkiW76Du",
        "outputId": "d43ac19d-61cc-42db-a853-3bcc6f6ea959"
      },
      "source": [
        "x_input=test_data[77:].reshape(1,-1)   #77\n",
        "x_input.shape"
      ],
      "execution_count": 35,
      "outputs": [
        {
          "output_type": "execute_result",
          "data": {
            "text/plain": [
              "(1, 100)"
            ]
          },
          "metadata": {
            "tags": []
          },
          "execution_count": 35
        }
      ]
    },
    {
      "cell_type": "code",
      "metadata": {
        "id": "u-Oyfrni--C-"
      },
      "source": [
        "temp_input=list(x_input)\n",
        "temp_input=temp_input[0].tolist()"
      ],
      "execution_count": 36,
      "outputs": []
    },
    {
      "cell_type": "code",
      "metadata": {
        "colab": {
          "base_uri": "https://localhost:8080/"
        },
        "id": "Aiv42zTH--HM",
        "outputId": "e542b1c2-c933-407a-c636-99f40fa23cae"
      },
      "source": [
        "#demonstrate predictions for next 100 days\n",
        "from numpy import array\n",
        "lst_output=[]\n",
        "n_steps=100    #100\n",
        "i=0\n",
        "while(i<30):       #30 for 30 days\n",
        "\n",
        "    if(len(temp_input)>100):\n",
        "      #print(temp_input)\n",
        "      x_input=np.array(temp_input[1:])\n",
        "      print(\"{} day input {}\".format(i,x_input))\n",
        "      x_input=x_input.reshape(1,-1)\n",
        "      x_input=x_input.reshape((1,n_steps,1))\n",
        "      #print(x_input)\n",
        "      yhat=model.predict(x_input,verbose=0)\n",
        "      print(\"{} day output {}\".format(i,yhat))\n",
        "      temp_input.extend(yhat[0].tolist())\n",
        "      temp_input=temp_input[1:]\n",
        "      #print(temp_input)\n",
        "      lst_output.extend(yhat.tolist())\n",
        "      i=i+1\n",
        "    else:\n",
        "      x_input=x_input.reshape((1,n_steps,1))\n",
        "      yhat=model.predict(x_input,verbose=0)\n",
        "      print(yhat[0])\n",
        "      temp_input.extend(yhat[0].tolist())\n",
        "      print(len(temp_input))\n",
        "      lst_output.extend(yhat.tolist())\n",
        "      i=i+1\n",
        "\n",
        "print(lst_output)\n"
      ],
      "execution_count": 55,
      "outputs": [
        {
          "output_type": "stream",
          "text": [
            "0 day input [0.53665137 0.48778301 0.47050619 0.47743371 0.50147319 0.53446239\n",
            " 0.56854385 0.59760565 0.61824602 0.62963831 0.63331217 0.62980801\n",
            " 0.62142861 0.61085695 0.60151792 0.59598362 0.59564573 0.59989959\n",
            " 0.60646331 0.61236215 0.61443543 0.61019528 0.59849447 0.57968163\n",
            " 0.55524755 0.52783084 0.50033879 0.47562718 0.45566511 0.44151923\n",
            " 0.43335742 0.42928559 0.42830136 0.42875993 0.42906463 0.42809772\n",
            " 0.42557144 0.42260748 0.42224249 0.42853105 0.44533399 0.47475976\n",
            " 0.51533324 0.56339693 0.61337185 0.65610415 0.68764889 0.70385963\n",
            " 0.70325637 0.68791938 0.66344905 0.6375879  0.61849421 0.61185455\n",
            " 0.61874878 0.63406974 0.64832938 0.65200084 0.63962382 0.609317\n",
            " 0.56636262 0.518206   0.47169417 0.43224791 0.40337086 0.38638264\n",
            " 0.38066491 0.38336918 0.39098474 0.39992014 0.40705466 0.41010147\n",
            " 0.40804145 0.40145802 0.39435366 0.3930327  0.40408707 0.43133217\n",
            " 0.47478098 0.53101623 0.59325266 0.65207452 0.69728243 0.72098219\n",
            " 0.72059667 0.69955683 0.66610932 0.63079256 0.60439336 0.59412163\n",
            " 0.59839189 0.60526431 0.60739398 0.60402513 0.59272194 0.57281584\n",
            " 0.54517752 0.51213551 0.47707251 0.44380674]\n",
            "0 day output [[0.41583434]]\n",
            "1 day input [0.48778301 0.47050619 0.47743371 0.50147319 0.53446239 0.56854385\n",
            " 0.59760565 0.61824602 0.62963831 0.63331217 0.62980801 0.62142861\n",
            " 0.61085695 0.60151792 0.59598362 0.59564573 0.59989959 0.60646331\n",
            " 0.61236215 0.61443543 0.61019528 0.59849447 0.57968163 0.55524755\n",
            " 0.52783084 0.50033879 0.47562718 0.45566511 0.44151923 0.43335742\n",
            " 0.42928559 0.42830136 0.42875993 0.42906463 0.42809772 0.42557144\n",
            " 0.42260748 0.42224249 0.42853105 0.44533399 0.47475976 0.51533324\n",
            " 0.56339693 0.61337185 0.65610415 0.68764889 0.70385963 0.70325637\n",
            " 0.68791938 0.66344905 0.6375879  0.61849421 0.61185455 0.61874878\n",
            " 0.63406974 0.64832938 0.65200084 0.63962382 0.609317   0.56636262\n",
            " 0.518206   0.47169417 0.43224791 0.40337086 0.38638264 0.38066491\n",
            " 0.38336918 0.39098474 0.39992014 0.40705466 0.41010147 0.40804145\n",
            " 0.40145802 0.39435366 0.3930327  0.40408707 0.43133217 0.47478098\n",
            " 0.53101623 0.59325266 0.65207452 0.69728243 0.72098219 0.72059667\n",
            " 0.69955683 0.66610932 0.63079256 0.60439336 0.59412163 0.59839189\n",
            " 0.60526431 0.60739398 0.60402513 0.59272194 0.57281584 0.54517752\n",
            " 0.51213551 0.47707251 0.44380674 0.41583434]\n",
            "1 day output [[0.39554763]]\n",
            "2 day input [0.47050619 0.47743371 0.50147319 0.53446239 0.56854385 0.59760565\n",
            " 0.61824602 0.62963831 0.63331217 0.62980801 0.62142861 0.61085695\n",
            " 0.60151792 0.59598362 0.59564573 0.59989959 0.60646331 0.61236215\n",
            " 0.61443543 0.61019528 0.59849447 0.57968163 0.55524755 0.52783084\n",
            " 0.50033879 0.47562718 0.45566511 0.44151923 0.43335742 0.42928559\n",
            " 0.42830136 0.42875993 0.42906463 0.42809772 0.42557144 0.42260748\n",
            " 0.42224249 0.42853105 0.44533399 0.47475976 0.51533324 0.56339693\n",
            " 0.61337185 0.65610415 0.68764889 0.70385963 0.70325637 0.68791938\n",
            " 0.66344905 0.6375879  0.61849421 0.61185455 0.61874878 0.63406974\n",
            " 0.64832938 0.65200084 0.63962382 0.609317   0.56636262 0.518206\n",
            " 0.47169417 0.43224791 0.40337086 0.38638264 0.38066491 0.38336918\n",
            " 0.39098474 0.39992014 0.40705466 0.41010147 0.40804145 0.40145802\n",
            " 0.39435366 0.3930327  0.40408707 0.43133217 0.47478098 0.53101623\n",
            " 0.59325266 0.65207452 0.69728243 0.72098219 0.72059667 0.69955683\n",
            " 0.66610932 0.63079256 0.60439336 0.59412163 0.59839189 0.60526431\n",
            " 0.60739398 0.60402513 0.59272194 0.57281584 0.54517752 0.51213551\n",
            " 0.47707251 0.44380674 0.41583434 0.39554763]\n",
            "2 day output [[0.38376737]]\n",
            "3 day input [0.47743371 0.50147319 0.53446239 0.56854385 0.59760565 0.61824602\n",
            " 0.62963831 0.63331217 0.62980801 0.62142861 0.61085695 0.60151792\n",
            " 0.59598362 0.59564573 0.59989959 0.60646331 0.61236215 0.61443543\n",
            " 0.61019528 0.59849447 0.57968163 0.55524755 0.52783084 0.50033879\n",
            " 0.47562718 0.45566511 0.44151923 0.43335742 0.42928559 0.42830136\n",
            " 0.42875993 0.42906463 0.42809772 0.42557144 0.42260748 0.42224249\n",
            " 0.42853105 0.44533399 0.47475976 0.51533324 0.56339693 0.61337185\n",
            " 0.65610415 0.68764889 0.70385963 0.70325637 0.68791938 0.66344905\n",
            " 0.6375879  0.61849421 0.61185455 0.61874878 0.63406974 0.64832938\n",
            " 0.65200084 0.63962382 0.609317   0.56636262 0.518206   0.47169417\n",
            " 0.43224791 0.40337086 0.38638264 0.38066491 0.38336918 0.39098474\n",
            " 0.39992014 0.40705466 0.41010147 0.40804145 0.40145802 0.39435366\n",
            " 0.3930327  0.40408707 0.43133217 0.47478098 0.53101623 0.59325266\n",
            " 0.65207452 0.69728243 0.72098219 0.72059667 0.69955683 0.66610932\n",
            " 0.63079256 0.60439336 0.59412163 0.59839189 0.60526431 0.60739398\n",
            " 0.60402513 0.59272194 0.57281584 0.54517752 0.51213551 0.47707251\n",
            " 0.44380674 0.41583434 0.39554763 0.38376737]\n",
            "3 day output [[0.37980524]]\n",
            "4 day input [0.50147319 0.53446239 0.56854385 0.59760565 0.61824602 0.62963831\n",
            " 0.63331217 0.62980801 0.62142861 0.61085695 0.60151792 0.59598362\n",
            " 0.59564573 0.59989959 0.60646331 0.61236215 0.61443543 0.61019528\n",
            " 0.59849447 0.57968163 0.55524755 0.52783084 0.50033879 0.47562718\n",
            " 0.45566511 0.44151923 0.43335742 0.42928559 0.42830136 0.42875993\n",
            " 0.42906463 0.42809772 0.42557144 0.42260748 0.42224249 0.42853105\n",
            " 0.44533399 0.47475976 0.51533324 0.56339693 0.61337185 0.65610415\n",
            " 0.68764889 0.70385963 0.70325637 0.68791938 0.66344905 0.6375879\n",
            " 0.61849421 0.61185455 0.61874878 0.63406974 0.64832938 0.65200084\n",
            " 0.63962382 0.609317   0.56636262 0.518206   0.47169417 0.43224791\n",
            " 0.40337086 0.38638264 0.38066491 0.38336918 0.39098474 0.39992014\n",
            " 0.40705466 0.41010147 0.40804145 0.40145802 0.39435366 0.3930327\n",
            " 0.40408707 0.43133217 0.47478098 0.53101623 0.59325266 0.65207452\n",
            " 0.69728243 0.72098219 0.72059667 0.69955683 0.66610932 0.63079256\n",
            " 0.60439336 0.59412163 0.59839189 0.60526431 0.60739398 0.60402513\n",
            " 0.59272194 0.57281584 0.54517752 0.51213551 0.47707251 0.44380674\n",
            " 0.41583434 0.39554763 0.38376737 0.37980524]\n",
            "4 day output [[0.38181514]]\n",
            "5 day input [0.53446239 0.56854385 0.59760565 0.61824602 0.62963831 0.63331217\n",
            " 0.62980801 0.62142861 0.61085695 0.60151792 0.59598362 0.59564573\n",
            " 0.59989959 0.60646331 0.61236215 0.61443543 0.61019528 0.59849447\n",
            " 0.57968163 0.55524755 0.52783084 0.50033879 0.47562718 0.45566511\n",
            " 0.44151923 0.43335742 0.42928559 0.42830136 0.42875993 0.42906463\n",
            " 0.42809772 0.42557144 0.42260748 0.42224249 0.42853105 0.44533399\n",
            " 0.47475976 0.51533324 0.56339693 0.61337185 0.65610415 0.68764889\n",
            " 0.70385963 0.70325637 0.68791938 0.66344905 0.6375879  0.61849421\n",
            " 0.61185455 0.61874878 0.63406974 0.64832938 0.65200084 0.63962382\n",
            " 0.609317   0.56636262 0.518206   0.47169417 0.43224791 0.40337086\n",
            " 0.38638264 0.38066491 0.38336918 0.39098474 0.39992014 0.40705466\n",
            " 0.41010147 0.40804145 0.40145802 0.39435366 0.3930327  0.40408707\n",
            " 0.43133217 0.47478098 0.53101623 0.59325266 0.65207452 0.69728243\n",
            " 0.72098219 0.72059667 0.69955683 0.66610932 0.63079256 0.60439336\n",
            " 0.59412163 0.59839189 0.60526431 0.60739398 0.60402513 0.59272194\n",
            " 0.57281584 0.54517752 0.51213551 0.47707251 0.44380674 0.41583434\n",
            " 0.39554763 0.38376737 0.37980524 0.38181514]\n",
            "5 day output [[0.38723317]]\n",
            "6 day input [0.56854385 0.59760565 0.61824602 0.62963831 0.63331217 0.62980801\n",
            " 0.62142861 0.61085695 0.60151792 0.59598362 0.59564573 0.59989959\n",
            " 0.60646331 0.61236215 0.61443543 0.61019528 0.59849447 0.57968163\n",
            " 0.55524755 0.52783084 0.50033879 0.47562718 0.45566511 0.44151923\n",
            " 0.43335742 0.42928559 0.42830136 0.42875993 0.42906463 0.42809772\n",
            " 0.42557144 0.42260748 0.42224249 0.42853105 0.44533399 0.47475976\n",
            " 0.51533324 0.56339693 0.61337185 0.65610415 0.68764889 0.70385963\n",
            " 0.70325637 0.68791938 0.66344905 0.6375879  0.61849421 0.61185455\n",
            " 0.61874878 0.63406974 0.64832938 0.65200084 0.63962382 0.609317\n",
            " 0.56636262 0.518206   0.47169417 0.43224791 0.40337086 0.38638264\n",
            " 0.38066491 0.38336918 0.39098474 0.39992014 0.40705466 0.41010147\n",
            " 0.40804145 0.40145802 0.39435366 0.3930327  0.40408707 0.43133217\n",
            " 0.47478098 0.53101623 0.59325266 0.65207452 0.69728243 0.72098219\n",
            " 0.72059667 0.69955683 0.66610932 0.63079256 0.60439336 0.59412163\n",
            " 0.59839189 0.60526431 0.60739398 0.60402513 0.59272194 0.57281584\n",
            " 0.54517752 0.51213551 0.47707251 0.44380674 0.41583434 0.39554763\n",
            " 0.38376737 0.37980524 0.38181514 0.38723317]\n",
            "6 day output [[0.39322293]]\n",
            "7 day input [0.59760565 0.61824602 0.62963831 0.63331217 0.62980801 0.62142861\n",
            " 0.61085695 0.60151792 0.59598362 0.59564573 0.59989959 0.60646331\n",
            " 0.61236215 0.61443543 0.61019528 0.59849447 0.57968163 0.55524755\n",
            " 0.52783084 0.50033879 0.47562718 0.45566511 0.44151923 0.43335742\n",
            " 0.42928559 0.42830136 0.42875993 0.42906463 0.42809772 0.42557144\n",
            " 0.42260748 0.42224249 0.42853105 0.44533399 0.47475976 0.51533324\n",
            " 0.56339693 0.61337185 0.65610415 0.68764889 0.70385963 0.70325637\n",
            " 0.68791938 0.66344905 0.6375879  0.61849421 0.61185455 0.61874878\n",
            " 0.63406974 0.64832938 0.65200084 0.63962382 0.609317   0.56636262\n",
            " 0.518206   0.47169417 0.43224791 0.40337086 0.38638264 0.38066491\n",
            " 0.38336918 0.39098474 0.39992014 0.40705466 0.41010147 0.40804145\n",
            " 0.40145802 0.39435366 0.3930327  0.40408707 0.43133217 0.47478098\n",
            " 0.53101623 0.59325266 0.65207452 0.69728243 0.72098219 0.72059667\n",
            " 0.69955683 0.66610932 0.63079256 0.60439336 0.59412163 0.59839189\n",
            " 0.60526431 0.60739398 0.60402513 0.59272194 0.57281584 0.54517752\n",
            " 0.51213551 0.47707251 0.44380674 0.41583434 0.39554763 0.38376737\n",
            " 0.37980524 0.38181514 0.38723317 0.39322293]\n",
            "7 day output [[0.39726478]]\n",
            "8 day input [0.61824602 0.62963831 0.63331217 0.62980801 0.62142861 0.61085695\n",
            " 0.60151792 0.59598362 0.59564573 0.59989959 0.60646331 0.61236215\n",
            " 0.61443543 0.61019528 0.59849447 0.57968163 0.55524755 0.52783084\n",
            " 0.50033879 0.47562718 0.45566511 0.44151923 0.43335742 0.42928559\n",
            " 0.42830136 0.42875993 0.42906463 0.42809772 0.42557144 0.42260748\n",
            " 0.42224249 0.42853105 0.44533399 0.47475976 0.51533324 0.56339693\n",
            " 0.61337185 0.65610415 0.68764889 0.70385963 0.70325637 0.68791938\n",
            " 0.66344905 0.6375879  0.61849421 0.61185455 0.61874878 0.63406974\n",
            " 0.64832938 0.65200084 0.63962382 0.609317   0.56636262 0.518206\n",
            " 0.47169417 0.43224791 0.40337086 0.38638264 0.38066491 0.38336918\n",
            " 0.39098474 0.39992014 0.40705466 0.41010147 0.40804145 0.40145802\n",
            " 0.39435366 0.3930327  0.40408707 0.43133217 0.47478098 0.53101623\n",
            " 0.59325266 0.65207452 0.69728243 0.72098219 0.72059667 0.69955683\n",
            " 0.66610932 0.63079256 0.60439336 0.59412163 0.59839189 0.60526431\n",
            " 0.60739398 0.60402513 0.59272194 0.57281584 0.54517752 0.51213551\n",
            " 0.47707251 0.44380674 0.41583434 0.39554763 0.38376737 0.37980524\n",
            " 0.38181514 0.38723317 0.39322293 0.39726478]\n",
            "8 day output [[0.3981657]]\n",
            "9 day input [0.62963831 0.63331217 0.62980801 0.62142861 0.61085695 0.60151792\n",
            " 0.59598362 0.59564573 0.59989959 0.60646331 0.61236215 0.61443543\n",
            " 0.61019528 0.59849447 0.57968163 0.55524755 0.52783084 0.50033879\n",
            " 0.47562718 0.45566511 0.44151923 0.43335742 0.42928559 0.42830136\n",
            " 0.42875993 0.42906463 0.42809772 0.42557144 0.42260748 0.42224249\n",
            " 0.42853105 0.44533399 0.47475976 0.51533324 0.56339693 0.61337185\n",
            " 0.65610415 0.68764889 0.70385963 0.70325637 0.68791938 0.66344905\n",
            " 0.6375879  0.61849421 0.61185455 0.61874878 0.63406974 0.64832938\n",
            " 0.65200084 0.63962382 0.609317   0.56636262 0.518206   0.47169417\n",
            " 0.43224791 0.40337086 0.38638264 0.38066491 0.38336918 0.39098474\n",
            " 0.39992014 0.40705466 0.41010147 0.40804145 0.40145802 0.39435366\n",
            " 0.3930327  0.40408707 0.43133217 0.47478098 0.53101623 0.59325266\n",
            " 0.65207452 0.69728243 0.72098219 0.72059667 0.69955683 0.66610932\n",
            " 0.63079256 0.60439336 0.59412163 0.59839189 0.60526431 0.60739398\n",
            " 0.60402513 0.59272194 0.57281584 0.54517752 0.51213551 0.47707251\n",
            " 0.44380674 0.41583434 0.39554763 0.38376737 0.37980524 0.38181514\n",
            " 0.38723317 0.39322293 0.39726478 0.3981657 ]\n",
            "9 day output [[0.39748356]]\n",
            "10 day input [0.63331217 0.62980801 0.62142861 0.61085695 0.60151792 0.59598362\n",
            " 0.59564573 0.59989959 0.60646331 0.61236215 0.61443543 0.61019528\n",
            " 0.59849447 0.57968163 0.55524755 0.52783084 0.50033879 0.47562718\n",
            " 0.45566511 0.44151923 0.43335742 0.42928559 0.42830136 0.42875993\n",
            " 0.42906463 0.42809772 0.42557144 0.42260748 0.42224249 0.42853105\n",
            " 0.44533399 0.47475976 0.51533324 0.56339693 0.61337185 0.65610415\n",
            " 0.68764889 0.70385963 0.70325637 0.68791938 0.66344905 0.6375879\n",
            " 0.61849421 0.61185455 0.61874878 0.63406974 0.64832938 0.65200084\n",
            " 0.63962382 0.609317   0.56636262 0.518206   0.47169417 0.43224791\n",
            " 0.40337086 0.38638264 0.38066491 0.38336918 0.39098474 0.39992014\n",
            " 0.40705466 0.41010147 0.40804145 0.40145802 0.39435366 0.3930327\n",
            " 0.40408707 0.43133217 0.47478098 0.53101623 0.59325266 0.65207452\n",
            " 0.69728243 0.72098219 0.72059667 0.69955683 0.66610932 0.63079256\n",
            " 0.60439336 0.59412163 0.59839189 0.60526431 0.60739398 0.60402513\n",
            " 0.59272194 0.57281584 0.54517752 0.51213551 0.47707251 0.44380674\n",
            " 0.41583434 0.39554763 0.38376737 0.37980524 0.38181514 0.38723317\n",
            " 0.39322293 0.39726478 0.3981657  0.39748356]\n",
            "10 day output [[0.4002378]]\n",
            "11 day input [0.62980801 0.62142861 0.61085695 0.60151792 0.59598362 0.59564573\n",
            " 0.59989959 0.60646331 0.61236215 0.61443543 0.61019528 0.59849447\n",
            " 0.57968163 0.55524755 0.52783084 0.50033879 0.47562718 0.45566511\n",
            " 0.44151923 0.43335742 0.42928559 0.42830136 0.42875993 0.42906463\n",
            " 0.42809772 0.42557144 0.42260748 0.42224249 0.42853105 0.44533399\n",
            " 0.47475976 0.51533324 0.56339693 0.61337185 0.65610415 0.68764889\n",
            " 0.70385963 0.70325637 0.68791938 0.66344905 0.6375879  0.61849421\n",
            " 0.61185455 0.61874878 0.63406974 0.64832938 0.65200084 0.63962382\n",
            " 0.609317   0.56636262 0.518206   0.47169417 0.43224791 0.40337086\n",
            " 0.38638264 0.38066491 0.38336918 0.39098474 0.39992014 0.40705466\n",
            " 0.41010147 0.40804145 0.40145802 0.39435366 0.3930327  0.40408707\n",
            " 0.43133217 0.47478098 0.53101623 0.59325266 0.65207452 0.69728243\n",
            " 0.72098219 0.72059667 0.69955683 0.66610932 0.63079256 0.60439336\n",
            " 0.59412163 0.59839189 0.60526431 0.60739398 0.60402513 0.59272194\n",
            " 0.57281584 0.54517752 0.51213551 0.47707251 0.44380674 0.41583434\n",
            " 0.39554763 0.38376737 0.37980524 0.38181514 0.38723317 0.39322293\n",
            " 0.39726478 0.3981657  0.39748356 0.4002378 ]\n",
            "11 day output [[0.41307107]]\n",
            "12 day input [0.62142861 0.61085695 0.60151792 0.59598362 0.59564573 0.59989959\n",
            " 0.60646331 0.61236215 0.61443543 0.61019528 0.59849447 0.57968163\n",
            " 0.55524755 0.52783084 0.50033879 0.47562718 0.45566511 0.44151923\n",
            " 0.43335742 0.42928559 0.42830136 0.42875993 0.42906463 0.42809772\n",
            " 0.42557144 0.42260748 0.42224249 0.42853105 0.44533399 0.47475976\n",
            " 0.51533324 0.56339693 0.61337185 0.65610415 0.68764889 0.70385963\n",
            " 0.70325637 0.68791938 0.66344905 0.6375879  0.61849421 0.61185455\n",
            " 0.61874878 0.63406974 0.64832938 0.65200084 0.63962382 0.609317\n",
            " 0.56636262 0.518206   0.47169417 0.43224791 0.40337086 0.38638264\n",
            " 0.38066491 0.38336918 0.39098474 0.39992014 0.40705466 0.41010147\n",
            " 0.40804145 0.40145802 0.39435366 0.3930327  0.40408707 0.43133217\n",
            " 0.47478098 0.53101623 0.59325266 0.65207452 0.69728243 0.72098219\n",
            " 0.72059667 0.69955683 0.66610932 0.63079256 0.60439336 0.59412163\n",
            " 0.59839189 0.60526431 0.60739398 0.60402513 0.59272194 0.57281584\n",
            " 0.54517752 0.51213551 0.47707251 0.44380674 0.41583434 0.39554763\n",
            " 0.38376737 0.37980524 0.38181514 0.38723317 0.39322293 0.39726478\n",
            " 0.3981657  0.39748356 0.4002378  0.41307107]\n",
            "12 day output [[0.44055226]]\n",
            "13 day input [0.61085695 0.60151792 0.59598362 0.59564573 0.59989959 0.60646331\n",
            " 0.61236215 0.61443543 0.61019528 0.59849447 0.57968163 0.55524755\n",
            " 0.52783084 0.50033879 0.47562718 0.45566511 0.44151923 0.43335742\n",
            " 0.42928559 0.42830136 0.42875993 0.42906463 0.42809772 0.42557144\n",
            " 0.42260748 0.42224249 0.42853105 0.44533399 0.47475976 0.51533324\n",
            " 0.56339693 0.61337185 0.65610415 0.68764889 0.70385963 0.70325637\n",
            " 0.68791938 0.66344905 0.6375879  0.61849421 0.61185455 0.61874878\n",
            " 0.63406974 0.64832938 0.65200084 0.63962382 0.609317   0.56636262\n",
            " 0.518206   0.47169417 0.43224791 0.40337086 0.38638264 0.38066491\n",
            " 0.38336918 0.39098474 0.39992014 0.40705466 0.41010147 0.40804145\n",
            " 0.40145802 0.39435366 0.3930327  0.40408707 0.43133217 0.47478098\n",
            " 0.53101623 0.59325266 0.65207452 0.69728243 0.72098219 0.72059667\n",
            " 0.69955683 0.66610932 0.63079256 0.60439336 0.59412163 0.59839189\n",
            " 0.60526431 0.60739398 0.60402513 0.59272194 0.57281584 0.54517752\n",
            " 0.51213551 0.47707251 0.44380674 0.41583434 0.39554763 0.38376737\n",
            " 0.37980524 0.38181514 0.38723317 0.39322293 0.39726478 0.3981657\n",
            " 0.39748356 0.4002378  0.41307107 0.44055226]\n",
            "13 day output [[0.48314762]]\n",
            "14 day input [0.60151792 0.59598362 0.59564573 0.59989959 0.60646331 0.61236215\n",
            " 0.61443543 0.61019528 0.59849447 0.57968163 0.55524755 0.52783084\n",
            " 0.50033879 0.47562718 0.45566511 0.44151923 0.43335742 0.42928559\n",
            " 0.42830136 0.42875993 0.42906463 0.42809772 0.42557144 0.42260748\n",
            " 0.42224249 0.42853105 0.44533399 0.47475976 0.51533324 0.56339693\n",
            " 0.61337185 0.65610415 0.68764889 0.70385963 0.70325637 0.68791938\n",
            " 0.66344905 0.6375879  0.61849421 0.61185455 0.61874878 0.63406974\n",
            " 0.64832938 0.65200084 0.63962382 0.609317   0.56636262 0.518206\n",
            " 0.47169417 0.43224791 0.40337086 0.38638264 0.38066491 0.38336918\n",
            " 0.39098474 0.39992014 0.40705466 0.41010147 0.40804145 0.40145802\n",
            " 0.39435366 0.3930327  0.40408707 0.43133217 0.47478098 0.53101623\n",
            " 0.59325266 0.65207452 0.69728243 0.72098219 0.72059667 0.69955683\n",
            " 0.66610932 0.63079256 0.60439336 0.59412163 0.59839189 0.60526431\n",
            " 0.60739398 0.60402513 0.59272194 0.57281584 0.54517752 0.51213551\n",
            " 0.47707251 0.44380674 0.41583434 0.39554763 0.38376737 0.37980524\n",
            " 0.38181514 0.38723317 0.39322293 0.39726478 0.3981657  0.39748356\n",
            " 0.4002378  0.41307107 0.44055226 0.48314762]\n",
            "14 day output [[0.5375711]]\n",
            "15 day input [0.59598362 0.59564573 0.59989959 0.60646331 0.61236215 0.61443543\n",
            " 0.61019528 0.59849447 0.57968163 0.55524755 0.52783084 0.50033879\n",
            " 0.47562718 0.45566511 0.44151923 0.43335742 0.42928559 0.42830136\n",
            " 0.42875993 0.42906463 0.42809772 0.42557144 0.42260748 0.42224249\n",
            " 0.42853105 0.44533399 0.47475976 0.51533324 0.56339693 0.61337185\n",
            " 0.65610415 0.68764889 0.70385963 0.70325637 0.68791938 0.66344905\n",
            " 0.6375879  0.61849421 0.61185455 0.61874878 0.63406974 0.64832938\n",
            " 0.65200084 0.63962382 0.609317   0.56636262 0.518206   0.47169417\n",
            " 0.43224791 0.40337086 0.38638264 0.38066491 0.38336918 0.39098474\n",
            " 0.39992014 0.40705466 0.41010147 0.40804145 0.40145802 0.39435366\n",
            " 0.3930327  0.40408707 0.43133217 0.47478098 0.53101623 0.59325266\n",
            " 0.65207452 0.69728243 0.72098219 0.72059667 0.69955683 0.66610932\n",
            " 0.63079256 0.60439336 0.59412163 0.59839189 0.60526431 0.60739398\n",
            " 0.60402513 0.59272194 0.57281584 0.54517752 0.51213551 0.47707251\n",
            " 0.44380674 0.41583434 0.39554763 0.38376737 0.37980524 0.38181514\n",
            " 0.38723317 0.39322293 0.39726478 0.3981657  0.39748356 0.4002378\n",
            " 0.41307107 0.44055226 0.48314762 0.53757107]\n",
            "15 day output [[0.5972958]]\n",
            "16 day input [0.59564573 0.59989959 0.60646331 0.61236215 0.61443543 0.61019528\n",
            " 0.59849447 0.57968163 0.55524755 0.52783084 0.50033879 0.47562718\n",
            " 0.45566511 0.44151923 0.43335742 0.42928559 0.42830136 0.42875993\n",
            " 0.42906463 0.42809772 0.42557144 0.42260748 0.42224249 0.42853105\n",
            " 0.44533399 0.47475976 0.51533324 0.56339693 0.61337185 0.65610415\n",
            " 0.68764889 0.70385963 0.70325637 0.68791938 0.66344905 0.6375879\n",
            " 0.61849421 0.61185455 0.61874878 0.63406974 0.64832938 0.65200084\n",
            " 0.63962382 0.609317   0.56636262 0.518206   0.47169417 0.43224791\n",
            " 0.40337086 0.38638264 0.38066491 0.38336918 0.39098474 0.39992014\n",
            " 0.40705466 0.41010147 0.40804145 0.40145802 0.39435366 0.3930327\n",
            " 0.40408707 0.43133217 0.47478098 0.53101623 0.59325266 0.65207452\n",
            " 0.69728243 0.72098219 0.72059667 0.69955683 0.66610932 0.63079256\n",
            " 0.60439336 0.59412163 0.59839189 0.60526431 0.60739398 0.60402513\n",
            " 0.59272194 0.57281584 0.54517752 0.51213551 0.47707251 0.44380674\n",
            " 0.41583434 0.39554763 0.38376737 0.37980524 0.38181514 0.38723317\n",
            " 0.39322293 0.39726478 0.3981657  0.39748356 0.4002378  0.41307107\n",
            " 0.44055226 0.48314762 0.53757107 0.59729582]\n",
            "16 day output [[0.65301037]]\n",
            "17 day input [0.59989959 0.60646331 0.61236215 0.61443543 0.61019528 0.59849447\n",
            " 0.57968163 0.55524755 0.52783084 0.50033879 0.47562718 0.45566511\n",
            " 0.44151923 0.43335742 0.42928559 0.42830136 0.42875993 0.42906463\n",
            " 0.42809772 0.42557144 0.42260748 0.42224249 0.42853105 0.44533399\n",
            " 0.47475976 0.51533324 0.56339693 0.61337185 0.65610415 0.68764889\n",
            " 0.70385963 0.70325637 0.68791938 0.66344905 0.6375879  0.61849421\n",
            " 0.61185455 0.61874878 0.63406974 0.64832938 0.65200084 0.63962382\n",
            " 0.609317   0.56636262 0.518206   0.47169417 0.43224791 0.40337086\n",
            " 0.38638264 0.38066491 0.38336918 0.39098474 0.39992014 0.40705466\n",
            " 0.41010147 0.40804145 0.40145802 0.39435366 0.3930327  0.40408707\n",
            " 0.43133217 0.47478098 0.53101623 0.59325266 0.65207452 0.69728243\n",
            " 0.72098219 0.72059667 0.69955683 0.66610932 0.63079256 0.60439336\n",
            " 0.59412163 0.59839189 0.60526431 0.60739398 0.60402513 0.59272194\n",
            " 0.57281584 0.54517752 0.51213551 0.47707251 0.44380674 0.41583434\n",
            " 0.39554763 0.38376737 0.37980524 0.38181514 0.38723317 0.39322293\n",
            " 0.39726478 0.3981657  0.39748356 0.4002378  0.41307107 0.44055226\n",
            " 0.48314762 0.53757107 0.59729582 0.65301037]\n",
            "17 day output [[0.6945999]]\n",
            "18 day input [0.60646331 0.61236215 0.61443543 0.61019528 0.59849447 0.57968163\n",
            " 0.55524755 0.52783084 0.50033879 0.47562718 0.45566511 0.44151923\n",
            " 0.43335742 0.42928559 0.42830136 0.42875993 0.42906463 0.42809772\n",
            " 0.42557144 0.42260748 0.42224249 0.42853105 0.44533399 0.47475976\n",
            " 0.51533324 0.56339693 0.61337185 0.65610415 0.68764889 0.70385963\n",
            " 0.70325637 0.68791938 0.66344905 0.6375879  0.61849421 0.61185455\n",
            " 0.61874878 0.63406974 0.64832938 0.65200084 0.63962382 0.609317\n",
            " 0.56636262 0.518206   0.47169417 0.43224791 0.40337086 0.38638264\n",
            " 0.38066491 0.38336918 0.39098474 0.39992014 0.40705466 0.41010147\n",
            " 0.40804145 0.40145802 0.39435366 0.3930327  0.40408707 0.43133217\n",
            " 0.47478098 0.53101623 0.59325266 0.65207452 0.69728243 0.72098219\n",
            " 0.72059667 0.69955683 0.66610932 0.63079256 0.60439336 0.59412163\n",
            " 0.59839189 0.60526431 0.60739398 0.60402513 0.59272194 0.57281584\n",
            " 0.54517752 0.51213551 0.47707251 0.44380674 0.41583434 0.39554763\n",
            " 0.38376737 0.37980524 0.38181514 0.38723317 0.39322293 0.39726478\n",
            " 0.3981657  0.39748356 0.4002378  0.41307107 0.44055226 0.48314762\n",
            " 0.53757107 0.59729582 0.65301037 0.69459993]\n",
            "18 day output [[0.71464854]]\n",
            "19 day input [0.61236215 0.61443543 0.61019528 0.59849447 0.57968163 0.55524755\n",
            " 0.52783084 0.50033879 0.47562718 0.45566511 0.44151923 0.43335742\n",
            " 0.42928559 0.42830136 0.42875993 0.42906463 0.42809772 0.42557144\n",
            " 0.42260748 0.42224249 0.42853105 0.44533399 0.47475976 0.51533324\n",
            " 0.56339693 0.61337185 0.65610415 0.68764889 0.70385963 0.70325637\n",
            " 0.68791938 0.66344905 0.6375879  0.61849421 0.61185455 0.61874878\n",
            " 0.63406974 0.64832938 0.65200084 0.63962382 0.609317   0.56636262\n",
            " 0.518206   0.47169417 0.43224791 0.40337086 0.38638264 0.38066491\n",
            " 0.38336918 0.39098474 0.39992014 0.40705466 0.41010147 0.40804145\n",
            " 0.40145802 0.39435366 0.3930327  0.40408707 0.43133217 0.47478098\n",
            " 0.53101623 0.59325266 0.65207452 0.69728243 0.72098219 0.72059667\n",
            " 0.69955683 0.66610932 0.63079256 0.60439336 0.59412163 0.59839189\n",
            " 0.60526431 0.60739398 0.60402513 0.59272194 0.57281584 0.54517752\n",
            " 0.51213551 0.47707251 0.44380674 0.41583434 0.39554763 0.38376737\n",
            " 0.37980524 0.38181514 0.38723317 0.39322293 0.39726478 0.3981657\n",
            " 0.39748356 0.4002378  0.41307107 0.44055226 0.48314762 0.53757107\n",
            " 0.59729582 0.65301037 0.69459993 0.71464854]\n",
            "19 day output [[0.7112836]]\n",
            "20 day input [0.61443543 0.61019528 0.59849447 0.57968163 0.55524755 0.52783084\n",
            " 0.50033879 0.47562718 0.45566511 0.44151923 0.43335742 0.42928559\n",
            " 0.42830136 0.42875993 0.42906463 0.42809772 0.42557144 0.42260748\n",
            " 0.42224249 0.42853105 0.44533399 0.47475976 0.51533324 0.56339693\n",
            " 0.61337185 0.65610415 0.68764889 0.70385963 0.70325637 0.68791938\n",
            " 0.66344905 0.6375879  0.61849421 0.61185455 0.61874878 0.63406974\n",
            " 0.64832938 0.65200084 0.63962382 0.609317   0.56636262 0.518206\n",
            " 0.47169417 0.43224791 0.40337086 0.38638264 0.38066491 0.38336918\n",
            " 0.39098474 0.39992014 0.40705466 0.41010147 0.40804145 0.40145802\n",
            " 0.39435366 0.3930327  0.40408707 0.43133217 0.47478098 0.53101623\n",
            " 0.59325266 0.65207452 0.69728243 0.72098219 0.72059667 0.69955683\n",
            " 0.66610932 0.63079256 0.60439336 0.59412163 0.59839189 0.60526431\n",
            " 0.60739398 0.60402513 0.59272194 0.57281584 0.54517752 0.51213551\n",
            " 0.47707251 0.44380674 0.41583434 0.39554763 0.38376737 0.37980524\n",
            " 0.38181514 0.38723317 0.39322293 0.39726478 0.3981657  0.39748356\n",
            " 0.4002378  0.41307107 0.44055226 0.48314762 0.53757107 0.59729582\n",
            " 0.65301037 0.69459993 0.71464854 0.71128362]\n",
            "20 day output [[0.68877333]]\n",
            "21 day input [0.61019528 0.59849447 0.57968163 0.55524755 0.52783084 0.50033879\n",
            " 0.47562718 0.45566511 0.44151923 0.43335742 0.42928559 0.42830136\n",
            " 0.42875993 0.42906463 0.42809772 0.42557144 0.42260748 0.42224249\n",
            " 0.42853105 0.44533399 0.47475976 0.51533324 0.56339693 0.61337185\n",
            " 0.65610415 0.68764889 0.70385963 0.70325637 0.68791938 0.66344905\n",
            " 0.6375879  0.61849421 0.61185455 0.61874878 0.63406974 0.64832938\n",
            " 0.65200084 0.63962382 0.609317   0.56636262 0.518206   0.47169417\n",
            " 0.43224791 0.40337086 0.38638264 0.38066491 0.38336918 0.39098474\n",
            " 0.39992014 0.40705466 0.41010147 0.40804145 0.40145802 0.39435366\n",
            " 0.3930327  0.40408707 0.43133217 0.47478098 0.53101623 0.59325266\n",
            " 0.65207452 0.69728243 0.72098219 0.72059667 0.69955683 0.66610932\n",
            " 0.63079256 0.60439336 0.59412163 0.59839189 0.60526431 0.60739398\n",
            " 0.60402513 0.59272194 0.57281584 0.54517752 0.51213551 0.47707251\n",
            " 0.44380674 0.41583434 0.39554763 0.38376737 0.37980524 0.38181514\n",
            " 0.38723317 0.39322293 0.39726478 0.3981657  0.39748356 0.4002378\n",
            " 0.41307107 0.44055226 0.48314762 0.53757107 0.59729582 0.65301037\n",
            " 0.69459993 0.71464854 0.71128362 0.68877333]\n",
            "21 day output [[0.6561239]]\n",
            "22 day input [0.59849447 0.57968163 0.55524755 0.52783084 0.50033879 0.47562718\n",
            " 0.45566511 0.44151923 0.43335742 0.42928559 0.42830136 0.42875993\n",
            " 0.42906463 0.42809772 0.42557144 0.42260748 0.42224249 0.42853105\n",
            " 0.44533399 0.47475976 0.51533324 0.56339693 0.61337185 0.65610415\n",
            " 0.68764889 0.70385963 0.70325637 0.68791938 0.66344905 0.6375879\n",
            " 0.61849421 0.61185455 0.61874878 0.63406974 0.64832938 0.65200084\n",
            " 0.63962382 0.609317   0.56636262 0.518206   0.47169417 0.43224791\n",
            " 0.40337086 0.38638264 0.38066491 0.38336918 0.39098474 0.39992014\n",
            " 0.40705466 0.41010147 0.40804145 0.40145802 0.39435366 0.3930327\n",
            " 0.40408707 0.43133217 0.47478098 0.53101623 0.59325266 0.65207452\n",
            " 0.69728243 0.72098219 0.72059667 0.69955683 0.66610932 0.63079256\n",
            " 0.60439336 0.59412163 0.59839189 0.60526431 0.60739398 0.60402513\n",
            " 0.59272194 0.57281584 0.54517752 0.51213551 0.47707251 0.44380674\n",
            " 0.41583434 0.39554763 0.38376737 0.37980524 0.38181514 0.38723317\n",
            " 0.39322293 0.39726478 0.3981657  0.39748356 0.4002378  0.41307107\n",
            " 0.44055226 0.48314762 0.53757107 0.59729582 0.65301037 0.69459993\n",
            " 0.71464854 0.71128362 0.68877333 0.65612388]\n",
            "22 day output [[0.6244349]]\n",
            "23 day input [0.57968163 0.55524755 0.52783084 0.50033879 0.47562718 0.45566511\n",
            " 0.44151923 0.43335742 0.42928559 0.42830136 0.42875993 0.42906463\n",
            " 0.42809772 0.42557144 0.42260748 0.42224249 0.42853105 0.44533399\n",
            " 0.47475976 0.51533324 0.56339693 0.61337185 0.65610415 0.68764889\n",
            " 0.70385963 0.70325637 0.68791938 0.66344905 0.6375879  0.61849421\n",
            " 0.61185455 0.61874878 0.63406974 0.64832938 0.65200084 0.63962382\n",
            " 0.609317   0.56636262 0.518206   0.47169417 0.43224791 0.40337086\n",
            " 0.38638264 0.38066491 0.38336918 0.39098474 0.39992014 0.40705466\n",
            " 0.41010147 0.40804145 0.40145802 0.39435366 0.3930327  0.40408707\n",
            " 0.43133217 0.47478098 0.53101623 0.59325266 0.65207452 0.69728243\n",
            " 0.72098219 0.72059667 0.69955683 0.66610932 0.63079256 0.60439336\n",
            " 0.59412163 0.59839189 0.60526431 0.60739398 0.60402513 0.59272194\n",
            " 0.57281584 0.54517752 0.51213551 0.47707251 0.44380674 0.41583434\n",
            " 0.39554763 0.38376737 0.37980524 0.38181514 0.38723317 0.39322293\n",
            " 0.39726478 0.3981657  0.39748356 0.4002378  0.41307107 0.44055226\n",
            " 0.48314762 0.53757107 0.59729582 0.65301037 0.69459993 0.71464854\n",
            " 0.71128362 0.68877333 0.65612388 0.62443489]\n",
            "23 day output [[0.60324794]]\n",
            "24 day input [0.55524755 0.52783084 0.50033879 0.47562718 0.45566511 0.44151923\n",
            " 0.43335742 0.42928559 0.42830136 0.42875993 0.42906463 0.42809772\n",
            " 0.42557144 0.42260748 0.42224249 0.42853105 0.44533399 0.47475976\n",
            " 0.51533324 0.56339693 0.61337185 0.65610415 0.68764889 0.70385963\n",
            " 0.70325637 0.68791938 0.66344905 0.6375879  0.61849421 0.61185455\n",
            " 0.61874878 0.63406974 0.64832938 0.65200084 0.63962382 0.609317\n",
            " 0.56636262 0.518206   0.47169417 0.43224791 0.40337086 0.38638264\n",
            " 0.38066491 0.38336918 0.39098474 0.39992014 0.40705466 0.41010147\n",
            " 0.40804145 0.40145802 0.39435366 0.3930327  0.40408707 0.43133217\n",
            " 0.47478098 0.53101623 0.59325266 0.65207452 0.69728243 0.72098219\n",
            " 0.72059667 0.69955683 0.66610932 0.63079256 0.60439336 0.59412163\n",
            " 0.59839189 0.60526431 0.60739398 0.60402513 0.59272194 0.57281584\n",
            " 0.54517752 0.51213551 0.47707251 0.44380674 0.41583434 0.39554763\n",
            " 0.38376737 0.37980524 0.38181514 0.38723317 0.39322293 0.39726478\n",
            " 0.3981657  0.39748356 0.4002378  0.41307107 0.44055226 0.48314762\n",
            " 0.53757107 0.59729582 0.65301037 0.69459993 0.71464854 0.71128362\n",
            " 0.68877333 0.65612388 0.62443489 0.60324794]\n",
            "24 day output [[0.5967132]]\n",
            "25 day input [0.52783084 0.50033879 0.47562718 0.45566511 0.44151923 0.43335742\n",
            " 0.42928559 0.42830136 0.42875993 0.42906463 0.42809772 0.42557144\n",
            " 0.42260748 0.42224249 0.42853105 0.44533399 0.47475976 0.51533324\n",
            " 0.56339693 0.61337185 0.65610415 0.68764889 0.70385963 0.70325637\n",
            " 0.68791938 0.66344905 0.6375879  0.61849421 0.61185455 0.61874878\n",
            " 0.63406974 0.64832938 0.65200084 0.63962382 0.609317   0.56636262\n",
            " 0.518206   0.47169417 0.43224791 0.40337086 0.38638264 0.38066491\n",
            " 0.38336918 0.39098474 0.39992014 0.40705466 0.41010147 0.40804145\n",
            " 0.40145802 0.39435366 0.3930327  0.40408707 0.43133217 0.47478098\n",
            " 0.53101623 0.59325266 0.65207452 0.69728243 0.72098219 0.72059667\n",
            " 0.69955683 0.66610932 0.63079256 0.60439336 0.59412163 0.59839189\n",
            " 0.60526431 0.60739398 0.60402513 0.59272194 0.57281584 0.54517752\n",
            " 0.51213551 0.47707251 0.44380674 0.41583434 0.39554763 0.38376737\n",
            " 0.37980524 0.38181514 0.38723317 0.39322293 0.39726478 0.3981657\n",
            " 0.39748356 0.4002378  0.41307107 0.44055226 0.48314762 0.53757107\n",
            " 0.59729582 0.65301037 0.69459993 0.71464854 0.71128362 0.68877333\n",
            " 0.65612388 0.62443489 0.60324794 0.59671319]\n",
            "25 day output [[0.6025528]]\n",
            "26 day input [0.50033879 0.47562718 0.45566511 0.44151923 0.43335742 0.42928559\n",
            " 0.42830136 0.42875993 0.42906463 0.42809772 0.42557144 0.42260748\n",
            " 0.42224249 0.42853105 0.44533399 0.47475976 0.51533324 0.56339693\n",
            " 0.61337185 0.65610415 0.68764889 0.70385963 0.70325637 0.68791938\n",
            " 0.66344905 0.6375879  0.61849421 0.61185455 0.61874878 0.63406974\n",
            " 0.64832938 0.65200084 0.63962382 0.609317   0.56636262 0.518206\n",
            " 0.47169417 0.43224791 0.40337086 0.38638264 0.38066491 0.38336918\n",
            " 0.39098474 0.39992014 0.40705466 0.41010147 0.40804145 0.40145802\n",
            " 0.39435366 0.3930327  0.40408707 0.43133217 0.47478098 0.53101623\n",
            " 0.59325266 0.65207452 0.69728243 0.72098219 0.72059667 0.69955683\n",
            " 0.66610932 0.63079256 0.60439336 0.59412163 0.59839189 0.60526431\n",
            " 0.60739398 0.60402513 0.59272194 0.57281584 0.54517752 0.51213551\n",
            " 0.47707251 0.44380674 0.41583434 0.39554763 0.38376737 0.37980524\n",
            " 0.38181514 0.38723317 0.39322293 0.39726478 0.3981657  0.39748356\n",
            " 0.4002378  0.41307107 0.44055226 0.48314762 0.53757107 0.59729582\n",
            " 0.65301037 0.69459993 0.71464854 0.71128362 0.68877333 0.65612388\n",
            " 0.62443489 0.60324794 0.59671319 0.60255277]\n",
            "26 day output [[0.6149069]]\n",
            "27 day input [0.47562718 0.45566511 0.44151923 0.43335742 0.42928559 0.42830136\n",
            " 0.42875993 0.42906463 0.42809772 0.42557144 0.42260748 0.42224249\n",
            " 0.42853105 0.44533399 0.47475976 0.51533324 0.56339693 0.61337185\n",
            " 0.65610415 0.68764889 0.70385963 0.70325637 0.68791938 0.66344905\n",
            " 0.6375879  0.61849421 0.61185455 0.61874878 0.63406974 0.64832938\n",
            " 0.65200084 0.63962382 0.609317   0.56636262 0.518206   0.47169417\n",
            " 0.43224791 0.40337086 0.38638264 0.38066491 0.38336918 0.39098474\n",
            " 0.39992014 0.40705466 0.41010147 0.40804145 0.40145802 0.39435366\n",
            " 0.3930327  0.40408707 0.43133217 0.47478098 0.53101623 0.59325266\n",
            " 0.65207452 0.69728243 0.72098219 0.72059667 0.69955683 0.66610932\n",
            " 0.63079256 0.60439336 0.59412163 0.59839189 0.60526431 0.60739398\n",
            " 0.60402513 0.59272194 0.57281584 0.54517752 0.51213551 0.47707251\n",
            " 0.44380674 0.41583434 0.39554763 0.38376737 0.37980524 0.38181514\n",
            " 0.38723317 0.39322293 0.39726478 0.3981657  0.39748356 0.4002378\n",
            " 0.41307107 0.44055226 0.48314762 0.53757107 0.59729582 0.65301037\n",
            " 0.69459993 0.71464854 0.71128362 0.68877333 0.65612388 0.62443489\n",
            " 0.60324794 0.59671319 0.60255277 0.61490691]\n",
            "27 day output [[0.6273318]]\n",
            "28 day input [0.45566511 0.44151923 0.43335742 0.42928559 0.42830136 0.42875993\n",
            " 0.42906463 0.42809772 0.42557144 0.42260748 0.42224249 0.42853105\n",
            " 0.44533399 0.47475976 0.51533324 0.56339693 0.61337185 0.65610415\n",
            " 0.68764889 0.70385963 0.70325637 0.68791938 0.66344905 0.6375879\n",
            " 0.61849421 0.61185455 0.61874878 0.63406974 0.64832938 0.65200084\n",
            " 0.63962382 0.609317   0.56636262 0.518206   0.47169417 0.43224791\n",
            " 0.40337086 0.38638264 0.38066491 0.38336918 0.39098474 0.39992014\n",
            " 0.40705466 0.41010147 0.40804145 0.40145802 0.39435366 0.3930327\n",
            " 0.40408707 0.43133217 0.47478098 0.53101623 0.59325266 0.65207452\n",
            " 0.69728243 0.72098219 0.72059667 0.69955683 0.66610932 0.63079256\n",
            " 0.60439336 0.59412163 0.59839189 0.60526431 0.60739398 0.60402513\n",
            " 0.59272194 0.57281584 0.54517752 0.51213551 0.47707251 0.44380674\n",
            " 0.41583434 0.39554763 0.38376737 0.37980524 0.38181514 0.38723317\n",
            " 0.39322293 0.39726478 0.3981657  0.39748356 0.4002378  0.41307107\n",
            " 0.44055226 0.48314762 0.53757107 0.59729582 0.65301037 0.69459993\n",
            " 0.71464854 0.71128362 0.68877333 0.65612388 0.62443489 0.60324794\n",
            " 0.59671319 0.60255277 0.61490691 0.62733179]\n",
            "28 day output [[0.6340353]]\n",
            "29 day input [0.44151923 0.43335742 0.42928559 0.42830136 0.42875993 0.42906463\n",
            " 0.42809772 0.42557144 0.42260748 0.42224249 0.42853105 0.44533399\n",
            " 0.47475976 0.51533324 0.56339693 0.61337185 0.65610415 0.68764889\n",
            " 0.70385963 0.70325637 0.68791938 0.66344905 0.6375879  0.61849421\n",
            " 0.61185455 0.61874878 0.63406974 0.64832938 0.65200084 0.63962382\n",
            " 0.609317   0.56636262 0.518206   0.47169417 0.43224791 0.40337086\n",
            " 0.38638264 0.38066491 0.38336918 0.39098474 0.39992014 0.40705466\n",
            " 0.41010147 0.40804145 0.40145802 0.39435366 0.3930327  0.40408707\n",
            " 0.43133217 0.47478098 0.53101623 0.59325266 0.65207452 0.69728243\n",
            " 0.72098219 0.72059667 0.69955683 0.66610932 0.63079256 0.60439336\n",
            " 0.59412163 0.59839189 0.60526431 0.60739398 0.60402513 0.59272194\n",
            " 0.57281584 0.54517752 0.51213551 0.47707251 0.44380674 0.41583434\n",
            " 0.39554763 0.38376737 0.37980524 0.38181514 0.38723317 0.39322293\n",
            " 0.39726478 0.3981657  0.39748356 0.4002378  0.41307107 0.44055226\n",
            " 0.48314762 0.53757107 0.59729582 0.65301037 0.69459993 0.71464854\n",
            " 0.71128362 0.68877333 0.65612388 0.62443489 0.60324794 0.59671319\n",
            " 0.60255277 0.61490691 0.62733179 0.63403529]\n",
            "29 day output [[0.6305774]]\n",
            "[[0.41583433747291565], [0.39554762840270996], [0.38376736640930176], [0.37980523705482483], [0.3818151354789734], [0.387233167886734], [0.3932229280471802], [0.3972647786140442], [0.3981657028198242], [0.39748355746269226], [0.4002377986907959], [0.41307106614112854], [0.4405522644519806], [0.48314762115478516], [0.5375710725784302], [0.5972958207130432], [0.653010368347168], [0.6945999264717102], [0.7146485447883606], [0.7112836241722107], [0.6887733340263367], [0.6561238765716553], [0.6244348883628845], [0.6032479405403137], [0.5967131853103638], [0.6025527715682983], [0.614906907081604], [0.6273317933082581], [0.6340352892875671], [0.6305773854255676]]\n"
          ],
          "name": "stdout"
        }
      ]
    },
    {
      "cell_type": "code",
      "metadata": {
        "id": "rsiFv__ZD_ro"
      },
      "source": [
        "day_new=np.arange(1,101)\n",
        "day_pred=np.arange(101,131)    #101,131"
      ],
      "execution_count": 56,
      "outputs": []
    },
    {
      "cell_type": "code",
      "metadata": {
        "colab": {
          "base_uri": "https://localhost:8080/"
        },
        "id": "cHBHX-xqD_Sz",
        "outputId": "72772a0a-bc71-4d8a-b461-fb966208fb7b"
      },
      "source": [
        "import matplotlib.pyplot as plt\n",
        "len(df1)"
      ],
      "execution_count": 57,
      "outputs": [
        {
          "output_type": "execute_result",
          "data": {
            "text/plain": [
              "503"
            ]
          },
          "metadata": {
            "tags": []
          },
          "execution_count": 57
        }
      ]
    },
    {
      "cell_type": "code",
      "metadata": {
        "id": "FdcDMRefE5ZY"
      },
      "source": [
        "\n"
      ],
      "execution_count": 39,
      "outputs": []
    },
    {
      "cell_type": "code",
      "metadata": {
        "colab": {
          "base_uri": "https://localhost:8080/",
          "height": 282
        },
        "id": "khrrRHiwE5RN",
        "outputId": "e6b9c00c-3f10-45c1-963d-bc8ec10de89a"
      },
      "source": [
        "plt.plot(day_new,scaler.inverse_transform(df1[403:]))\n",
        "plt.plot(day_pred,scaler.inverse_transform(lst_output))"
      ],
      "execution_count": 58,
      "outputs": [
        {
          "output_type": "execute_result",
          "data": {
            "text/plain": [
              "[<matplotlib.lines.Line2D at 0x7fac6a08a850>]"
            ]
          },
          "metadata": {
            "tags": []
          },
          "execution_count": 58
        },
        {
          "output_type": "display_data",
          "data": {
            "image/png": "[encoded data removed]",
            "text/plain": [
              "<Figure size 432x288 with 1 Axes>"
            ]
          },
          "metadata": {
            "tags": [],
            "needs_background": "light"
          }
        }
      ]
    },
    {
      "cell_type": "code",
      "metadata": {
        "colab": {
          "base_uri": "https://localhost:8080/",
          "height": 282
        },
        "id": "0UI75xPvG1XN",
        "outputId": "f160296e-71ce-4302-d61b-c65f01ac93cb"
      },
      "source": [
        "df3=df1.tolist()\n",
        "df3.extend(lst_output)\n",
        "plt.plot(df3[300:])"
      ],
      "execution_count": 59,
      "outputs": [
        {
          "output_type": "execute_result",
          "data": {
            "text/plain": [
              "[<matplotlib.lines.Line2D at 0x7fac6a14bc50>]"
            ]
          },
          "metadata": {
            "tags": []
          },
          "execution_count": 59
        },
        {
          "output_type": "display_data",
          "data": {
            "image/png": "[encoded data removed]",
            "text/plain": [
              "<Figure size 432x288 with 1 Axes>"
            ]
          },
          "metadata": {
            "tags": [],
            "needs_background": "light"
          }
        }
      ]
    },
    {
      "cell_type": "code",
      "metadata": {
        "colab": {
          "base_uri": "https://localhost:8080/"
        },
        "id": "ibSrx7phsl8N",
        "outputId": "ceed7e19-845b-4844-a6f3-203e863186dc"
      },
      "source": [
        "from sklearn.metrics import mean_squared_error, r2_score, mean_absolute_error\n",
        "print('R2 Score: ', r2_score(ytest,test_predict))\n",
        "print('MAE: ', mean_absolute_error(ytest,test_predict))\n",
        "#print('R2 Score: ', r2_score(day_new,day_pred))\n",
        "#print('MAE: ', mean_absolute_error(day_new,day_pred))"
      ],
      "execution_count": 60,
      "outputs": [
        {
          "output_type": "stream",
          "text": [
            "R2 Score:  -299605745.65940356\n",
            "MAE:  3399.9256873213726\n"
          ],
          "name": "stdout"
        }
      ]
    },
    {
      "cell_type": "code",
      "metadata": {
        "colab": {
          "base_uri": "https://localhost:8080/"
        },
        "id": "f8fba6NtXZRT",
        "outputId": "16bccbe4-219f-41ec-b132-1aae10fdd377"
      },
      "source": [
        "def evaluate_prediction(predictions, actual, model_name):\n",
        "    errors = predictions - actual\n",
        "    mse = np.square(errors).mean()\n",
        "    rmse = np.sqrt(mse)\n",
        "    mae = np.abs(errors).mean()\n",
        "\n",
        "    print(model_name + ':')\n",
        "    print('Mean Absolute Error: {:.4f}'.format(mae))\n",
        "    print('Root Mean Square Error: {:.4f}'.format(rmse))\n",
        "    print('')\n",
        "\n",
        "#evaluate_prediction(day_pred, day_new, 'LSTM')\n",
        "evaluate_prediction(ytest,test_predict,'lstm')"
      ],
      "execution_count": 61,
      "outputs": [
        {
          "output_type": "stream",
          "text": [
            "lstm:\n",
            "Mean Absolute Error: 3399.9257\n",
            "Root Mean Square Error: 3407.7355\n",
            "\n"
          ],
          "name": "stdout"
        }
      ]
    },
    {
      "cell_type": "code",
      "metadata": {
        "colab": {
          "base_uri": "https://localhost:8080/"
        },
        "id": "3rX80d4x2Ry8",
        "outputId": "9a1164bc-5b4d-4fcb-e179-90b7f9f50c60"
      },
      "source": [
        "df1.mean()"
      ],
      "execution_count": 44,
      "outputs": [
        {
          "output_type": "execute_result",
          "data": {
            "text/plain": [
              "0.5609402191256109"
            ]
          },
          "metadata": {
            "tags": []
          },
          "execution_count": 44
        }
      ]
    },
    {
      "cell_type": "code",
      "metadata": {
        "colab": {
          "base_uri": "https://localhost:8080/"
        },
        "id": "xCrckaQC2Yqm",
        "outputId": "988c25bd-8b65-4998-e64c-439d48239334"
      },
      "source": [
        "from sklearn.metrics import mean_squared_error\n",
        "from math import sqrt\n",
        "#rmse=sqrt(mean_squared_error(day_new,day_pred))\n",
        "rmse=sqrt(mean_squared_error(ytest,test_predict))\n",
        "print(rmse)"
      ],
      "execution_count": 62,
      "outputs": [
        {
          "output_type": "stream",
          "text": [
            "3407.724828131348\n"
          ],
          "name": "stdout"
        }
      ]
    },
    {
      "cell_type": "code",
      "metadata": {
        "id": "O5wlUjz_6ugr"
      },
      "source": [
        "import numpy as np\n",
        "\n",
        "def mape(actual, pred): \n",
        "    actual, pred = np.array(actual), np.array(pred)\n",
        "    return np.mean(np.abs((actual - pred) / actual))*100"
      ],
      "execution_count": 63,
      "outputs": []
    },
    {
      "cell_type": "code",
      "metadata": {
        "colab": {
          "base_uri": "https://localhost:8080/"
        },
        "id": "YCcyn6YE6wrX",
        "outputId": "539f1039-212d-4e32-8263-459c814130b4"
      },
      "source": [
        "mape(ytest,test_predict)\n",
        "#mape(X_test,ytest)\n",
        "#mape(day_new,day_pred)"
      ],
      "execution_count": 64,
      "outputs": [
        {
          "output_type": "execute_result",
          "data": {
            "text/plain": [
              "671614.945739113"
            ]
          },
          "metadata": {
            "tags": []
          },
          "execution_count": 64
        }
      ]
    },
    {
      "cell_type": "code",
      "metadata": {
        "colab": {
          "base_uri": "https://localhost:8080/",
          "height": 493
        },
        "id": "gBePV87YvtGz",
        "outputId": "d0e95676-5aa9-47a7-d872-100df7277e79"
      },
      "source": [
        "correlation_matrix=np.corrcoef(ytest,test_predict)\n",
        "#correlation_matrix = np.corrcoef(day_new,day_pred)\n",
        "correlation_xy = correlation_matrix[0,1]\n",
        "r_squared = correlation_xy**2\n",
        "\n",
        "print(r_squared)"
      ],
      "execution_count": 65,
      "outputs": [
        {
          "output_type": "error",
          "ename": "ValueError",
          "evalue": "ignored",
          "traceback": [
            "\u001b[0;31m---------------------------------------------------------------------------\u001b[0m",
            "\u001b[0;31mValueError\u001b[0m                                Traceback (most recent call last)",
            "\u001b[0;32m<ipython-input-65-495dc5b81fde>\u001b[0m in \u001b[0;36m<module>\u001b[0;34m()\u001b[0m\n\u001b[0;32m----> 1\u001b[0;31m \u001b[0mcorrelation_matrix\u001b[0m\u001b[0;34m=\u001b[0m\u001b[0mnp\u001b[0m\u001b[0;34m.\u001b[0m\u001b[0mcorrcoef\u001b[0m\u001b[0;34m(\u001b[0m\u001b[0mytest\u001b[0m\u001b[0;34m,\u001b[0m\u001b[0mtest_predict\u001b[0m\u001b[0;34m)\u001b[0m\u001b[0;34m\u001b[0m\u001b[0;34m\u001b[0m\u001b[0m\n\u001b[0m\u001b[1;32m      2\u001b[0m \u001b[0;31m#correlation_matrix = np.corrcoef(day_new,day_pred)\u001b[0m\u001b[0;34m\u001b[0m\u001b[0;34m\u001b[0m\u001b[0;34m\u001b[0m\u001b[0m\n\u001b[1;32m      3\u001b[0m \u001b[0mcorrelation_xy\u001b[0m \u001b[0;34m=\u001b[0m \u001b[0mcorrelation_matrix\u001b[0m\u001b[0;34m[\u001b[0m\u001b[0;36m0\u001b[0m\u001b[0;34m,\u001b[0m\u001b[0;36m1\u001b[0m\u001b[0;34m]\u001b[0m\u001b[0;34m\u001b[0m\u001b[0;34m\u001b[0m\u001b[0m\n\u001b[1;32m      4\u001b[0m \u001b[0mr_squared\u001b[0m \u001b[0;34m=\u001b[0m \u001b[0mcorrelation_xy\u001b[0m\u001b[0;34m**\u001b[0m\u001b[0;36m2\u001b[0m\u001b[0;34m\u001b[0m\u001b[0;34m\u001b[0m\u001b[0m\n\u001b[1;32m      5\u001b[0m \u001b[0;34m\u001b[0m\u001b[0m\n",
            "\u001b[0;32m<__array_function__ internals>\u001b[0m in \u001b[0;36mcorrcoef\u001b[0;34m(*args, **kwargs)\u001b[0m\n",
            "\u001b[0;32m/usr/local/lib/python3.7/dist-packages/numpy/lib/function_base.py\u001b[0m in \u001b[0;36mcorrcoef\u001b[0;34m(x, y, rowvar, bias, ddof)\u001b[0m\n\u001b[1;32m   2549\u001b[0m         warnings.warn('bias and ddof have no effect and are deprecated',\n\u001b[1;32m   2550\u001b[0m                       DeprecationWarning, stacklevel=3)\n\u001b[0;32m-> 2551\u001b[0;31m     \u001b[0mc\u001b[0m \u001b[0;34m=\u001b[0m \u001b[0mcov\u001b[0m\u001b[0;34m(\u001b[0m\u001b[0mx\u001b[0m\u001b[0;34m,\u001b[0m \u001b[0my\u001b[0m\u001b[0;34m,\u001b[0m \u001b[0mrowvar\u001b[0m\u001b[0;34m)\u001b[0m\u001b[0;34m\u001b[0m\u001b[0;34m\u001b[0m\u001b[0m\n\u001b[0m\u001b[1;32m   2552\u001b[0m     \u001b[0;32mtry\u001b[0m\u001b[0;34m:\u001b[0m\u001b[0;34m\u001b[0m\u001b[0;34m\u001b[0m\u001b[0m\n\u001b[1;32m   2553\u001b[0m         \u001b[0md\u001b[0m \u001b[0;34m=\u001b[0m \u001b[0mdiag\u001b[0m\u001b[0;34m(\u001b[0m\u001b[0mc\u001b[0m\u001b[0;34m)\u001b[0m\u001b[0;34m\u001b[0m\u001b[0;34m\u001b[0m\u001b[0m\n",
            "\u001b[0;32m<__array_function__ internals>\u001b[0m in \u001b[0;36mcov\u001b[0;34m(*args, **kwargs)\u001b[0m\n",
            "\u001b[0;32m/usr/local/lib/python3.7/dist-packages/numpy/lib/function_base.py\u001b[0m in \u001b[0;36mcov\u001b[0;34m(m, y, rowvar, bias, ddof, fweights, aweights)\u001b[0m\n\u001b[1;32m   2413\u001b[0m         \u001b[0;32mif\u001b[0m \u001b[0;32mnot\u001b[0m \u001b[0mrowvar\u001b[0m \u001b[0;32mand\u001b[0m \u001b[0my\u001b[0m\u001b[0;34m.\u001b[0m\u001b[0mshape\u001b[0m\u001b[0;34m[\u001b[0m\u001b[0;36m0\u001b[0m\u001b[0;34m]\u001b[0m \u001b[0;34m!=\u001b[0m \u001b[0;36m1\u001b[0m\u001b[0;34m:\u001b[0m\u001b[0;34m\u001b[0m\u001b[0;34m\u001b[0m\u001b[0m\n\u001b[1;32m   2414\u001b[0m             \u001b[0my\u001b[0m \u001b[0;34m=\u001b[0m \u001b[0my\u001b[0m\u001b[0;34m.\u001b[0m\u001b[0mT\u001b[0m\u001b[0;34m\u001b[0m\u001b[0;34m\u001b[0m\u001b[0m\n\u001b[0;32m-> 2415\u001b[0;31m         \u001b[0mX\u001b[0m \u001b[0;34m=\u001b[0m \u001b[0mnp\u001b[0m\u001b[0;34m.\u001b[0m\u001b[0mconcatenate\u001b[0m\u001b[0;34m(\u001b[0m\u001b[0;34m(\u001b[0m\u001b[0mX\u001b[0m\u001b[0;34m,\u001b[0m \u001b[0my\u001b[0m\u001b[0;34m)\u001b[0m\u001b[0;34m,\u001b[0m \u001b[0maxis\u001b[0m\u001b[0;34m=\u001b[0m\u001b[0;36m0\u001b[0m\u001b[0;34m)\u001b[0m\u001b[0;34m\u001b[0m\u001b[0;34m\u001b[0m\u001b[0m\n\u001b[0m\u001b[1;32m   2416\u001b[0m \u001b[0;34m\u001b[0m\u001b[0m\n\u001b[1;32m   2417\u001b[0m     \u001b[0;32mif\u001b[0m \u001b[0mddof\u001b[0m \u001b[0;32mis\u001b[0m \u001b[0;32mNone\u001b[0m\u001b[0;34m:\u001b[0m\u001b[0;34m\u001b[0m\u001b[0;34m\u001b[0m\u001b[0m\n",
            "\u001b[0;32m<__array_function__ internals>\u001b[0m in \u001b[0;36mconcatenate\u001b[0;34m(*args, **kwargs)\u001b[0m\n",
            "\u001b[0;31mValueError\u001b[0m: all the input array dimensions for the concatenation axis must match exactly, but along dimension 1, the array at index 0 has size 76 and the array at index 1 has size 1"
          ]
        }
      ]
    }
  ]
}